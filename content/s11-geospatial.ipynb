{
 "cells": [
  {
   "cell_type": "markdown",
   "metadata": {},
   "source": [
    "# 11. WORKING WITH GEOSPATIAL DATA \n",
    "(_35min_)"
   ]
  },
  {
   "cell_type": "markdown",
   "metadata": {},
   "source": [
    "## 11.1 Module introduction\n",
    "\n",
    "- Storing geospatial data in `geoJSON` format\n",
    "- Querying geospatial data"
   ]
  },
  {
   "cell_type": "markdown",
   "metadata": {},
   "source": [
    "---"
   ]
  },
  {
   "cell_type": "markdown",
   "metadata": {},
   "source": [
    "## 11.2 Adding geoJSON data\n",
    "\n",
    "1. [GeoJSON Objects](https://www.mongodb.com/docs/manual/reference/geojson/)"
   ]
  },
  {
   "cell_type": "markdown",
   "metadata": {},
   "source": [
    "> MongoDB supports the GeoJSON object types listed on this page.\n",
    "> \n",
    "> \n",
    "> To specify GeoJSON data, use an embedded document with:\n",
    "> \n",
    "> - a field named `type` that specifies the GeoJSON object type, and\n",
    "> - a field named `coordinates` that specifies the object's coordinates.\n",
    "> \n",
    "> ```jsx\n",
    "> <field>: {type: <GeoJSON type> , coordinates: <coordinates> }\n",
    "> ```\n",
    "> \n",
    "> **Important**\n",
    "> \n",
    "> If specifying latitude and longitude coordinates, list the **longitude** first, and then **latitude**.\n",
    "> \n",
    "> - Valid longitude values are between -`180` and `180`, both inclusive.\n",
    "> - Valid latitude values are between -`90` and `90`, both inclusive.\n",
    "> \n",
    "> MongoDB geospatial queries on GeoJSON objects calculate on a sphere; MongoDB uses the [**WGS84**](https://www.mongodb.com/docs/manual/reference/glossary/#std-term-WGS84) reference system for geospatial queries on GeoJSON objects.\n",
    ">\n",
    "\n",
    "- **Exemplo de inserção de documento**:"
   ]
  },
  {
   "cell_type": "code",
   "execution_count": null,
   "metadata": {
    "vscode": {
     "languageId": "javascript"
    }
   },
   "outputs": [],
   "source": [
    "// use awesomeplaces\n",
    " \n",
    "// California Academy of Sciences -> @37.7698688,-122.4686696\n",
    "db.places.insertOne(\n",
    " \t{ name: \"California Academy of Sciences\", \n",
    "  \t\tlocation:\n",
    " \t\t\t{ type: \"Point\", \n",
    " \t\t\t\tcoordinates: [ -122.4686696, 37.7698688 ]\n",
    " \t\t\t}\n",
    " \t} ) //  ObjectId('67f7a9bee66a059843b71236'"
   ]
  },
  {
   "cell_type": "markdown",
   "metadata": {},
   "source": [
    "---"
   ]
  },
  {
   "cell_type": "markdown",
   "metadata": {},
   "source": [
    "## 11.3 Running Geo queries"
   ]
  },
  {
   "cell_type": "markdown",
   "metadata": {},
   "source": [
    "> Specifies a point for which a [**geospatial**](https://www.mongodb.com/docs/manual/reference/glossary/#std-term-geospatial) query returns the documents from nearest to farthest. The [**`$near`**](https://www.mongodb.com/docs/manual/reference/operator/query/near/#mongodb-query-op.-near) operator can specify either a [**GeoJSON**](https://www.mongodb.com/docs/manual/reference/glossary/#std-term-GeoJSON) point or legacy coordinate point.\n",
    "> \n",
    "> \n",
    "> [**`$near`**](https://www.mongodb.com/docs/manual/reference/operator/query/near/#mongodb-query-op.-near) requires a geospatial index:\n",
    "> \n",
    "> - [**2dsphere**](https://www.mongodb.com/docs/manual/core/indexes/index-types/geospatial/2dsphere/#std-label-2dsphere-index) index if specifying a [**GeoJSON**](https://www.mongodb.com/docs/manual/reference/glossary/#std-term-GeoJSON) point.\n",
    "> - [**2d**](https://www.mongodb.com/docs/manual/core/indexes/index-types/geospatial/2d/#std-label-2d-index) index if specifying a point using legacy coordinates.\n",
    "> \n",
    "> To specify a [**GeoJSON**](https://www.mongodb.com/docs/manual/reference/glossary/#std-term-GeoJSON) point, [**`$near`**](https://www.mongodb.com/docs/manual/reference/operator/query/near/#mongodb-query-op.-near) operator requires a [**2dsphere**](https://www.mongodb.com/docs/manual/core/indexes/index-types/geospatial/2dsphere/#std-label-2dsphere-index) index and has the following syntax:\n",
    "> \n",
    "> ``` javascript\n",
    "> { <location field>: \n",
    "> \t{ $near:\n",
    "> \t\t{ $geometry: \n",
    "> \t\t\t{ type: \"Point\", \n",
    "> \t\t\t\tcoordinates: [ <longitude> , <latitude> ]\n",
    "> \t\t\t},\n",
    "> \t\t$maxDistance: <distance in meters>,\n",
    "> \t\t$minDistance: <distance in meters>\n",
    "> \t\t}\n",
    "> \t}\n",
    "> }\n",
    "> ```\n",
    ">"
   ]
  },
  {
   "cell_type": "code",
   "execution_count": null,
   "metadata": {
    "vscode": {
     "languageId": "javascript"
    }
   },
   "outputs": [],
   "source": [
    "// fake user location: @37.7706554,-122.470751\n",
    "db.places.find( { location: { $near: { $geometry: { type: \"Point\", coordinates: [ -122.470751, 37.7706554 ] } } } } )"
   ]
  },
  {
   "cell_type": "markdown",
   "metadata": {},
   "source": [
    "- A tentativa de inserção acima retornou o erro abaixo:"
   ]
  },
  {
   "cell_type": "code",
   "execution_count": null,
   "metadata": {
    "vscode": {
     "languageId": "shellscript"
    }
   },
   "outputs": [],
   "source": [
    "Uncaught:\n",
    "MongoServerError[NoQueryExecutionPlans]: error processing query: ns=awesomeplaces.placesTree: GEONEAR  field=location maxdist=1.79769e+308 isNearSphere=0\n",
    "Sort: {}\n",
    "Proj: {}\n",
    " planner returned error :: caused by :: unable to find index for $geoNear query"
   ]
  },
  {
   "cell_type": "markdown",
   "metadata": {},
   "source": [
    "---"
   ]
  },
  {
   "cell_type": "markdown",
   "metadata": {},
   "source": [
    "## 11.4 Adding a geospatial index to track de distance\n",
    "\n",
    "1. [Geospatial Indexes](https://www.mongodb.com/docs/manual/core/indexes/index-types/index-geospatial/#geospatial-indexes)\n",
    "2. [Geospatial Indexes Restrictions](https://www.mongodb.com/docs/manual/core/indexes/index-types/geospatial/restrictions/#geospatial-index-restrictions)\n",
    "3. [Geospatial Indexes: `$maxDistance`](https://www.mongodb.com/docs/manual/reference/operator/query/maxDistance/#-maxdistance)\n",
    "4. [Geospatial Indexes: `$minDistance`](https://www.mongodb.com/docs/manual/reference/operator/query/minDistance/#-mindistance)"
   ]
  },
  {
   "cell_type": "markdown",
   "metadata": {},
   "source": [
    "- Após a criação do index, a inserção de um documento com conteúdo geoespacial ocorre com sucesso."
   ]
  },
  {
   "cell_type": "code",
   "execution_count": null,
   "metadata": {
    "vscode": {
     "languageId": "javascript"
    }
   },
   "outputs": [],
   "source": [
    "db.places.createIndex( { location: \"2dsphere\" } ) // location_2dsphere\n",
    "db.places.find( { location: { $near: { $geometry: { type: \"Point\", coordinates: [ -122.470751, 37.7706554 ] } } } } ) // now it works\n",
    "\n",
    "// fake user location: @37.7706554,-122.470751\n",
    "db.places.find( { location: { $near: { $geometry: { type: \"Point\", coordinates: [ -122.470751, 37.7706554 ] }, $maxDistance: 500, $minDistance: 10 } } } )"
   ]
  },
  {
   "cell_type": "markdown",
   "metadata": {},
   "source": [
    "---"
   ]
  },
  {
   "cell_type": "markdown",
   "metadata": {},
   "source": [
    "## 11.5 Adding additional locations"
   ]
  },
  {
   "cell_type": "code",
   "execution_count": null,
   "metadata": {
    "vscode": {
     "languageId": "javascript"
    }
   },
   "outputs": [],
   "source": [
    "// Conservatory of Flowers: @37.7715904,-122.466894\n",
    "db.places.insertOne(\n",
    "\t{ name: \"Conservatory of Flowers\", \n",
    "\t\tlocation:\n",
    "\t\t\t{ type: \"Point\", \n",
    "\t\t\t\tcoordinates: [ -122.466894, 37.7715904 ]\n",
    "\t\t\t}\n",
    "\t} )\n",
    "\n",
    "// Golden Gate Park - East: @37.7710052,-122.464244\n",
    "db.places.insertOne(\n",
    "\t{ name: \"Golden Gate Park - East\", \n",
    "\t\tlocation:\n",
    "\t\t\t{ type: \"Point\", \n",
    "\t\t\t\tcoordinates: [ -122.464244, 37.7710052 ]\n",
    "\t\t\t}\n",
    "\t} )\n",
    "    \n",
    "// Universidade de São Francisco: @37.7756017,-122.4574848\n",
    "db.places.insertOne(\n",
    "\t{ name: \"University of San Francisco\", \n",
    "\t\tlocation:\n",
    "\t\t\t{ type: \"Point\", \n",
    "\t\t\t\tcoordinates: [ -122.4574848, 37.7756017 ]\n",
    "\t\t\t}\n",
    "\t} )"
   ]
  },
  {
   "cell_type": "markdown",
   "metadata": {},
   "source": [
    "---"
   ]
  },
  {
   "cell_type": "markdown",
   "metadata": {},
   "source": [
    "## 11.6 Finding places inside a certain AREA\n",
    "\n",
    "1. [`$geoWithin`](https://www.mongodb.com/docs/manual/reference/operator/query/geoWithin/#-geowithin)\n",
    "2. [Query for Locations Bound by a Polygon](https://www.mongodb.com/docs/manual/core/indexes/index-types/geospatial/2dsphere/query/geojson-bound-by-polygon/#query-for-locations-bound-by-a-polygon)"
   ]
  },
  {
   "cell_type": "markdown",
   "metadata": {},
   "source": [
    "- Query para verificar se determinada coordenada se encontra dentro de uma área específica\n",
    "    - Área: caixa com extremidades pontuadas em amarelo\n",
    "    - Locais dentro da área: pontuados em verde\n",
    "    - Local fora da área: pontuado em vermelho\n",
    "\n",
    "<img src=\"imgs\\s11\\s11-1.png\" width=800 height=300 >"
   ]
  },
  {
   "cell_type": "markdown",
   "metadata": {},
   "source": [
    "- A query abaixo deve retornar somente 3 locais dos 4 existentes na coleção \"places\", pois somente 3 locais estão dentro da área delimitada pelo poligono passado\n",
    "- Note que, ao repassar as coordenadas, o ponto \"p1\" é repetido no final. Isto é necessário, pois um polígono espera o ponto inicial para saber que todos os valores já foram recebidos."
   ]
  },
  {
   "cell_type": "code",
   "execution_count": null,
   "metadata": {
    "vscode": {
     "languageId": "javascript"
    }
   },
   "outputs": [],
   "source": [
    "// 1st: 37.77469, -122.45475\n",
    "// 2nd: 37.76643, -122.45292\n",
    "// 3rd: 37.76421, -122.51021\n",
    "// 4th: 37.77134, -122.51088\n",
    "\n",
    "const p1 = [ -122.45475, 37.77469 ]\n",
    "const p2 = [ -122.45292, 37.76643 ]\n",
    "const p3 = [ -122.51021, 37.76421 ]\n",
    "const p4 = [ -122.51088, 37.77134 ]\n",
    "\n",
    "db.places.find( { location: { $geoWithin: { $geometry: {type: \"Polygon\", coordinates: [ [ p1, p2, p3, p4, p1 ]]}}}})"
   ]
  },
  {
   "cell_type": "markdown",
   "metadata": {},
   "source": [
    "---"
   ]
  },
  {
   "cell_type": "markdown",
   "metadata": {},
   "source": [
    "## 11.7 Finding out if a user is inside a specific AREA\n",
    "\n",
    "- [Query for Locations that Intersect a GeoJSON Object](https://www.mongodb.com/docs/manual/core/indexes/index-types/geospatial/2dsphere/query/intersections-of-geojson-objects/#query-for-locations-that-intersect-a-geojson-object)\n",
    "- [`$geoIntersects`](https://www.mongodb.com/docs/manual/reference/operator/query/geoIntersects/#-geointersects)"
   ]
  },
  {
   "cell_type": "markdown",
   "metadata": {},
   "source": [
    "<img src=\"imgs\\s11\\s11-2.png\" width=800 height=300 >"
   ]
  },
  {
   "cell_type": "markdown",
   "metadata": {},
   "source": [
    "- Vamos criar uma coleção para armazenarmos as \"áreas\" e inserir a área do \"Golden Gate Park\" nela"
   ]
  },
  {
   "cell_type": "code",
   "execution_count": null,
   "metadata": {
    "vscode": {
     "languageId": "javascript"
    }
   },
   "outputs": [],
   "source": [
    "// user location inside the area: 37.76869, -122.49166\n",
    "\n",
    "db.areas.insertOne( { name: \"Golden Gate Park\", area: {type: \"Polygon\", coordinates: [ [ p1, p2, p3, p4, p1 ]]} })"
   ]
  },
  {
   "cell_type": "markdown",
   "metadata": {},
   "source": [
    "- Agora vamos executar uma query para verificar se o usuário está dentro da área\n",
    "- Primeiro, é necessário criar um index"
   ]
  },
  {
   "cell_type": "code",
   "execution_count": null,
   "metadata": {
    "vscode": {
     "languageId": "javascript"
    }
   },
   "outputs": [],
   "source": [
    "db.areas.createIndex( { area: \"2dsphere\" }) // area_2dsphere\n",
    "\n",
    "db.areas.find( { area: { $geoIntersects: { $geometry: { type: \"Point\", coordinates: [ -122.49166, 37.76869 ]}}}})"
   ]
  },
  {
   "cell_type": "markdown",
   "metadata": {},
   "source": [
    "<img src=\"imgs\\s11\\s11-3.png\" width=800 height=300 >"
   ]
  },
  {
   "cell_type": "code",
   "execution_count": null,
   "metadata": {
    "vscode": {
     "languageId": "javascript"
    }
   },
   "outputs": [],
   "source": [
    "// user location outside the area: 37.75736, -122.48306\n",
    "\n",
    "db.areas.find( { area: { $geoIntersects: { $geometry: { type: \"Point\", coordinates: [ -122.48306, 37.75736 ]}}}})"
   ]
  },
  {
   "cell_type": "markdown",
   "metadata": {},
   "source": [
    "- Como o usuário está fora da única área que temos cadastrada na coleção, a query não retorna nada"
   ]
  },
  {
   "cell_type": "markdown",
   "metadata": {},
   "source": [
    "---"
   ]
  },
  {
   "cell_type": "markdown",
   "metadata": {},
   "source": [
    "## 11.8 Finding places within a certain RADIUS\n",
    "\n",
    "1. [Query for Locations within a Circle on a Sphere](https://www.mongodb.com/docs/manual/core/indexes/index-types/geospatial/2dsphere/query/points-within-circle-on-sphere/#query-for-locations-within-a-circle-on-a-sphere)\n",
    "2. [`$centerSphere`](https://www.mongodb.com/docs/manual/reference/operator/query/centerSphere/#-centersphere)"
   ]
  },
  {
   "cell_type": "markdown",
   "metadata": {},
   "source": [
    "> Defines a circle for a geospatial query that uses spherical geometry. The query returns documents that are within the bounds of the circle.\n",
    ">\n",
    ">You can use the $centerSphere operator on both GeoJSON objects and legacy coordinate pairs.\n",
    "> \n",
    "> To use `$centerSphere`, specify an array that contains:\n",
    "> The grid coordinates of the circle's center point, and\n",
    "> \n",
    "> The circle's radius measured in radians. To calculate radians, see [Convert Distance to Radians for Spherical Operators](https://www.mongodb.com/docs/manual/core/indexes/index-types/geospatial/2d/calculate-distances/#std-label-calculate-distance-spherical-geometry)\n",
    "\n",
    "<img src=\"imgs\\s11\\s11-4.png\" width=550 height=350 >"
   ]
  },
  {
   "cell_type": "code",
   "execution_count": null,
   "metadata": {
    "vscode": {
     "languageId": "javascript"
    }
   },
   "outputs": [],
   "source": [
    "// Angler's Lodge - Golden Gate Park: 37.76804, -122.49665\n",
    "// Bison Paddock: 37.76969, -122.49823\n",
    "// Bercut Equitation Field: 37.76647, -122.50129\n",
    "// Radius-User: 37.76865, -122.49908\n",
    "\n",
    "db.places.insertMany( [\n",
    "\t{ name: \"Angler's Lodge - Golden Gate Park\", \n",
    "\t\tlocation:\n",
    "\t\t\t{ type: \"Point\", \n",
    "\t\t\t\tcoordinates: [ -122.49665, 37.76804 ]\n",
    "\t\t\t}\n",
    "\t},\n",
    "    { name: \"Bison Paddock\", \n",
    "\t\tlocation:\n",
    "\t\t\t{ type: \"Point\", \n",
    "\t\t\t\tcoordinates: [ -122.49823, 37.76969 ]\n",
    "\t\t\t}\n",
    "\t},\n",
    "    { name: \"Bercut Equitation Field\", \n",
    "\t\tlocation:\n",
    "\t\t\t{ type: \"Point\", \n",
    "\t\t\t\tcoordinates: [ -122.50129, 37.76647 ]\n",
    "\t\t\t}\n",
    "\t}\n",
    "] )"
   ]
  },
  {
   "cell_type": "markdown",
   "metadata": {},
   "source": [
    "- A query abaixo retorna somente 2 resultados:\n",
    "\n",
    "``` javascript\n",
    "[\n",
    "  {\n",
    "    _id: ObjectId('67f81047e66a059843b7123b'),\n",
    "    name: \"Angler's Lodge - Golden Gate Park\",\n",
    "    location: { type: 'Point', coordinates: [ -122.49665, 37.76804 ] }\n",
    "  },\n",
    "  {\n",
    "    _id: ObjectId('67f81047e66a059843b7123c'),\n",
    "    name: 'Bison Paddock',\n",
    "    location: { type: 'Point', coordinates: [ -122.49823, 37.76969 ] }\n",
    "  }\n",
    "]\n",
    "```"
   ]
  },
  {
   "cell_type": "code",
   "execution_count": null,
   "metadata": {
    "vscode": {
     "languageId": "javascript"
    }
   },
   "outputs": [],
   "source": [
    "// user location for radius activity: 37.76865, -122.49908\n",
    "\n",
    "db.places.find( { location: { $geoWithin: { $centerSphere: [ [ -122.49908, 37.76865 ], 0.3 / 6378.1 ]}}}) // 0.3/6378.1 = 300 metros"
   ]
  },
  {
   "cell_type": "markdown",
   "metadata": {},
   "source": [
    "- Os outros locais existentes na coleção estão há mais de 300mts do usuário definido\n",
    "\n",
    "<img src=\"imgs\\s11\\s11-5.png\" width=400 height=250 >"
   ]
  },
  {
   "cell_type": "markdown",
   "metadata": {},
   "source": [
    "---"
   ]
  },
  {
   "cell_type": "markdown",
   "metadata": {},
   "source": [
    "## 11.9 Assignment: Time to Practice - Geospatial Data"
   ]
  },
  {
   "cell_type": "markdown",
   "metadata": {},
   "source": [
    "1. Pick 3 points on Google Maps and store them in a collection\n",
    "2. Pick a point and find the nearest points within a min and max distance\n",
    "3. Pick an area and see which points (that are stored in your collection) it contains\n",
    "4. Store at least one area in a different collection\n",
    "5. Pick a point and find out which areas in your collection contain that point"
   ]
  },
  {
   "cell_type": "markdown",
   "metadata": {},
   "source": [
    "### 11.9.1. Pick 3 points on Google Maps and store them in a collection"
   ]
  },
  {
   "cell_type": "code",
   "execution_count": null,
   "metadata": {
    "vscode": {
     "languageId": "javascript"
    }
   },
   "outputs": [],
   "source": [
    "// FIT: -23.42344, -47.36487\n",
    "// Flex: -23.42964, -47.36755\n",
    "// ABB: -23.42625, -47.36313\n",
    "\n",
    "// use assign9\n",
    "\n",
    "db.places.createIndex( {location: \"2dsphere\"} ) //location_2dsphere\n",
    "\n",
    "db.places.insertMany( [ \n",
    "    { name: \"FIT\", location: { type: \"Point\", coordinates: [ -47.36487, -23.42344 ] } },\n",
    "    { name: \"Flex\", location: { type: \"Point\", coordinates: [ -47.36755, -23.42964 ] } },\n",
    "    { name: \"ABB\", location: { type: \"Point\", coordinates: [ -47.36313, -23.42625 ] } }\n",
    "] )"
   ]
  },
  {
   "cell_type": "markdown",
   "metadata": {},
   "source": [
    "<img src=\"imgs\\s11\\s11-7.png\" width=600 height=300 >"
   ]
  },
  {
   "cell_type": "markdown",
   "metadata": {},
   "source": [
    "### 11.9.2 Pick a point and find the nearest points within a min and max distance\n"
   ]
  },
  {
   "cell_type": "code",
   "execution_count": null,
   "metadata": {
    "vscode": {
     "languageId": "javascript"
    }
   },
   "outputs": [],
   "source": [
    "// Nextracker: -23.42801, -47.3644\n",
    "\n",
    "db.places.find( \n",
    "    { location: \n",
    "        { $near: \n",
    "            { $geometry: \n",
    "                { type: \"Point\", coordinates: [ -47.3644, -23.42801 ] },\n",
    "                $maxDistance: 300,\n",
    "                $minDistance: 50    \n",
    "            }\n",
    "        }\n",
    "    }\n",
    ")"
   ]
  },
  {
   "cell_type": "markdown",
   "metadata": {},
   "source": [
    "- Resultado da query acima:\n",
    "    - 1 retorno, pois somente a localização \"ABB\" está a mais de 50mt e menos de 300mt da localização \"Nextracker\""
   ]
  },
  {
   "cell_type": "code",
   "execution_count": null,
   "metadata": {
    "vscode": {
     "languageId": "javascript"
    }
   },
   "outputs": [],
   "source": [
    "[\n",
    "    {\n",
    "      _id: ObjectId('67f902dedd7a1b5c78b71238'),\n",
    "      name: 'ABB',\n",
    "      location: { type: 'Point', coordinates: [ -47.36313, -23.42625 ] }\n",
    "    }\n",
    "  ]"
   ]
  },
  {
   "cell_type": "markdown",
   "metadata": {},
   "source": [
    "### 11.9.3. Pick an area and see which points (that are stored in your collection) it contains"
   ]
  },
  {
   "cell_type": "markdown",
   "metadata": {},
   "source": [
    "<img src=\"imgs\\s11\\s11-8.png\" width=600 height=300 >"
   ]
  },
  {
   "cell_type": "code",
   "execution_count": null,
   "metadata": {
    "vscode": {
     "languageId": "javascript"
    }
   },
   "outputs": [],
   "source": [
    "// Nextracker: -23.42801, -47.3644\n",
    "db.places.insertOne( { name: \"Nextracker\", location: { type: \"Point\", coordinates: [ -47.3644, -23.42801 ] } } )\n",
    "\n",
    "// p1: -23.4236, -47.36357\n",
    "// p2: -23.42636, -47.36149\n",
    "// p3: -23.43067, -47.36784\n",
    "// p4: -23.42847, -47.37084\n",
    "\n",
    "const p1 = [-47.36357, -23.4236]\n",
    "const p2 = [-47.36149, -23.42636]\n",
    "const p3 = [-47.36784, -23.43067]\n",
    "const p4 = [-47.37084, -23.42847]\n",
    "\n",
    "db.places.find( { location: { $geoWithin: { $geometry: { type: \"Polygon\", coordinates: [ [ p1, p2, p3, p4, p1 ] ] } } } } )"
   ]
  },
  {
   "cell_type": "markdown",
   "metadata": {},
   "source": [
    "- Resultado da query acima:\n",
    "    - 3 retornos, pois somente as localizações \"ABB\", \"Flex\" e \"Nextracker\" estão dentro da área do poligono repassado\n",
    "    - A localização \"FIT\" está claramente fora da área"
   ]
  },
  {
   "cell_type": "code",
   "execution_count": null,
   "metadata": {
    "vscode": {
     "languageId": "javascript"
    }
   },
   "outputs": [],
   "source": [
    "[\n",
    "  {\n",
    "    _id: ObjectId('67f902dedd7a1b5c78b71237'),\n",
    "    name: 'Flex',\n",
    "    location: { type: 'Point', coordinates: [ -47.36755, -23.42964 ] }\n",
    "  },\n",
    "  {\n",
    "    _id: ObjectId('67f902dedd7a1b5c78b71238'),\n",
    "    name: 'ABB',\n",
    "    location: { type: 'Point', coordinates: [ -47.36313, -23.42625 ] }\n",
    "  },\n",
    "  {\n",
    "    _id: ObjectId('67f90991dd7a1b5c78b71239'),\n",
    "    name: 'Nextracker',\n",
    "    location: { type: 'Point', coordinates: [ -47.3644, -23.42801 ] }\n",
    "  }\n",
    "]"
   ]
  },
  {
   "cell_type": "markdown",
   "metadata": {},
   "source": [
    "### 11.9.4 Store at least one area in a different collection\n"
   ]
  },
  {
   "cell_type": "code",
   "execution_count": null,
   "metadata": {
    "vscode": {
     "languageId": "javascript"
    }
   },
   "outputs": [],
   "source": [
    "// p1: -23.4236, -47.36357\n",
    "// p2: -23.42636, -47.36149\n",
    "// p3: -23.43067, -47.36784\n",
    "// p4: -23.42847, -47.37084\n",
    "\n",
    "const p1 = [-47.36357, -23.4236]\n",
    "const p2 = [-47.36149, -23.42636]\n",
    "const p3 = [-47.36784, -23.43067]\n",
    "const p4 = [-47.37084, -23.42847]\n",
    "\n",
    "db.areas.createIndex( { area: \"2dsphere\" } ) // area_2dsphere\n",
    "\n",
    "db.areas.insertOne( { name: \"Flex Area\", location: { type: \"Polygon\", coordinates: [ [ p1, p2, p3, p4, p1 ]]}})"
   ]
  },
  {
   "cell_type": "markdown",
   "metadata": {},
   "source": [
    "### 11.9.5 Pick a point and find out which areas in your collection contain that point"
   ]
  },
  {
   "cell_type": "markdown",
   "metadata": {},
   "source": [
    "<img src=\"imgs\\s11\\s11-9.png\" width=500 height=300 >"
   ]
  },
  {
   "cell_type": "code",
   "execution_count": null,
   "metadata": {
    "vscode": {
     "languageId": "javascript"
    }
   },
   "outputs": [],
   "source": [
    "// newPoint: -23.42695, -47.36696\n",
    "\n",
    "db.areas.find( { location: { $geoIntersects: { $geometry: { type: \"Point\", coordinates: [ -47.36696, -23.42695 ]}}}})"
   ]
  },
  {
   "cell_type": "markdown",
   "metadata": {},
   "source": [
    "- Resultado da query acima:\n",
    "    - 1 retorno, pois a localização do \"newPoint\" está dentro da área existente na coleção \"areas\"\n",
    "    - Se o ponto estivesse fora dessa única área, o retorno seria vazio\n",
    "    - Se o ponto estivesse dentro de mais de uma área cadastrada, todas as áreas dentro da localização seriam retornadas"
   ]
  },
  {
   "cell_type": "code",
   "execution_count": null,
   "metadata": {
    "vscode": {
     "languageId": "javascript"
    }
   },
   "outputs": [],
   "source": [
    "[\n",
    "    {\n",
    "      _id: ObjectId('67f90c1fdd7a1b5c78b7123a'),\n",
    "      name: 'Flex Area',\n",
    "      location: {\n",
    "        type: 'Polygon',\n",
    "        coordinates: [\n",
    "          [\n",
    "            [ -47.36357, -23.4236 ],\n",
    "            [ -47.36149, -23.42636 ],\n",
    "            [ -47.36784, -23.43067 ],\n",
    "            [ -47.37084, -23.42847 ],\n",
    "            [ -47.36357, -23.4236 ]\n",
    "          ]\n",
    "        ]\n",
    "      }\n",
    "    }\n",
    "  ]"
   ]
  },
  {
   "cell_type": "markdown",
   "metadata": {},
   "source": [
    "---"
   ]
  },
  {
   "cell_type": "markdown",
   "metadata": {},
   "source": [
    "## 11.10 Wrap up"
   ]
  },
  {
   "cell_type": "markdown",
   "metadata": {},
   "source": [
    "<img src=\"imgs\\s11\\s11-6.png\" width=800 height=400 >"
   ]
  },
  {
   "cell_type": "markdown",
   "metadata": {},
   "source": [
    "---"
   ]
  },
  {
   "cell_type": "markdown",
   "metadata": {},
   "source": [
    "## 11.11 Useful Resources & Links"
   ]
  },
  {
   "cell_type": "markdown",
   "metadata": {},
   "source": [
    ">Helpful Articles/ Docs:\n",
    ">\n",
    ">- Official Geospatial Docs: https://docs.mongodb.com/manual/geospatial-queries/\n",
    ">- Geospatial Query Operators: https://docs.mongodb.com/manual/reference/operator/query-geospatial/"
   ]
  }
 ],
 "metadata": {
  "language_info": {
   "name": "python"
  }
 },
 "nbformat": 4,
 "nbformat_minor": 2
}
