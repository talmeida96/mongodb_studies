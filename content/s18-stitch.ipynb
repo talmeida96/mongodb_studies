{
 "cells": [
  {
   "cell_type": "markdown",
   "metadata": {},
   "source": [
    "# 18. INTRODUCING STITCH\n",
    "\n",
    "(_1h07min_)"
   ]
  },
  {
   "cell_type": "markdown",
   "metadata": {},
   "source": [
    "## 18.1 Module introducion"
   ]
  },
  {
   "cell_type": "markdown",
   "metadata": {},
   "source": [
    "- What is Stitch?\n",
    "- Using Stitch"
   ]
  },
  {
   "cell_type": "markdown",
   "metadata": {},
   "source": [
    "---"
   ]
  },
  {
   "cell_type": "markdown",
   "metadata": {},
   "source": [
    "## 18.2 Stitch & MongoDB Realm"
   ]
  },
  {
   "cell_type": "markdown",
   "metadata": {},
   "source": [
    "> MongoDB Stitch is now labeled \"MongoDB Realm\".\n",
    ">\n",
    ">The web console also looks a bit different but it works as shown and the code we write also will work as shown - make sure to use the same package as we're installing in the coming lecture (mongodb-stitch-browser-sdk).<br>\n",
    "One thing that is a bit hidden now => The \"Clients\" tab which you'll see in the next lectures can now be found under \"Clusters\" => \"Working with your Cluster\"."
   ]
  },
  {
   "cell_type": "markdown",
   "metadata": {},
   "source": [
    "---"
   ]
  },
  {
   "cell_type": "markdown",
   "metadata": {},
   "source": [
    "## 18.3 What is Stitch?"
   ]
  },
  {
   "cell_type": "markdown",
   "metadata": {},
   "source": [
    "<img src=\"..\\imgs\\s18\\s18-1.png\" width=600 height=350 >"
   ]
  },
  {
   "cell_type": "markdown",
   "metadata": {},
   "source": [
    "<img src=\"..\\imgs\\s18\\s18-2.png\" width=800 height=150 >\n",
    "<br>\n",
    "<img src=\"..\\imgs\\s18\\s18-3.png\" width=800 height=350 >"
   ]
  },
  {
   "cell_type": "markdown",
   "metadata": {},
   "source": [
    "---"
   ]
  },
  {
   "cell_type": "markdown",
   "metadata": {},
   "source": [
    "## 18.4 Preparations\n",
    "\n",
    "1. Resource folder: `stitch-01-starting-code`\n",
    "\n",
    "---\n",
    "\n",
    "## 18.5 Start Using Stitch\n",
    "\n",
    "---\n",
    "\n",
    "## 18.6 Adding Stitch to our app and initializing it\n",
    "\n",
    "---\n",
    "\n",
    "## 18.7 Adding Authentication\n",
    "\n",
    "---\n",
    "\n",
    "## 18.8 Sending data access rules\n",
    "\n",
    "---\n",
    "\n",
    "## 18.9 Fetching and converting data\n",
    "\n",
    "---\n",
    "\n",
    "## 18.10 Deleting products\n",
    "\n",
    "1. Resources Folder: `stitch-02-anonymous-auth-fetching-deleting`\n",
    "\n",
    "---\n",
    "\n",
    "## 18.11 Finding a single product\n",
    "\n",
    "1. Resources Folder: `stitch-03-fetch-product`\n",
    "\n",
    "---\n",
    "\n",
    "## 18.12 Adding products\n",
    "\n",
    "1. Resources Folder: `stitch-04-insert`\n",
    "\n",
    "---\n",
    "\n",
    "## 18.13 Updating products\n",
    "\n",
    "1. Resources Folder: `stitch-05-edit`\n",
    "\n",
    "---\n",
    "\n",
    "## 18.14 Switching to user email & Password Authentication\n",
    "\n",
    "---\n",
    "\n",
    "## 18.15 Adding User Sign Up & Confirmation\n",
    "\n",
    "---\n",
    "\n",
    "## 18.16 Adding User Login\n",
    "\n",
    "1. Resources Folder: `stitch-06-user-password-auth`\n",
    "\n",
    "---\n",
    "\n",
    "## 18.17 Rules and real users\n",
    "\n",
    "---"
   ]
  },
  {
   "cell_type": "markdown",
   "metadata": {},
   "source": [
    "## 18.18 The current state of authentication\n",
    "\n",
    "1. Resources Folder: `stitch-07-functions-triggers`\n",
    "\n",
    ">With the currently implemented authentication solution, we're NOT taking advantage of Stitch's automatically managed user tokens. Stitch does store the user tokens in the localStorage and it does detect whether a user is logged in (i.e. if such valid tokens can be found in localStorage) upon initialization.\n",
    "<br>\n",
    "But we're not using that in our app - instead, we always start off with isAuth: false in App.js.\n",
    "<br>\n",
    "You could of course change that!\n",
    "<br>\n",
    "You can add an auth listener (https://s3.amazonaws.com/stitch-sdks/js/docs/4/interfaces/stitchauth.html#addauthlistener) to Stitch in the constructor (or componentDidMount) of App.js:\n",
    "<br>\n",
    "\n",
    "``` javascript\n",
    "Stitch.defaultAppClient.auth.addAuthListener(auth => {\n",
    "    this.setState({isAuth: auth.isLoggedIn});\n",
    "})\n",
    "```\n",
    "\n",
    "---\n",
    "\n",
    "## 18.19 Functions & Triggers"
   ]
  },
  {
   "cell_type": "markdown",
   "metadata": {},
   "source": [
    "---"
   ]
  },
  {
   "cell_type": "markdown",
   "metadata": {},
   "source": [
    "## 18.20 Wrap up\n",
    "\n",
    "---"
   ]
  },
  {
   "cell_type": "markdown",
   "metadata": {},
   "source": [
    "## 18.21 Useful resources and links\n",
    "\n",
    "> Helpful Articles/ Docs:\n",
    ">\n",
    "> - Official Stitch Docs: https://docs.mongodb.com/stitch/\n",
    "> - Complete Stitch Username + Password Auth Flow: https://docs.mongodb.com/stitch/authentication/userpass/\n",
    "> - Stitch Services (e.g. AWS S3): https://docs.mongodb.com/stitch/reference/partner-services/amazon-service/"
   ]
  },
  {
   "cell_type": "markdown",
   "metadata": {},
   "source": [
    "---"
   ]
  },
  {
   "cell_type": "markdown",
   "metadata": {},
   "source": [
    "# 19. ROUND UP\n",
    "\n",
    "> I got a lot of other high-quality & bestselling courses you might be interested in: https://academind.com/learn/our-courses/\n",
    "> \n",
    "> I'd love to welcome you on board of any of these courses! :-)\n",
    ">\n",
    "> Also don't forget to subscribe to my newsletter on https://academind.com/ to receive the latest updates and exclusive offers!\n",
    ">\n",
    "> And in case you didn't know: On the same page as well as on my YouTube channel I got loads of additional tutorials.\n",
    "> \n",
    "> Last but not least - I tweet on @maxedapps and on @academind_real, would love to see you there!"
   ]
  }
 ],
 "metadata": {
  "language_info": {
   "name": "python"
  }
 },
 "nbformat": 4,
 "nbformat_minor": 2
}
