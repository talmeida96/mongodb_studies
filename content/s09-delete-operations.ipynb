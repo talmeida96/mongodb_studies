{
 "cells": [
  {
   "cell_type": "markdown",
   "id": "1c20c980",
   "metadata": {},
   "source": [
    "# 9. UNDERSTANDING DELETE OPERATIONS\n",
    "\n",
    "(_7min_)"
   ]
  },
  {
   "cell_type": "markdown",
   "id": "9bb8b55b",
   "metadata": {},
   "source": [
    "## 9.1 Understanding \"deleteOne()\" and \"deleteMany()\"\n",
    "\n",
    "- [Delete Methods](https://www.mongodb.com/docs/manual/reference/delete-methods/#delete-methods)"
   ]
  },
  {
   "cell_type": "code",
   "execution_count": null,
   "id": "4ef5c18b",
   "metadata": {
    "vscode": {
     "languageId": "javascript"
    }
   },
   "outputs": [],
   "source": [
    "db.users.deleteOne( { name: \"John\" } ) \n",
    "\n",
    "db.users.deleteMany( { totalAge: { $gt: 30 }, isSporty: true } )\n",
    "\n",
    "db.users.deleteMany( { totalAge: { $exists: false }, isSporty: true } )"
   ]
  },
  {
   "cell_type": "markdown",
   "id": "860865c8",
   "metadata": {},
   "source": [
    "---"
   ]
  },
  {
   "cell_type": "markdown",
   "id": "3154248c",
   "metadata": {},
   "source": [
    "## 9.2 Deleting all entries in a collection"
   ]
  },
  {
   "cell_type": "code",
   "execution_count": null,
   "id": "17a2246f",
   "metadata": {
    "vscode": {
     "languageId": "javascript"
    }
   },
   "outputs": [],
   "source": [
    "db.users.deleteMany( { } ) //will delete all the docs in the collection\n",
    "\n",
    "db.users.drop() // used only in the shell\n",
    "\n",
    "db.dropDatabase() // drop the Users database"
   ]
  },
  {
   "cell_type": "markdown",
   "id": "7fd8d79b",
   "metadata": {},
   "source": [
    "---"
   ]
  },
  {
   "cell_type": "markdown",
   "id": "f20884f9",
   "metadata": {},
   "source": [
    "## 9.3 Useful resources and links"
   ]
  },
  {
   "cell_type": "markdown",
   "id": "d19e9e8e",
   "metadata": {},
   "source": [
    "> Helpful Articles/ Docs:\n",
    "> \n",
    "> - Official Document Deletion Docs: https://docs.mongodb.com/manual/tutorial/remove-documents/"
   ]
  }
 ],
 "metadata": {
  "language_info": {
   "name": "python"
  }
 },
 "nbformat": 4,
 "nbformat_minor": 5
}
