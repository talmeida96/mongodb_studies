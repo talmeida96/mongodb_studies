{
 "cells": [
  {
   "cell_type": "markdown",
   "id": "1eb329ad",
   "metadata": {},
   "source": [
    "# 10. WORKING WITH INDEXES\n",
    "\n",
    "(_1h35min_)"
   ]
  },
  {
   "cell_type": "markdown",
   "id": "b1c2a9a9",
   "metadata": {},
   "source": [
    "## 10.1 Module introduction"
   ]
  },
  {
   "cell_type": "markdown",
   "id": "39292fca",
   "metadata": {},
   "source": [
    "- What are indexes?\n",
    "- Different types of indexes\n",
    "- Using & optimizing indexes"
   ]
  },
  {
   "cell_type": "markdown",
   "id": "cc4ce3e7",
   "metadata": {},
   "source": [
    "---"
   ]
  },
  {
   "cell_type": "markdown",
   "id": "e78ac1fb",
   "metadata": {},
   "source": [
    "## 10.2 What are indexes and why we use them?\n",
    "\n",
    "- [Create Index](https://www.mongodb.com/docs/atlas/atlas-search/create-index/)"
   ]
  },
  {
   "cell_type": "markdown",
   "id": "e5b9d7e2",
   "metadata": {},
   "source": [
    "<img src=\"..\\imgs\\s10\\s10-1.png\" width=700 height=400 >"
   ]
  },
  {
   "cell_type": "markdown",
   "id": "60fdbf1e",
   "metadata": {},
   "source": [
    "- Cada vez que um novo documento é inserido na collection, o index é atualizado\n",
    "- Então se há muitos indexes em uma coleção, os inserts se tornarão mais demorados/terão menos performance\n",
    "\n",
    "<img src=\"..\\imgs\\s10\\s10-2.png\" width=700 height=400 >"
   ]
  },
  {
   "cell_type": "markdown",
   "id": "5522ad46",
   "metadata": {},
   "source": [
    "---"
   ]
  },
  {
   "cell_type": "markdown",
   "id": "e14db344",
   "metadata": {},
   "source": [
    "## 10.3 Adding a single field index\n",
    "\n",
    "- [Explain](https://www.mongodb.com/docs/manual/reference/command/explain/#explain)\n",
    "- [Create Index](https://www.mongodb.com/docs/manual/reference/command/createIndexes/)"
   ]
  },
  {
   "cell_type": "markdown",
   "id": "c48f6163",
   "metadata": {},
   "source": [
    "> The [**`explain`**](https://www.mongodb.com/docs/manual/reference/command/explain/#mongodb-dbcommand-dbcmd.explain) command provides information on the execution of the following commands:\n",
    " [**`aggregate`**](https://www.mongodb.com/docs/manual/reference/command/aggregate/#mongodb-dbcommand-dbcmd.aggregate), [**`count`**](https://www.mongodb.com/docs/manual/reference/command/count/#mongodb-dbcommand-dbcmd.count), [**`distinct`**](https://www.mongodb.com/docs/manual/reference/command/distinct/#mongodb-dbcommand-dbcmd.distinct), [**`find`**](https://www.mongodb.com/docs/manual/reference/command/find/#mongodb-dbcommand-dbcmd.find), [**`findAndModify`**](https://www.mongodb.com/docs/manual/reference/command/findAndModify/#mongodb-dbcommand-dbcmd.findAndModify), [**`delete`**](https://www.mongodb.com/docs/manual/reference/command/delete/#mongodb-dbcommand-dbcmd.delete), [**`mapReduce`**](https://www.mongodb.com/docs/manual/reference/command/mapReduce/#mongodb-dbcommand-dbcmd.mapReduce), and [**`update`.**](https://www.mongodb.com/docs/manual/reference/command/update/#mongodb-dbcommand-dbcmd.update)\n",
    "\n",
    "- https://www.mongodb.com/docs/manual/reference/explain-results/\n",
    "- **`executionStats` Mode** → https://www.mongodb.com/docs/manual/reference/command/explain/#executionstats-mode"
   ]
  },
  {
   "cell_type": "code",
   "execution_count": null,
   "id": "837655ca",
   "metadata": {
    "vscode": {
     "languageId": "powershell"
    }
   },
   "outputs": [],
   "source": [
    "mongoimport persons.json -d contactData -c contacts --jsonArray --drop"
   ]
  },
  {
   "cell_type": "code",
   "execution_count": null,
   "id": "d320b023",
   "metadata": {
    "vscode": {
     "languageId": "javascript"
    }
   },
   "outputs": [],
   "source": [
    "db.contacts.find( { \"dob.age\": { $gt: 60 } } )\n",
    "\n",
    "db.contacts.explain().find( { \"dob.age\": { $gt: 60 } } )\n",
    "\n",
    "db.contacts.explain(\"executionStats\").find( { \"dob.age\": { $gt: 60 } } ) // also show the time the query took to return results"
   ]
  },
  {
   "cell_type": "code",
   "execution_count": null,
   "id": "413b2796",
   "metadata": {
    "vscode": {
     "languageId": "javascript"
    }
   },
   "outputs": [],
   "source": [
    "db.contacts.createIndex( { \"dob.age\": 1 } )\n",
    "\n",
    "db.contacts.explain(\"executionStats\").find( { \"dob.age\": { $gt: 60 } } )"
   ]
  },
  {
   "cell_type": "markdown",
   "id": "87fd8fbc",
   "metadata": {},
   "source": [
    "---"
   ]
  },
  {
   "cell_type": "markdown",
   "id": "7961889d",
   "metadata": {},
   "source": [
    "## 10.4 Indexes behind the scene"
   ]
  },
  {
   "cell_type": "markdown",
   "id": "b6b10e22",
   "metadata": {},
   "source": [
    "> What does `createIndex()` do in detail?\n",
    "> \n",
    "> \n",
    "> Whilst we can't really see the index, you can think of the index as a simple list of values + pointers to the original document.\n",
    "> \n",
    "> Something like this (for the \"age\" field):\n",
    "> \n",
    "> `(29, \"address in memory/ collection a1\")`\n",
    "> \n",
    "> `(30, \"address in memory/ collection a2\")`\n",
    "> \n",
    "> `(33, \"address in memory/ collection a3\")`\n",
    "> \n",
    "> The documents in the collection would be at the \"addresses\" `a1`, `a2` and `a3`. The order does not have to match the order in the index (and most likely, it indeed won't).\n",
    "> \n",
    "> The important thing is that the index items are **ordered** (ascending or descending - depending on how you created the index). \n",
    "> `createIndex({age: 1})` creates an index with **ascending sorting**, `createIndex({age: -1})` creates one with **descending** **sorting**.\n",
    "> \n",
    "> MongoDB is now able to quickly find a fitting document when you filter for its age as it has a sorted list. Sorted lists are way quicker to search because you can skip entire ranges (and don't have to look at every single document).\n",
    "> \n",
    "> Additionally, sorting (via `sort(...)`) will also be sped up because you already have a sorted list. Of course this is only true when sorting for the age.\n",
    ">"
   ]
  },
  {
   "cell_type": "markdown",
   "id": "aadd688e",
   "metadata": {},
   "source": [
    "---"
   ]
  },
  {
   "cell_type": "markdown",
   "id": "6fb77211",
   "metadata": {},
   "source": [
    "## 10.5 Understanding indexes restrictions"
   ]
  },
  {
   "cell_type": "markdown",
   "id": "2efa67c3",
   "metadata": {},
   "source": [
    "- https://www.mongodb.com/docs/manual/reference/command/dropIndexes/ "
   ]
  },
  {
   "cell_type": "code",
   "execution_count": null,
   "id": "5481bd2b",
   "metadata": {
    "vscode": {
     "languageId": "javascript"
    }
   },
   "outputs": [],
   "source": [
    "db.contacts.dropIndex( { \"dob.age\": 1 } )"
   ]
  },
  {
   "cell_type": "markdown",
   "id": "2ee2425e",
   "metadata": {},
   "source": [
    "---"
   ]
  },
  {
   "cell_type": "markdown",
   "id": "8f0da9bb",
   "metadata": {},
   "source": [
    "## 10.6 Creating compounding indexes \n",
    "\n",
    "- [Compound Index](https://www.mongodb.com/docs/manual/core/indexes/index-types/index-compound/#compound-indexes)"
   ]
  },
  {
   "cell_type": "markdown",
   "id": "b9fbb144",
   "metadata": {},
   "source": [
    "> Compound indexes collect and sort data from two or more fields in each document in a collection. \n",
    "Data is grouped by the first field in the index and then by each subsequent field.\n",
    "> \n",
    "> \n",
    "> For example, the following image shows a compound index where documents are first grouped by `userid` in ascending order (alphabetically).\n",
    "> Then, the `scores` for each `userid` are sorted in descending order:\n",
    "> \n",
    "> <img src=\"..\\imgs\\s10\\s10-3.png\" width=600 height=200 >\n",
    ">"
   ]
  },
  {
   "cell_type": "code",
   "execution_count": null,
   "id": "85acec15",
   "metadata": {
    "vscode": {
     "languageId": "javascript"
    }
   },
   "outputs": [],
   "source": [
    "db.contacts.createIndex({gender: 1})\n",
    "db.contacts.explain(\"executionStats\").find({ gender: \"male\" })\n",
    "db.contacts.dropIndex({gender: 1})\n",
    "\n",
    "// compound indexes:\n",
    "// cria 1 index com a combinação de 2 elementos, neste caso: \"age\" e \"gender\":\n",
    "db.contacts.createIndex( { \"dob.age\": 1, gender: 1 } ) // dob.age_1_gender_1\n",
    "\n",
    "// usando o index em numa query:\n",
    "db.contacts.explain().find( { \"dob.age\": 35, gender: \"male\" } )\n",
    "\n",
    "// o index pode ser usado para consultas que estão procurando ambos os campos do index, ou para consultas que procuram pelo primeiro campo\n",
    "// lendo \"da esquerda para a direita\", neste caso, consultas somente pelo \"dob.age\"\n",
    "// consultas somente pelo \"gender\", neste caso, não utilizaram do index\n",
    "db.contacts.explain().find( { \"dob.age\": 35 } )"
   ]
  },
  {
   "cell_type": "markdown",
   "id": "515e6098",
   "metadata": {},
   "source": [
    "---"
   ]
  },
  {
   "cell_type": "markdown",
   "id": "594d0628",
   "metadata": {},
   "source": [
    "## 10.7 Using indexes for sorting\n",
    "\n",
    "- [Use Indexes to Sort Query Results](https://www.mongodb.com/docs/manual/tutorial/sort-results-with-indexes/#use-indexes-to-sort-query-results)"
   ]
  },
  {
   "cell_type": "code",
   "execution_count": null,
   "id": "fbe6d86f",
   "metadata": {
    "vscode": {
     "languageId": "javascript"
    }
   },
   "outputs": [],
   "source": [
    "db.contacts.explain().find( { \"dob.age\": 35 } ).sort( { gender: 1 } ) "
   ]
  },
  {
   "cell_type": "markdown",
   "id": "89908811",
   "metadata": {},
   "source": [
    "---"
   ]
  },
  {
   "cell_type": "markdown",
   "id": "f029eb53",
   "metadata": {},
   "source": [
    "## 10.8 Understanding the default index \n",
    "\n",
    "- [getIndexes](https://www.mongodb.com/docs/manual/reference/method/db.collection.getIndexes)"
   ]
  },
  {
   "cell_type": "markdown",
   "id": "93b8b23c",
   "metadata": {},
   "source": [
    "> Returns an array that holds a list of documents that identify and describe the existing indexes on the collection, including [**hidden indexes**](https://www.mongodb.com/docs/manual/core/index-hidden/#std-label-index-type-hidden) and indexes that are currently being built.\n",
    "> \n",
    "> \n",
    "> You must call [**`db.collection.getIndexes()`**](https://www.mongodb.com/docs/manual/reference/method/db.collection.getIndexes/#mongodb-method-db.collection.getIndexes) on a collection. For example:\n",
    ">"
   ]
  },
  {
   "cell_type": "code",
   "execution_count": null,
   "id": "f2b1a5cf",
   "metadata": {
    "vscode": {
     "languageId": "javascript"
    }
   },
   "outputs": [],
   "source": [
    "db.contacts.getIndexes()"
   ]
  },
  {
   "cell_type": "markdown",
   "id": "ddaca062",
   "metadata": {},
   "source": [
    "---"
   ]
  },
  {
   "cell_type": "markdown",
   "id": "aecc8def",
   "metadata": {},
   "source": [
    "## 10.9 Configuring indexes \n",
    "\n",
    "- [Command fields](https://www.mongodb.com/docs/manual/reference/command/createIndexes/#command-fields)"
   ]
  },
  {
   "cell_type": "markdown",
   "id": "b3305fa5",
   "metadata": {},
   "source": [
    "> \n",
    "> \n",
    "> \n",
    "> \n",
    "> | `unique` | boolean | Optional. Creates a unique index so that the collection will not accept insertion or update of documents where the index key value matches an existing value in the index.\n",
    "> Specify `true` to create a unique index. The default value is `false`.\n",
    "> The option is *unavailable* for [**hashed**](https://www.mongodb.com/docs/manual/core/indexes/index-types/index-hashed/#std-label-index-hashed-index) indexes. |\n",
    "> | --- | --- | --- |"
   ]
  },
  {
   "cell_type": "code",
   "execution_count": null,
   "id": "f523cdba",
   "metadata": {
    "vscode": {
     "languageId": "javascript"
    }
   },
   "outputs": [],
   "source": [
    "db.contacts.findOne()\n",
    "\n",
    "db.contacts.createIndex( { email: 1 }, { unique: true } ) // no exemplo, acha um erro pq o email \"abigail.clark@example.com\" já é duplicado na collection"
   ]
  },
  {
   "cell_type": "markdown",
   "id": "565ed5c5",
   "metadata": {},
   "source": [
    "---"
   ]
  },
  {
   "cell_type": "markdown",
   "id": "030af251",
   "metadata": {},
   "source": [
    "## 10.10 Understanding partial indexes\n",
    "\n",
    "- [Partial Index](https://www.mongodb.com/docs/manual/core/index-partial/)"
   ]
  },
  {
   "cell_type": "markdown",
   "id": "e43aed08",
   "metadata": {},
   "source": [
    "> Partial indexes only index the documents in a collection that meet a specified filter expression. \n",
    "By indexing a subset of the documents in a collection, partial indexes have lower storage requirements and reduced performance costs for index creation and maintenance.\n",
    ">"
   ]
  },
  {
   "cell_type": "code",
   "execution_count": null,
   "id": "4cccb930",
   "metadata": {
    "vscode": {
     "languageId": "javascript"
    }
   },
   "outputs": [],
   "source": [
    "db.contacts.getIndexes()\n",
    "db.contacts.dropIndex( { \"dob.age\": 1, gender: 1 } )\n",
    "\n",
    "// criação de partial index:\n",
    "db.contacts.createIndex( { \"dob.age\": 1 }, { partialFilterExpression:  { \"dob.age\": { $gt: 60 } } } ) // dob.age_1\n",
    "\n",
    "db.contacts.createIndex( { \"dob.age\": 1 }, { partialFilterExpression:  { gender: \"male\" } } ) // outra possibilidade\n",
    "\n",
    "db.contacts.explain().find( { \"dob.age\": { $gt: 60 } } ) //  stage: 'IXSCAN'"
   ]
  },
  {
   "cell_type": "markdown",
   "id": "9e5871e9",
   "metadata": {},
   "source": [
    "---"
   ]
  },
  {
   "cell_type": "markdown",
   "id": "af9afe3b",
   "metadata": {},
   "source": [
    "## 10.11 Applying the partial index"
   ]
  },
  {
   "cell_type": "code",
   "execution_count": null,
   "id": "d40be292",
   "metadata": {
    "vscode": {
     "languageId": "javascript"
    }
   },
   "outputs": [],
   "source": [
    "db.users.insertMany( [ { name: \"Max\", email: \"max@test.com\" }, { name: \"Manu\" } ] )\n",
    "\n",
    "db.users.createIndex( { email: 1 } )\n",
    "db.users.dropIndex( { email: 1 } )\n",
    "\n",
    "db.users.createIndex( { email: 1 }, { unique: true } )\n",
    "\n",
    "db.users.insertOne( { name: \"Anna\" } ) // MongoServerError: E11000 duplicate key error collection: contactData.users index: email_1 dup key: { email: null }\n",
    "// o erro ocorre pq com essa inserção de \"Anna\" sem um email, existe o \"email: null\" 2x\n",
    "// o mongoDB trata \"non existing\" values como um valor no index\n",
    "\n",
    "db.users.dropIndex( { email: 1 } )\n",
    "\n",
    "// caso o correto seja permitir que o campo seja nulo em alguns documentos, mesmo com a chave de \"unique\":\n",
    "db.users.createIndex( { email: 1 }, { unique: true, partialFilterExpression: { email: { $exists: true } } } ) // só cria a chave de \"unique\" em casos onde o email não seja NULL\n",
    "\n",
    "db.users.insertOne( { name: \"Anna\" } ) // works\n",
    "db.users.insertOne( { name: \"Anna\" , email: \"max@test.com\"} ) // MongoServerError: E11000 duplicate key error collection: contactData.users index: email_1 dup key: { email: \"max@test.com\" }"
   ]
  },
  {
   "cell_type": "markdown",
   "id": "e72ba2f1",
   "metadata": {},
   "source": [
    "---"
   ]
  },
  {
   "cell_type": "markdown",
   "id": "23545015",
   "metadata": {},
   "source": [
    "## 10.12 Understanding the Time-To-Live (TTL) index \n",
    "\n",
    "- [Index TTL](https://www.mongodb.com/docs/manual/core/index-ttl/)"
   ]
  },
  {
   "cell_type": "markdown",
   "id": "51f1be1c",
   "metadata": {},
   "source": [
    "> TTL indexes are special single-field indexes that MongoDB can use to automatically remove documents from a collection after a certain amount of time or at a specific clock time. \n",
    "Data expiration is useful for certain types of information like machine generated event data, logs, and session information that only need to persist in a database for a finite amount of time.\n",
    ">"
   ]
  },
  {
   "cell_type": "code",
   "execution_count": null,
   "id": "3ed543a7",
   "metadata": {
    "vscode": {
     "languageId": "javascript"
    }
   },
   "outputs": [],
   "source": [
    "db.sessions.insertOne( { data: \"randomText\", createdAt: new Date() } )\n",
    "\n",
    "db.sessions.createIndex( { createdAt: 1 }, { expireAfterSeconds: 10 } )\n",
    "\n",
    "db.sessions.insertOne( { data: \"randomText2\", createdAt: new Date() } )"
   ]
  },
  {
   "cell_type": "markdown",
   "id": "fa6c1431",
   "metadata": {},
   "source": [
    "- Inserir um novo documento na collection ativa um trigger do mongoDB para reavaliar a collection e ver se há novos documentos expirados para exclusão, inclusive documentos criados antes da criação da regra do TTL"
   ]
  },
  {
   "cell_type": "markdown",
   "id": "4428c78b",
   "metadata": {},
   "source": [
    "---"
   ]
  },
  {
   "cell_type": "markdown",
   "id": "0ae1881c",
   "metadata": {},
   "source": [
    "## 10.13 Query diagnosis and query planning\n",
    "\n",
    "- [Explain](https://www.mongodb.com/docs/manual/reference/command/explain/)\n",
    "- [Explain Results](https://www.mongodb.com/docs/manual/reference/explain-results/)"
   ]
  },
  {
   "cell_type": "markdown",
   "id": "a43803c7",
   "metadata": {},
   "source": [
    "| **Field** | **Type** | **Description** |\n",
    "| --- | --- | --- |\n",
    "| `explain` | document | A document specifying the command for which to return the execution information.<br>For details on the specific command document, see [**`aggregate`**](https://www.mongodb.com/docs/manual/reference/command/aggregate/#mongodb-dbcommand-dbcmd.aggregate), [**`count`**](https://www.mongodb.com/docs/manual/reference/command/count/#mongodb-dbcommand-dbcmd.count), [**`distinct`**](https://www.mongodb.com/docs/manual/reference/command/distinct/#mongodb-dbcommand-dbcmd.distinct), [**`find`**](https://www.mongodb.com/docs/manual/reference/command/find/#mongodb-dbcommand-dbcmd.find), [**`findAndModify`**](https://www.mongodb.com/docs/manual/reference/command/findAndModify/#mongodb-dbcommand-dbcmd.findAndModify), [**`delete`**](https://www.mongodb.com/docs/manual/reference/command/delete/#mongodb-dbcommand-dbcmd.delete), [**`mapReduce`**](https://www.mongodb.com/docs/manual/reference/command/mapReduce/#mongodb-dbcommand-dbcmd.mapReduce), and [**`update`.**](https://www.mongodb.com/docs/manual/reference/command/update/#mongodb-dbcommand-dbcmd.update) |\n",
    "| `verbosity` | string | Optional.<br>A string specifying the mode in which to run [**`explain`**](https://www.mongodb.com/docs/manual/reference/command/explain/#mongodb-dbcommand-dbcmd.explain).<br>The mode affects the behavior of [**`explain`**](https://www.mongodb.com/docs/manual/reference/command/explain/#mongodb-dbcommand-dbcmd.explain) and determines the amount of information to return.\n",
    "The possible modes are:\n",
    "• `\"queryPlanner\"`\n",
    "• `\"executionStats\"`\n",
    "• `\"allPlansExecution\"` (Default)\n",
    "For more information on the modes, see [**explain behavior.**](https://www.mongodb.com/docs/manual/reference/command/explain/#std-label-explain-command-behavior) |\n",
    "| `comment` | any | Optional.<br>A user-provided comment to attach to this command.<br>Once set, this comment appears alongside records of this command in the following locations:\n",
    "• [**mongod log messages**](https://www.mongodb.com/docs/manual/reference/log-messages/#std-label-log-messages-ref), in the `attr.command.cursor.comment` field.\n",
    "• [**Database profiler**](https://www.mongodb.com/docs/manual/reference/database-profiler/#std-label-profiler) output, in the [**`command.comment`**](https://www.mongodb.com/docs/manual/reference/database-profiler/#mongodb-data-system.profile.command) field.\n",
    "• [**`currentOp`**](https://www.mongodb.com/docs/manual/reference/command/currentOp/#mongodb-dbcommand-dbcmd.currentOp) output, in the [**`command.comment`**](https://www.mongodb.com/docs/manual/reference/command/currentOp/#mongodb-data-currentOp.command) field.\n",
    "A comment can be any valid [**BSON type**](https://www.mongodb.com/docs/manual/reference/bson-types/#std-label-bson-types) (string, integer, object, array, etc).\n",
    "If you specify `explain` without a `comment`, it inherits any `comment` in the command specified to `explain`. |"
   ]
  },
  {
   "cell_type": "markdown",
   "id": "b497c10d",
   "metadata": {},
   "source": [
    "<img src=\"..\\imgs\\s10\\s10-4.png\" width=800 height=400 >\n",
    "<br>\n",
    "<img src=\"..\\imgs\\s10\\s10-5.png\" width=800 height=400 >"
   ]
  },
  {
   "cell_type": "markdown",
   "id": "fd275e22",
   "metadata": {},
   "source": [
    "---"
   ]
  },
  {
   "cell_type": "markdown",
   "id": "c86c9e09",
   "metadata": {},
   "source": [
    "## 10.14 Understanding covered queries\n",
    "\n",
    "- [Query optimization](https://www.mongodb.com/docs/manual/core/query-optimization/)"
   ]
  },
  {
   "cell_type": "code",
   "execution_count": null,
   "id": "b20f563a",
   "metadata": {
    "vscode": {
     "languageId": "javascript"
    }
   },
   "outputs": [],
   "source": [
    "db.customers.insertMany( [ { name: \"Max\", age: 29, salary: 3000 }, { name: \"Manu\", age: 30, salary: 4000 } ] )\n",
    "\n",
    "db.customers.createIndex( { name: 1 } ) // name_1\n",
    "\n",
    "//  totalKeysExamined: 1,    totalDocsExamined: 1,\n",
    "db.customers.explain(\"executionStats\").find( { name: \"Max\" } )\n",
    "\n",
    "//  totalKeysExamined: 1,    totalDocsExamined: 0,\n",
    "db.customers.explain(\"executionStats\").find( { name: \"Max\" }, { _id: 0, name: 1 } )"
   ]
  },
  {
   "cell_type": "markdown",
   "id": "772d3252",
   "metadata": {},
   "source": [
    "---"
   ]
  },
  {
   "cell_type": "markdown",
   "id": "74ab7568",
   "metadata": {},
   "source": [
    "## 10.15 How MongoDB reject plans\n",
    "\n",
    "- [Query plans](https://www.mongodb.com/docs/manual/core/query-plans/)"
   ]
  },
  {
   "cell_type": "markdown",
   "id": "676ef28b",
   "metadata": {},
   "source": [
    "> For any given query, the MongoDB query planner chooses and caches the most efficient query plan given the available indexes. \n",
    "To evaluate the efficiency of query plans, the query planner runs all candidate plans during a trial period. \n",
    "In general, the winning plan is the query plan that produces the most results during the trial period while performing the least amount of work.\n",
    "\n",
    "<img src=\"..\\imgs\\s10\\s10-6.png\" width=500 height=300 >\n",
    "<br>\n",
    "<img src=\"..\\imgs\\s10\\s10-7.png\" width=800 height=200 >"
   ]
  },
  {
   "cell_type": "code",
   "execution_count": null,
   "id": "9dfb1343",
   "metadata": {
    "vscode": {
     "languageId": "javascript"
    }
   },
   "outputs": [],
   "source": [
    "db.customers.getIndexes()\n",
    "// resultado:\n",
    "[\n",
    "  { v: 2, key: { _id: 1 }, name: '_id_' },\n",
    "  { v: 2, key: { name: 1 }, name: 'name_1' },\n",
    "]\n",
    "\n",
    "// criando novo index:\n",
    "db.customers.createIndex( { age: 1, name: 1 } ) // age_1_name_1\n",
    "\n",
    "db.customers.explain().find( { name: \"Max\", age: 30 } )\n",
    "// a ordem da query não importa neste caso, pois o index foi criado com AGE primeiro e NAME depois\n",
    "// este caso gerou um \"plano rejeitado\", no caso, usar o index \"name_1\" já existente\n",
    " rejectedPlans: [\n",
    "      {\n",
    "        isCached: false,\n",
    "        stage: 'FETCH',\n",
    "        filter: { age: { '$eq': 30 } },\n",
    "        inputStage: {\n",
    "          stage: 'IXSCAN',\n",
    "          keyPattern: { name: 1 },\n",
    "          indexName: 'name_1',\n",
    "          isMultiKey: false,\n",
    "          multiKeyPaths: { name: [] },\n",
    "          isUnique: false,\n",
    "          isSparse: false,\n",
    "          isPartial: false,\n",
    "          indexVersion: 2,\n",
    "          direction: 'forward',\n",
    "          indexBounds: { name: [ '[\"Max\", \"Max\"]' ] }\n",
    "        }\n",
    "      }\n",
    "    ]\n",
    "\n",
    "db.customers.explain(\"allPlansExecution\").find( { name: \"Max\", age: 30 } ) // details statistics para todos os planos, incluindo os rejeitados"
   ]
  },
  {
   "cell_type": "markdown",
   "id": "5d96e9d0",
   "metadata": {},
   "source": [
    "---"
   ]
  },
  {
   "cell_type": "markdown",
   "id": "228f9b4a",
   "metadata": {},
   "source": [
    "## 10.16 Using multi-key indexes\n",
    "\n",
    "- [Multi-key index](https://www.mongodb.com/docs/manual/core/indexes/index-types/index-multikey/)"
   ]
  },
  {
   "cell_type": "markdown",
   "id": "f95aeab4",
   "metadata": {},
   "source": [
    "> Multikey indexes collect and sort data from fields containing array values. Multikey indexes improve performance for queries on array fields.\n",
    "> \n",
    "> \n",
    "> You do not need to explicitly specify the multikey type. When you create an index on a field that contains an array value, MongoDB automatically sets that index to be a multikey index.\n",
    "> \n",
    "> MongoDB can create multikey indexes over arrays that hold both scalar values (for example, strings and numbers) and embedded documents. \n",
    "> If an array contains multiple instances of the same value, the index only includes one entry for the value.\n",
    ">"
   ]
  },
  {
   "cell_type": "code",
   "execution_count": null,
   "id": "0b1f77e1",
   "metadata": {
    "vscode": {
     "languageId": "javascript"
    }
   },
   "outputs": [],
   "source": [
    "db.contacts.drop()\n",
    "\n",
    "db.contacts.insertOne( { name: \"Max\", hobbies: [ \"Cooking\", \"Sports\" ], addresses: [ { street: \"Main Street\" }, { street: \"Second Street\" } ] } )\n",
    "\n",
    "// index an array:\n",
    "db.contacts.createIndex( { hobbies: 1 } ) // hobbies_1\n",
    "\n",
    "db.contacts.createIndex( { addresses: 1 } ) // addresses_1\n",
    "\n",
    "db.contacts.explain(\"executionStats\").find( { \"addresses.street\": \"Main Street\" } ) // used stage: 'COLLSCAN'\n",
    "// used stage: 'COLLSCAN'\n",
    "// isso ocorreu pq os nossos indexes contém todos os documentos da coleção\n",
    "\n",
    "db.contacts.explain(\"executionStats\").find( { addresses: { street: \"Main Street\" } } ) // stage: 'IXSCAN'\n",
    "\n",
    "db.contacts.createIndex( { \"addresses.street\": 1 } ) // also multikey index - > addresses.street_1\n",
    "db.contacts.explain(\"executionStats\").find( { \"addresses.street\": \"Main Street\" } ) // repeat\n",
    "// agora ele usou o stage: 'IXSCAN'"
   ]
  },
  {
   "cell_type": "markdown",
   "id": "4a02627e",
   "metadata": {},
   "source": [
    "- Restrictions:"
   ]
  },
  {
   "cell_type": "code",
   "execution_count": null,
   "id": "ed2b8a39",
   "metadata": {
    "vscode": {
     "languageId": "javascript"
    }
   },
   "outputs": [],
   "source": [
    "db.contacts.createIndex( { name: 1, hobbies: 1 } ) // compound index working with multikey index -> name_1_hobbies_1\n",
    "\n",
    "db.contacts.createIndex( { addresses: 1, hobbies: 1 } ) \n",
    "// MongoServerError[CannotIndexParallelArrays]: Index build failed: 080a3818-c7dc-465d-8d82-3173fd0a2bb4: Collection contactData.contacts ( b8450fbf-071a-425a-aefa-1bb02ed8dc55 ) :: \n",
    "// caused by :: collection scan stopped. totalRecords: 0; durationMillis: 13ms; phase: collection scan; collectionScanPosition: (None); readSource: kNoTimestamp :: \n",
    "// caused by :: cannot index parallel arrays [hobbies] [addresses]"
   ]
  },
  {
   "cell_type": "markdown",
   "id": "a574a04e",
   "metadata": {},
   "source": [
    "---"
   ]
  },
  {
   "cell_type": "markdown",
   "id": "16b9ad82",
   "metadata": {},
   "source": [
    "## 10.17 Understanding text index\n",
    "\n",
    "- [Text index](https://www.mongodb.com/docs/manual/core/indexes/index-types/index-text/)"
   ]
  },
  {
   "cell_type": "markdown",
   "id": "ca8270eb",
   "metadata": {},
   "source": [
    "> Text indexes support [**text search queries**](https://www.mongodb.com/docs/manual/text-search/#std-label-text-search) on fields that contain string content. Text indexes improve performance when you search for specific words or strings within string content.\n",
    "> \n",
    "> \n",
    "> A collection can only have **one** text index, but that index may include multiple fields.\n",
    "\n",
    "> The `$text` operator accepts a text query document with the following fields:\n",
    "> \n",
    "> \n",
    "> \n",
    "> | **Field** | **Type** | **Description** |\n",
    "> | --- | --- | --- |\n",
    "> | `$search` | string | A string of terms that MongoDB parses and uses to query the text index. MongoDB performs a logical `OR` query on the terms unless you specify the terms as an [**exact string**](https://www.mongodb.com/docs/manual/reference/operator/query/text/#std-label-text-operator-exact-string). For more information on the field, see [**Behavior**](https://www.mongodb.com/docs/manual/reference/operator/query/text/#std-label-text-query-operator-behavior). |\n",
    "> | `$language` | string | Optional. The language that determines the list of stop words for the query and the rules for the stemmer and tokenizer. If unspecified, MongoDB uses the default language of the index. \n",
    "> For supported languages, see [**Text Search Languages on Self-Managed Deployments.**](https://www.mongodb.com/docs/manual/reference/text-search-languages/#std-label-text-search-languages)\n",
    "> If you specify a `default_language` value of `none`, the text index parses through each word in the field, including stop words, and ignores suffix stemming. |\n",
    "> | `$caseSensitive` | boolean | Optional. A boolean flag to enable or disable case sensitivity. Defaults to `false`. If unspecified, MongoDB defers to the case insensitivity of the [**text**](https://www.mongodb.com/docs/manual/core/indexes/index-types/index-text/#std-label-index-type-text) index.\n",
    "> For more information, see [**Case Insensitivity.**](https://www.mongodb.com/docs/manual/reference/operator/query/text/#std-label-text-operator-case-sensitivity) |\n",
    "> | `$diacriticSensitive` | boolean | Optional. A boolean flag to enable or disable diacritic sensitivity against [**version 3 text indexes**](https://www.mongodb.com/docs/manual/core/indexes/index-types/index-text/#std-label-index-type-text). Defaults to `false`. If unspecified, MongoDB defers to the diacritic insensitivity of the [**text**](https://www.mongodb.com/docs/manual/core/indexes/index-types/index-text/#std-label-index-type-text) index.\n",
    "> Text queries against earlier versions of the text index are inherently diacritic sensitive and cannot be diacritic insensitive. As such, the `$diacriticSensitive` option has no effect with earlier versions of the `text` index.\n",
    "> For more information, see [**Diacritic Insensitivity.**](https://www.mongodb.com/docs/manual/reference/operator/query/text/#std-label-text-operator-diacritic-sensitivity) |\n",
    "\n",
    "\n",
    "<br>\n",
    "<img src=\"..\\imgs\\s10\\s10-8.png\" width=800 height=200 >\n",
    "\n",
    "- mongoDB removes the “stop words” and storage the key words only"
   ]
  },
  {
   "cell_type": "code",
   "execution_count": null,
   "id": "a6247b10",
   "metadata": {
    "vscode": {
     "languageId": "javascript"
    }
   },
   "outputs": [],
   "source": [
    "db.products.insertMany( [ \n",
    "\t{ title: \"A Book\", description: \"This is an awesome book about an young artist\" },\n",
    "\t{ title: \"Red T-Shirt\", description: \"This T-Shirt is red and it's pretty awesome\" }\n",
    "] )\n",
    "\n",
    "db.products.createIndex( { description: \"text\" } ) // description_text\n",
    "\n",
    "db.products.find( { $text: { $search: \"awesome\" } } ) // is not case-sensitive as everything is storage as lower case\n",
    "\n",
    "db.products.find( { $text: { $search: \"book\" } } )\n",
    "\n",
    "db.products.find( { $text: { $search: \"red book\" } } ) // retorna ambos os documentos, mesmo que cada palavra esteja individualmente em cada um deles\n",
    "\n",
    "db.products.find( { $text: { $search: \"\\\"awesome book\\\"\" } } ) // o operador \"\\\" é usado para procurar pela frase exata"
   ]
  },
  {
   "cell_type": "markdown",
   "id": "68a7423e",
   "metadata": {},
   "source": [
    "---"
   ]
  },
  {
   "cell_type": "markdown",
   "id": "36985afc",
   "metadata": {},
   "source": [
    "## 10.18 Text indexes and sorting\n",
    "\n",
    "- https://www.mongodb.com/docs/manual/reference/operator/aggregation/meta/ "
   ]
  },
  {
   "cell_type": "markdown",
   "id": "35202284",
   "metadata": {},
   "source": [
    "> Returns the metadata associated with a document, e.g. `\"textScore\"` when performing text search.\n",
    "> \n",
    "> \n",
    "> \n",
    "> | **Keyword** | **Description** |\n",
    "> | --- | --- |\n",
    "> | `\"textScore\"` | Returns the score associated with the corresponding [**`$text`**](https://www.mongodb.com/docs/manual/reference/operator/query/text/#mongodb-query-op.-text) query for each matching document.<br>The text score signifies how well the document matched the [**search term or terms.**](https://www.mongodb.com/docs/manual/reference/operator/query/text/#std-label-match-operation-stemmed-words)\n",
    "> `{ $meta: \"textScore\" }` must be used in conjunction with a `$text` query.\n",
    "> In earlier versions, if not used in conjunction with a `$text` query, returns a score of null.\n",
    "> `$text` provides text query capabilities for self-managed (non-Atlas) deployments. For data hosted on MongoDB Atlas, MongoDB offers an improved full-text query solution, [**Atlas Search.**](https://www.mongodb.com/docs/atlas/atlas-search/) |\n",
    "> | `\"indexKey\"` | Returns an index key for the document if a non-[**text**](https://www.mongodb.com/docs/manual/core/indexes/index-types/index-text/#std-label-index-type-text) index is used. <br>The `{ $meta: \"indexKey\" }` expression is for debugging purposes only, and not for application logic, and is preferred over [**`cursor.returnKey()`.**](https://www.mongodb.com/docs/manual/reference/method/cursor.returnKey/#mongodb-method-cursor.returnKey) |"
   ]
  },
  {
   "cell_type": "code",
   "execution_count": null,
   "id": "626eb1eb",
   "metadata": {
    "vscode": {
     "languageId": "javascript"
    }
   },
   "outputs": [],
   "source": [
    "db.products.find( { $text: { $search: \"awesome T-shirt\" } } )\n",
    "\n",
    "db.products.find( { $text: { $search: \"awesome T-shirt\" } }, { score: { $meta: \"textScore\"} } )\n",
    "\n",
    "db.products.find( { $text: { $search: \"awesome T-shirt\" } }, { score: { $meta: \"textScore\"} } ).sort( { score: { $meta: \"textScore\" } } )"
   ]
  },
  {
   "cell_type": "markdown",
   "id": "9749a65f",
   "metadata": {},
   "source": [
    "---"
   ]
  },
  {
   "cell_type": "markdown",
   "id": "153f4553",
   "metadata": {},
   "source": [
    "## 10.19 Creating combined text index\n",
    "\n",
    "- [Create a compound text index](https://www.mongodb.com/docs/manual/core/indexes/index-types/index-text/create-text-index/#create-a-compound-text-index)"
   ]
  },
  {
   "cell_type": "markdown",
   "id": "2e77052e",
   "metadata": {},
   "source": [
    "> You can index multiple fields in a single text index. A text index can contain up to 32 fields. To see an example, see [**Create a Compound Text Index.**](https://www.mongodb.com/docs/manual/core/indexes/index-types/index-text/create-text-index/#std-label-compound-text-index-example)\n",
    ">"
   ]
  },
  {
   "cell_type": "code",
   "execution_count": null,
   "id": "1aba43c8",
   "metadata": {
    "vscode": {
     "languageId": "javascript"
    }
   },
   "outputs": [],
   "source": [
    "db.products.getIndexes()\n",
    "\n",
    "db.products.dropIndex( \"description_text\" ) // drops by index name\n",
    "\n",
    "db.products.createIndex( { title: \"text\", description: \"text\" } ) // ainda existirá somente 1 \"text-index\" mas ele conterá o conteúdo dos 2 campos -> title_text_description_text\n",
    "\n",
    "db.products.insertOne( { title: \"A Ship\", description: \"Floats perfectly!\" } )\n",
    "\n",
    "db.products.find( { $text: { $search: \"ship\" } } )"
   ]
  },
  {
   "cell_type": "markdown",
   "id": "211af875",
   "metadata": {},
   "source": [
    "---"
   ]
  },
  {
   "cell_type": "markdown",
   "id": "d9a8e0c7",
   "metadata": {},
   "source": [
    "## 10.20 Using text indexes to exclude words"
   ]
  },
  {
   "cell_type": "code",
   "execution_count": null,
   "id": "9dc17c1b",
   "metadata": {
    "vscode": {
     "languageId": "javascript"
    }
   },
   "outputs": [],
   "source": [
    "// exemplo: retornar todos os resultados para \"awesome\" onde não exista tbm a palavra \"t-shirt\"\n",
    "db.products.find( { $text: { $search: \"awesome -t-shirt\" } } ) // -<word> significa que aquela palavra deve ser excluída da busca"
   ]
  },
  {
   "cell_type": "markdown",
   "id": "1f65c202",
   "metadata": {},
   "source": [
    "---"
   ]
  },
  {
   "cell_type": "markdown",
   "id": "30f44a50",
   "metadata": {},
   "source": [
    "## 10.21 Setting the default language and using weights\n",
    "\n",
    "- [Specify the Default Language for a Text Index on Self-Managed Deployments](https://www.mongodb.com/docs/manual/core/indexes/index-types/index-text/specify-text-index-language/#specify-the-default-language-for-a-text-index-on-self-managed-deployments)"
   ]
  },
  {
   "cell_type": "markdown",
   "id": "0f44e357",
   "metadata": {},
   "source": [
    "> By default, the `default_language` for text indexes is `english`. To improve the performance of non-English text search queries, you can specify a different default language associated with your text index.\n",
    "> \n",
    "> \n",
    "> The default language associated with the indexed data determines the suffix stemming rules. The default language also determines which language-specific stop words (for example, `the`, `an`, `a`, and `and` in English) are not indexed.\n",
    "> \n",
    "> To specify a different language, use the `default_language` option when creating the text index. To see the languages available for text indexing, see [**Text Search Languages on Self-Managed Deployments**](https://www.mongodb.com/docs/manual/reference/text-search-languages/#std-label-text-search-languages).\n",
    ">"
   ]
  },
  {
   "cell_type": "code",
   "execution_count": null,
   "id": "c70f1354",
   "metadata": {
    "vscode": {
     "languageId": "javascript"
    }
   },
   "outputs": [],
   "source": [
    "db.products.getIndexes()\n",
    "db.products.dropIndex( \"title_text_description_text\" )\n",
    "\n",
    "db.products.createIndex(\n",
    "\t{ title: \"text\", \n",
    "\t\tdescription: \"text\"\n",
    "\t}, \n",
    "\t{ default_language: \"english\", \n",
    "\t\tweights: \n",
    "\t\t\t{ title: 1, \n",
    "\t\t\t\tdescription: 10 } \n",
    "\t}\n",
    ") // title_text_description_text\n",
    "\n",
    "db.products.find( { $text: { $search: \"red\" } } )\n",
    "\n",
    "db.products.find( { $text: { $search: \"red\" } }, { score: { $meta: \"textScore\" } } ) // score: 6.666666666666667"
   ]
  },
  {
   "cell_type": "markdown",
   "id": "1b22527c",
   "metadata": {},
   "source": [
    "- [Assign Weights to Text Search Results on Self-Managed Deployments](https://www.mongodb.com/docs/manual/core/indexes/index-types/index-text/control-text-search-results/#assign-weights-to-text-search-results-on-self-managed-deployments)\n",
    "\n",
    "> When MongoDB returns text search results, it assigns a **score** to each returned document. The score indicates the relevance of the document to a given search query. \n",
    "You can sort returned documents by score to have the most relevant documents appear first in the result set.\n",
    "> \n",
    "> \n",
    "> If you have a [**compound index**](https://www.mongodb.com/docs/manual/core/indexes/index-types/index-compound/#std-label-index-type-compound) with multiple text index keys, you can specify different **weights** for each indexed field. \n",
    "> The weight of an indexed field indicates the significance of the field relative to the other indexed fields, with higher weights resulting in higher text search scores.\n",
    "> \n",
    "> For example, you can emphasize search matches on a `title` field if you know users are likely to search for titles, or if `title` contains more relevant search terms compared to other document fields.\n",
    ">"
   ]
  },
  {
   "cell_type": "markdown",
   "id": "4848ef87",
   "metadata": {},
   "source": [
    "---"
   ]
  },
  {
   "cell_type": "markdown",
   "id": "4cbc1b13",
   "metadata": {},
   "source": [
    "## 10.22 Building indexes\n",
    "\n",
    "- [Index Builds on Populated Collections](https://www.mongodb.com/docs/manual/core/index-creation/#index-builds-on-populated-collections)"
   ]
  },
  {
   "cell_type": "markdown",
   "id": "5c3d1e28",
   "metadata": {},
   "source": [
    "<img src=\"..\\imgs\\s10\\s10-9.png\" width=600 height=200 >"
   ]
  },
  {
   "cell_type": "markdown",
   "id": "21affaef",
   "metadata": {},
   "source": [
    "\n",
    "> **Comparison to Foreground and Background Builds**\n",
    "> \n",
    "> \n",
    "> Previous versions of MongoDB supported building indexes either in the foreground or background. Foreground index builds were fast and produced more efficient index data structures, but required blocking all read-write access to the parent database of the collection being indexed for the duration of the build. Background index builds were slower and had less efficient results, but allowed read-write access to the database and its collections during the build process.\n",
    "> \n",
    "> Index builds now obtain an exclusive lock on only the collection being indexed during the start and end of the build process to protect metadata changes. The rest of the build process uses the yielding behavior of background index builds to maximize read-write access to the collection during the build. Index builds still produce efficient index data structures despite the more permissive locking behavior.\n",
    "> \n",
    "> The optimized index build performance is at least on par with background index builds. For workloads with few or no updates received during the build process, optimized index builds can be as fast as a foreground index build on that same data.\n",
    "> \n",
    "> Use [**`db.currentOp()`**](https://www.mongodb.com/docs/manual/reference/method/db.currentOp/#mongodb-method-db.currentOp) to monitor the progress of ongoing index builds.\n",
    "> \n",
    "> MongoDB ignores the `background` index build option if specified to [**`createIndexes`**](https://www.mongodb.com/docs/manual/reference/command/createIndexes/#mongodb-dbcommand-dbcmd.createIndexes) or its shell helpers [**`createIndex()`**](https://www.mongodb.com/docs/manual/reference/method/db.collection.createIndex/#mongodb-method-db.collection.createIndex) and [**`createIndexes()`.**](https://www.mongodb.com/docs/manual/reference/method/db.collection.createIndexes/#mongodb-method-db.collection.createIndexes)\n",
    ">"
   ]
  },
  {
   "cell_type": "code",
   "execution_count": null,
   "id": "ff5c06b4",
   "metadata": {
    "vscode": {
     "languageId": "powershell"
    }
   },
   "outputs": [],
   "source": [
    "## no cmd, dentro da pasta onde está o arquivo credit-rating.js:\n",
    "mongosh credit-rating.js"
   ]
  },
  {
   "cell_type": "code",
   "execution_count": null,
   "id": "f9642406",
   "metadata": {
    "vscode": {
     "languageId": "javascript"
    }
   },
   "outputs": [],
   "source": [
    "// use credit\n",
    "db.ratings.findOne()\n",
    "\n",
    "db.ratings.createIndex( { age: 1 } ) // age_1 -> demora um pouco para ser criado pois temos 1bi de documentos\n",
    "\n",
    "db.ratings.explain(\"executionStats\").find( { age: { $gt: 80 } } ) // stage: 'IXSCAN', executionTimeMillis: 200\n",
    "\n",
    "db.ratings.dropIndex( { age: 1 } )\n",
    "\n",
    "db.ratings.explain(\"executionStats\").find( { age: { $gt: 80 } } ) //  stage: 'COLLSCAN', executionTimeMillis: 870\n",
    "\n",
    "db.ratings.dropIndex( { age: 1 } )\n",
    "db.ratings.createIndex( { age: 1 }, { background: true } ) // age_1"
   ]
  },
  {
   "cell_type": "markdown",
   "id": "6c698951",
   "metadata": {},
   "source": [
    "---"
   ]
  },
  {
   "cell_type": "markdown",
   "id": "a0cc2a1a",
   "metadata": {},
   "source": [
    "## 10.24 Wrap up"
   ]
  },
  {
   "cell_type": "markdown",
   "id": "3e399eb4",
   "metadata": {},
   "source": [
    "<img src=\"..\\imgs\\s10\\s10-10.png\" width=700 height=400 >"
   ]
  },
  {
   "cell_type": "markdown",
   "id": "641c61bb",
   "metadata": {},
   "source": [
    "---"
   ]
  },
  {
   "cell_type": "markdown",
   "id": "e95aca18",
   "metadata": {},
   "source": [
    "## 10.25 Useful resources and links"
   ]
  },
  {
   "cell_type": "markdown",
   "id": "30b1737d",
   "metadata": {},
   "source": [
    "> Helpful Articles/ Docs:\n",
    "> \n",
    "> - More on partialFilterExpressions: https://docs.mongodb.com/manual/core/index-partial/\n",
    "> - Supported default_languages: https://docs.mongodb.com/manual/reference/text-search-languages/#text-search-languages\n",
    "> - How to use different languages in the same index: https://docs.mongodb.com/manual/tutorial/specify-language-for-text-index/#create-a-text-index-for-a-collection-in-multiple-languages"
   ]
  }
 ],
 "metadata": {
  "language_info": {
   "name": "python"
  }
 },
 "nbformat": 4,
 "nbformat_minor": 5
}
