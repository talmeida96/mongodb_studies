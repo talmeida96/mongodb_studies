{
 "cells": [
  {
   "cell_type": "markdown",
   "id": "2c738115",
   "metadata": {},
   "source": [
    "# 8. UPDATE OPERATORS\n",
    "\n",
    "(_54min_)"
   ]
  },
  {
   "cell_type": "markdown",
   "id": "bf538700",
   "metadata": {},
   "source": [
    "## 8.1 Module introduction "
   ]
  },
  {
   "cell_type": "markdown",
   "id": "8a2e14e7",
   "metadata": {},
   "source": [
    "- Document updating operator (UPDATE)\n",
    "- Updating fields\n",
    "- Updating arrays"
   ]
  },
  {
   "cell_type": "markdown",
   "id": "f0606aa7",
   "metadata": {},
   "source": [
    "---"
   ]
  },
  {
   "cell_type": "markdown",
   "id": "cd3362ed",
   "metadata": {},
   "source": [
    "## 8.2 Updating fields with \"updateOne()\", \"updateMany()\" and \"`$set`\"\n",
    "\n",
    "- [Update](https://www.mongodb.com/docs/manual/reference/command/update/)"
   ]
  },
  {
   "cell_type": "code",
   "execution_count": null,
   "id": "7792c657",
   "metadata": {
    "vscode": {
     "languageId": "javascript"
    }
   },
   "outputs": [],
   "source": [
    "// use Users\n",
    "\n",
    "// complete overwrite the existing array\n",
    "db.users.updateOne( { _id: ObjectId('67ee7682b74d8976cdb71239') }, { $set: { hobbies: [ { title: \"Sports\", frequency: 5 }, { title: \"Cooking\", frequency: 3 }, { title: \"Hiking\", frequency: 1 } ] } } )\n",
    "\n",
    "\n",
    "// adiciona um novo campo nos documentos que correspondem ao filtro\n",
    "db.users.updateMany( { \"hobbies.title\": \"Sports\" }, { $set: { isSporty: true } } )"
   ]
  },
  {
   "cell_type": "markdown",
   "id": "30e9740e",
   "metadata": {},
   "source": [
    "---"
   ]
  },
  {
   "cell_type": "markdown",
   "id": "e3a5c9de",
   "metadata": {},
   "source": [
    "## 8.3 Updating multiple fields with \"`$set`\"\n",
    "\n",
    "- [Set](https://www.mongodb.com/docs/manual/reference/operator/aggregation/set/#mongodb-pipeline-pipe.-set)"
   ]
  },
  {
   "cell_type": "code",
   "execution_count": null,
   "id": "694be5bb",
   "metadata": {
    "vscode": {
     "languageId": "javascript"
    }
   },
   "outputs": [],
   "source": [
    "db.users.updateOne( { _id: ObjectId('67ee7682b74d8976cdb71239') }, { $set: { age: 40, phone: 111111111111 } } )"
   ]
  },
  {
   "cell_type": "markdown",
   "id": "a43c6110",
   "metadata": {},
   "source": [
    "---"
   ]
  },
  {
   "cell_type": "markdown",
   "id": "a28232eb",
   "metadata": {},
   "source": [
    "## 8.4 Incrementing and decrementing values\n",
    "\n",
    "- [Inc](https://www.mongodb.com/docs/manual/reference/operator/update/inc/)"
   ]
  },
  {
   "cell_type": "code",
   "execution_count": null,
   "id": "8945edc0",
   "metadata": {
    "vscode": {
     "languageId": "javascript"
    }
   },
   "outputs": [],
   "source": [
    "db.users.updateOne( { name: \"Manuel\" }, { $inc: { age: 1 } } )\n",
    "\n",
    "db.users.updateOne( { name: \"Manuel\" }, { $inc: { age: -3 } } )\n",
    "\n",
    "db.users.updateOne( { name: \"Manuel\" }, { $inc: { age: -3 }, $set: { isSporty: false } } )"
   ]
  },
  {
   "cell_type": "markdown",
   "id": "d949a78f",
   "metadata": {},
   "source": [
    "---"
   ]
  },
  {
   "cell_type": "markdown",
   "id": "c0774b94",
   "metadata": {},
   "source": [
    "## 8.5 Using \"`$min`\", \"`$max`\" and \"`$mul`\"\n",
    "\n",
    "- [Field Update Operators](https://www.mongodb.com/docs/manual/reference/operator/update-field/#field-update-operators)\n",
    "- [Min](https://www.mongodb.com/docs/manual/reference/operator/update/min/#-min)\n",
    "- [Max](https://www.mongodb.com/docs/manual/reference/operator/update/max/#-max)\n",
    "- [Mul](https://www.mongodb.com/docs/manual/reference/operator/update/mul/)"
   ]
  },
  {
   "cell_type": "markdown",
   "id": "8a37f2f3",
   "metadata": {},
   "source": [
    "> The [`$min`](https://www.mongodb.com/docs/manual/reference/operator/update/min/#mongodb-update-up.-min) updates the value of the field to a specified value if **the specified value is **less than** the current value of the field. \n",
    "The [`$min`](https://www.mongodb.com/docs/manual/reference/operator/update/min/#mongodb-update-up.-min) operator can compare values of different types, using the [BSON comparison order.](https://www.mongodb.com/docs/manual/reference/bson-type-comparison-order/#std-label-faq-dev-compare-order-for-BSON-types)\n",
    "\n",
    "> The [`$max`](https://www.mongodb.com/docs/manual/reference/operator/update/max/#mongodb-update-up.-max) operator updates the value of the field to a specified value if the specified value is **greater than** the current value of the field.\n",
    "The [`$max`](https://www.mongodb.com/docs/manual/reference/operator/update/max/#mongodb-update-up.-max) operator can compare values of different types, using the [BSON comparison order.](https://www.mongodb.com/docs/manual/reference/bson-type-comparison-order/#std-label-faq-dev-compare-order-for-BSON-types)\n",
    "\n",
    "> Multiply the value of a field by a number.\n"
   ]
  },
  {
   "cell_type": "code",
   "execution_count": null,
   "id": "b8b0afee",
   "metadata": {
    "vscode": {
     "languageId": "javascript"
    }
   },
   "outputs": [],
   "source": [
    "db.users.updateOne( { name: \"John\" }, { $min: { age: 35 } } ) "
   ]
  },
  {
   "cell_type": "code",
   "execution_count": null,
   "id": "6180fcc3",
   "metadata": {
    "vscode": {
     "languageId": "javascript"
    }
   },
   "outputs": [],
   "source": [
    "db.users.updateOne( { name: \"John\" }, { $max: { age: 36 } } )"
   ]
  },
  {
   "cell_type": "code",
   "execution_count": null,
   "id": "7bd71ff0",
   "metadata": {
    "vscode": {
     "languageId": "javascript"
    }
   },
   "outputs": [],
   "source": [
    "db.users.updateOne( { name: \"John\" }, { $mul: { age: 1.1 } } ) // increase 10% of the age"
   ]
  },
  {
   "cell_type": "markdown",
   "id": "1733b205",
   "metadata": {},
   "source": [
    "---"
   ]
  },
  {
   "cell_type": "markdown",
   "id": "60789b09",
   "metadata": {},
   "source": [
    "## 8.6 Getting rid of fields\n",
    "\n",
    "- [Unset](https://www.mongodb.com/docs/manual/reference/operator/update/unset/)"
   ]
  },
  {
   "cell_type": "markdown",
   "id": "f22e2b9d",
   "metadata": {},
   "source": [
    "> The [`$unset`](https://www.mongodb.com/docs/manual/reference/operator/update/unset/#mongodb-update-up.-unset) operator deletes a particular field.\n",
    ">"
   ]
  },
  {
   "cell_type": "code",
   "execution_count": null,
   "id": "dbdb5e60",
   "metadata": {
    "vscode": {
     "languageId": "javascript"
    }
   },
   "outputs": [],
   "source": [
    "// drop the phone value on all persons who are sporty:\n",
    "db.users.updateMany( { isSporty: true }, { $unset: { phone: \"\" } } )"
   ]
  },
  {
   "cell_type": "markdown",
   "id": "43680016",
   "metadata": {},
   "source": [
    "---"
   ]
  },
  {
   "cell_type": "markdown",
   "id": "cc390efc",
   "metadata": {},
   "source": [
    "## 8.7 Renaming fields\n",
    "\n",
    "- [Rename](https://www.mongodb.com/docs/manual/reference/operator/update/rename/)"
   ]
  },
  {
   "cell_type": "markdown",
   "id": "e8b9ef0c",
   "metadata": {},
   "source": [
    "> The [`$rename`](https://www.mongodb.com/docs/manual/reference/operator/update/rename/#mongodb-update-up.-rename) operator updates the name of a field.\n",
    ">"
   ]
  },
  {
   "cell_type": "code",
   "execution_count": null,
   "id": "f8eb7d23",
   "metadata": {
    "vscode": {
     "languageId": "javascript"
    }
   },
   "outputs": [],
   "source": [
    "db.users.updateMany( {}, { $rename: { age: \"totalAge\" } } )"
   ]
  },
  {
   "cell_type": "markdown",
   "id": "10ae2c5f",
   "metadata": {},
   "source": [
    "---"
   ]
  },
  {
   "cell_type": "markdown",
   "id": "bdd2fad8",
   "metadata": {},
   "source": [
    "## 8.8 Understanding \"upsert()\""
   ]
  },
  {
   "cell_type": "markdown",
   "id": "12699883",
   "metadata": {},
   "source": [
    "| **Parameter** | **Type** | **Description** |\n",
    "| --- | --- | --- |\n",
    "| [upsert](https://www.mongodb.com/docs/manual/reference/method/db.collection.update/#std-label-update-upsert) | boolean | Optional. When `true`, [`update()`](https://www.mongodb.com/docs/manual/reference/method/db.collection.update/#mongodb-method-db.collection.update) either:\n",
    "• Creates a new document if no documents match the `query`. For more details see [upsert behavior.](https://www.mongodb.com/docs/manual/reference/method/db.collection.update/#std-label-upsert-behavior)\n",
    "• Updates a single document that matches the `query`.\n",
    "If both `upsert` and `multi` are true and no documents match the query, the update operation inserts only a single document.\n",
    "To avoid multiple [upserts](https://www.mongodb.com/docs/manual/reference/glossary/#std-term-upsert), ensure that the `query` field(s) are [uniquely indexed](https://www.mongodb.com/docs/manual/core/index-unique/#std-label-index-type-unique). See [Upsert with Duplicate Values](https://www.mongodb.com/docs/manual/reference/method/db.collection.update/#std-label-update-with-unique-indexes) for an example.\n",
    "Defaults to `false`, which does *not* insert a new document when no match is found. |"
   ]
  },
  {
   "cell_type": "code",
   "execution_count": null,
   "id": "307bdc6e",
   "metadata": {
    "vscode": {
     "languageId": "javascript"
    }
   },
   "outputs": [],
   "source": [
    "db.users.updateOne( { name: \"Maria\" }, \n",
    "    { $set: { age: 29, hobbies: [{title: \"Good food\", frequency: 3}], isSporty: true } }, \n",
    "    { upsert: true } ) // default is \"false\"\n",
    "    \n",
    "// mesmo o \"name: \"Maria\" \" não estando no $set, ele adiciona o campo ao documento"
   ]
  },
  {
   "cell_type": "markdown",
   "id": "e5349788",
   "metadata": {},
   "source": [
    "----"
   ]
  },
  {
   "cell_type": "markdown",
   "id": "d310ebc5",
   "metadata": {},
   "source": [
    "## 8.9 Assignment 5: Time to Practice - UPDATE OPERATORS"
   ]
  },
  {
   "cell_type": "markdown",
   "id": "6cf841a4",
   "metadata": {},
   "source": [
    "### 8.9.1 Create a new collection (\"sports\") and upsert two new documents into it (with these fields: \"title\", \"requiresTeam\")"
   ]
  },
  {
   "cell_type": "code",
   "execution_count": null,
   "id": "7e080d93",
   "metadata": {
    "vscode": {
     "languageId": "javascript"
    }
   },
   "outputs": [],
   "source": [
    "// use assign5\n",
    "\n",
    "db.sports.updateMany(\n",
    "    { title: \"football\" },\n",
    "    { $set: { requiresTeam: true } },\n",
    "    { upsert: true }\n",
    ")\n",
    "\n",
    "db.sports.updateMany(\n",
    "    { title: \"soccer\" },\n",
    "    { $set: { requiresTeam: true } },\n",
    "    { upsert: true }\n",
    ")\n",
    "\n",
    "db.sports.updateMany(\n",
    "    { title: \"dardo\" },\n",
    "    { $set: { requiresTeam: false } },\n",
    "    { upsert: true }\n",
    ")\n",
    "\n",
    "// professor:\n",
    "db.sports.updateMany( {},  { $set: { title: \"football\", requiresTeam: true } }, { upsert: true } )\n",
    "db.sports.updateMany( {title: \"soccer\"},  { $set: { requiresTeam: true } }, { upsert: true } )"
   ]
  },
  {
   "cell_type": "markdown",
   "id": "14b4d616",
   "metadata": {},
   "source": [
    "### 8.9.2 Update all documents which do require a team by adding a new field with the minimum amount of players required "
   ]
  },
  {
   "cell_type": "code",
   "execution_count": null,
   "id": "6e0d93a1",
   "metadata": {
    "vscode": {
     "languageId": "javascript"
    }
   },
   "outputs": [],
   "source": [
    "db.sports.updateMany( { requiresTeam: true }, { $set: { minPlayers: 0 } } )"
   ]
  },
  {
   "cell_type": "markdown",
   "id": "c1edb9d5",
   "metadata": {},
   "source": [
    "### 8.9.3 Update all documents that require a team by increasing the number of required players by 10"
   ]
  },
  {
   "cell_type": "code",
   "execution_count": null,
   "id": "841ea1c0",
   "metadata": {
    "vscode": {
     "languageId": "javascript"
    }
   },
   "outputs": [],
   "source": [
    "db.sports.updateMany( { requiresTeam: true }, { $inc: { minPlayers: 10 } } )"
   ]
  },
  {
   "cell_type": "markdown",
   "id": "c3f23525",
   "metadata": {},
   "source": [
    "---"
   ]
  },
  {
   "cell_type": "markdown",
   "id": "58b07d2f",
   "metadata": {},
   "source": [
    "## 8.10 Updating matched array elements"
   ]
  },
  {
   "cell_type": "code",
   "execution_count": null,
   "id": "77626237",
   "metadata": {
    "vscode": {
     "languageId": "javascript"
    }
   },
   "outputs": [],
   "source": [
    "// a consulta abaixo procura as 2 condições dentro do MESMO DOC \n",
    "// sem usar o elemMath, as buscas são feitas de forma separada e é possível o retorno de Sports com frequência menor que 3\n",
    "db.users.find( { hobbies: { $elemMatch: { title: \"Sports\", frequency: { $gte: 3 } } } } )\n",
    "\n",
    "// o hobbies.$ especifica que as alterações serão somente nas partes que forem exatamente iguais ao meu filtro\n",
    "// e o .highFrequency é um novo campo que será adicionado. é feito desta forma para não subescrever os campos já existentes\n",
    "db.users.updateMany( { hobbies: { $elemMatch: { title: \"Sports\", frequency: { $gte: 3 } } } }, { $set: { \"hobbies.$.highFrequency\": true } } )"
   ]
  },
  {
   "cell_type": "markdown",
   "id": "55fe3ae8",
   "metadata": {},
   "source": [
    "---"
   ]
  },
  {
   "cell_type": "markdown",
   "id": "3b1147fc",
   "metadata": {},
   "source": [
    "## 8.11 Updating all array elements"
   ]
  },
  {
   "cell_type": "markdown",
   "id": "0eea2ac6",
   "metadata": {},
   "source": [
    "- o `$` só irá realizar a alteração para o primeiro documento que der match no filtro, ignorando as demais possibilidades\n",
    "- [Positional Filtered](https://www.mongodb.com/docs/manual/reference/operator/update/positional-filtered/)"
   ]
  },
  {
   "cell_type": "code",
   "execution_count": null,
   "id": "9ffaa017",
   "metadata": {
    "vscode": {
     "languageId": "javascript"
    }
   },
   "outputs": [],
   "source": [
    "// o .$[] implica que todos os elementos do array daquele documento serão atualizados (neste caso, somente o campo \"frequency\"):\n",
    "db.users.updateMany( { totalAge: { $gt: 30 } }, { $inc: { \"hobbies.$[].frequency\": -1 } } )"
   ]
  },
  {
   "cell_type": "markdown",
   "id": "10ae7d08",
   "metadata": {},
   "source": [
    "---"
   ]
  },
  {
   "cell_type": "markdown",
   "id": "0ba148de",
   "metadata": {},
   "source": [
    "## 8.12 Finding and updating specific fields\n",
    "\n",
    "- [Positional Filtered](https://www.mongodb.com/docs/manual/reference/operator/update/positional-filtered/)"
   ]
  },
  {
   "cell_type": "markdown",
   "id": "ed0a9959",
   "metadata": {},
   "source": [
    "> The filtered positional operator `$[<identifier>]` identifies the array elements that match the `arrayFilters` conditions for an update operation.\n",
    "****Use in conjunction with the `arrayFilters` option to update all elements that match the `arrayFilters` conditions in the document or documents that match the query conditions.\n",
    "\n",
    "- [Update all array elements that match array filters](https://www.mongodb.com/docs/manual/reference/operator/update/positional-filtered/#update-all-array-elements-that-match-arrayfilters)"
   ]
  },
  {
   "cell_type": "code",
   "execution_count": null,
   "id": "465b856f",
   "metadata": {
    "vscode": {
     "languageId": "javascript"
    }
   },
   "outputs": [],
   "source": [
    "db.users.updateMany( \n",
    "\t{ \"hobbies.frequency\": { $gt: 2 } },\n",
    "\t{ $set: { \"hobbies.$[el].goodFrequency\": true } },\n",
    "\t{ arrayFilters: [ { \"el.frequency\": { $gt: 2 } } ] }\n",
    ")"
   ]
  },
  {
   "cell_type": "markdown",
   "id": "ef3805b5",
   "metadata": {},
   "source": [
    "---"
   ]
  },
  {
   "cell_type": "markdown",
   "id": "20d25845",
   "metadata": {},
   "source": [
    "## 8.13 Adding elements to array\n",
    "\n",
    "-[Push](https://www.mongodb.com/docs/manual/reference/operator/update/push/#-push)"
   ]
  },
  {
   "cell_type": "markdown",
   "id": "2f0fdb72",
   "metadata": {},
   "source": [
    "> The [**`$push`**](https://www.mongodb.com/docs/manual/reference/operator/update/push/#mongodb-update-up.-push) operator appends a specified value to an array.\n"
   ]
  },
  {
   "cell_type": "code",
   "execution_count": null,
   "id": "c858c7c2",
   "metadata": {
    "vscode": {
     "languageId": "javascript"
    }
   },
   "outputs": [],
   "source": [
    "db.users.updateOne( { name: \"Maria\" }, { $push: { hobbies: { title: \"Sports\", frequency: 2 } } } )\n",
    "\n",
    "db.users.updateOne(\n",
    "\t{ name: \"Maria\" },\n",
    "\t{ $push:\n",
    "\t\t{ hobbies:\n",
    "\t\t\t{ $each: [\n",
    "\t\t\t\t{ title: \"Good Wine\", frequency: 1 },\n",
    "\t\t\t\t{ title: \"Hiking\", frequency: 2 }\n",
    "\t\t\t], $sort: { frequency: -1 } //inclui os novos documentos no arry em ordem decrescente de frequencia\n",
    "} } } )"
   ]
  },
  {
   "cell_type": "markdown",
   "id": "c672a15b",
   "metadata": {},
   "source": [
    "---"
   ]
  },
  {
   "cell_type": "markdown",
   "id": "a10a1a14",
   "metadata": {},
   "source": [
    "## 8.14 Removing elements from arrays \n",
    "\n",
    "- [Pull](https://www.mongodb.com/docs/manual/reference/operator/update/pull/#-pull)\n",
    "- [Pop](https://www.mongodb.com/docs/manual/reference/operator/update/pop/#-pop)"
   ]
  },
  {
   "cell_type": "markdown",
   "id": "c2c0f8ab",
   "metadata": {},
   "source": [
    "> The [**`$pull`**](https://www.mongodb.com/docs/manual/reference/operator/update/pull/#mongodb-update-up.-pull) operator removes from an existing array all instances of a value or values that match a specified condition.\n",
    "\n",
    "> The [**`$pop`**](https://www.mongodb.com/docs/manual/reference/operator/update/pop/#mongodb-update-up.-pop) operator removes the first or last element of an array. \n",
    "Pass [**`$pop`**](https://www.mongodb.com/docs/manual/reference/operator/update/pop/#mongodb-update-up.-pop) a value of `-1` to remove the first element of an array and `1` to remove the last element in an array.\n",
    ">"
   ]
  },
  {
   "cell_type": "code",
   "execution_count": null,
   "id": "e427f310",
   "metadata": {
    "vscode": {
     "languageId": "javascript"
    }
   },
   "outputs": [],
   "source": [
    "db.users.updateOne( { name: \"Maria\" }, { $pull: { hobbies: { title: \"Hiking\" } } } )\n",
    "\n",
    "db.users.updateOne( { name: \"John\" }, { $pop: { hobbies: 1 } } ) // 1 -> último elemento | -1 -> primeiro elemento"
   ]
  },
  {
   "cell_type": "markdown",
   "id": "13ac6006",
   "metadata": {},
   "source": [
    "---"
   ]
  },
  {
   "cell_type": "markdown",
   "id": "6475caca",
   "metadata": {},
   "source": [
    "## 8.15 Understanding \"`$addToSet()`\"\n",
    "\n",
    "- [addToSet()](https://www.mongodb.com/docs/manual/reference/operator/update/addToSet/#-addtoset)"
   ]
  },
  {
   "cell_type": "markdown",
   "id": "62493b82",
   "metadata": {},
   "source": [
    "> The [**`$addToSet`**](https://www.mongodb.com/docs/manual/reference/operator/update/addToSet/#mongodb-update-up.-addToSet) operator adds a value to an array unless the value is already present, in which case [**`$addToSet`**](https://www.mongodb.com/docs/manual/reference/operator/update/addToSet/#mongodb-update-up.-addToSet) does nothing to that array.\n",
    ">"
   ]
  },
  {
   "cell_type": "code",
   "execution_count": null,
   "id": "ce7d91d6",
   "metadata": {
    "vscode": {
     "languageId": "javascript"
    }
   },
   "outputs": [],
   "source": [
    "db.users.updateOne( { name: \"Maria\" }, { $addToSet: { hobbies: { title: \"Sports\", frequency: 2 } } } )"
   ]
  },
  {
   "cell_type": "markdown",
   "id": "3434587d",
   "metadata": {},
   "source": [
    "---"
   ]
  },
  {
   "cell_type": "markdown",
   "id": "131495ae",
   "metadata": {},
   "source": [
    "## 8.16 Wrap Up"
   ]
  },
  {
   "cell_type": "markdown",
   "id": "d473602e",
   "metadata": {},
   "source": [
    "<img src=\"..\\imgs\\s8\\s8-1.png\" width=700 height=400 >"
   ]
  },
  {
   "cell_type": "markdown",
   "id": "21693548",
   "metadata": {},
   "source": [
    "---"
   ]
  },
  {
   "cell_type": "markdown",
   "id": "b01fd3f4",
   "metadata": {},
   "source": [
    "## 8.17 Useful resources and links"
   ]
  },
  {
   "cell_type": "markdown",
   "id": "afcacbc9",
   "metadata": {},
   "source": [
    "> Helpful Articles/ Docs:\n",
    "> \n",
    "> - Official Document Updating Docs: https://docs.mongodb.com/manual/tutorial/update-documents/"
   ]
  }
 ],
 "metadata": {
  "language_info": {
   "name": "python"
  }
 },
 "nbformat": 4,
 "nbformat_minor": 5
}
