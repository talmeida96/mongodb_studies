{
 "cells": [
  {
   "cell_type": "markdown",
   "metadata": {},
   "source": [
    "# 13. WORKING WITH NUMERIC DATA\n",
    "\n",
    "(_40min_)"
   ]
  },
  {
   "cell_type": "markdown",
   "metadata": {},
   "source": [
    "## 13.1 Module introduction"
   ]
  },
  {
   "cell_type": "markdown",
   "metadata": {},
   "source": [
    "- different MongoDB types of numbers\n",
    "- how they differs\n",
    "- how to use each of them"
   ]
  },
  {
   "cell_type": "markdown",
   "metadata": {},
   "source": [
    "---"
   ]
  },
  {
   "cell_type": "markdown",
   "metadata": {},
   "source": [
    "## 13.2 Number types - An overview"
   ]
  },
  {
   "cell_type": "markdown",
   "metadata": {},
   "source": [
    "- Default number type: `double (64bit)` -> numbers with decimal places\n",
    "\n",
    "    <img src=\"..\\imgs\\s13\\s13-1.png\" width=700 height=400 >"
   ]
  },
  {
   "cell_type": "markdown",
   "metadata": {},
   "source": [
    "---"
   ]
  },
  {
   "cell_type": "markdown",
   "metadata": {},
   "source": [
    "## 13.3 MongoDB Shell & Data types\n",
    "\n",
    "1. [Data Types](https://www.mongodb.com/docs/mongodb-shell/reference/data-types/#data-types)\n",
    "2. [Numeric Types](https://www.mongodb.com/docs/mongodb-shell/reference/data-types/#numeric-types)"
   ]
  },
  {
   "cell_type": "markdown",
   "metadata": {},
   "source": [
    "> For this Module, there's one important thing you have to keep in mind about the MongoDB Shell (which we're using via the mongo command): **It is based on JavaScript, it's running on JavaScript**.\n",
    ">\n",
    "> Hence you can use JavaScript syntax in there and hence the default data types are the default JavaScript data types.\n",
    ">\n",
    "> That matters especially for the numbers. JavaScript does NOT differentiate between integers and floating point numbers => Every number is a 64bit float instead.\n",
    ">\n",
    "> So 12 and 12.0 are exactly the same number in JavaScript and therefore also in the Shell."
   ]
  },
  {
   "cell_type": "markdown",
   "metadata": {},
   "source": [
    "---"
   ]
  },
  {
   "cell_type": "markdown",
   "metadata": {},
   "source": [
    "## 13.4 Understanding programming language defaults"
   ]
  },
  {
   "cell_type": "markdown",
   "metadata": {},
   "source": [
    "- Each language has a default different regarding to numbers."
   ]
  },
  {
   "cell_type": "markdown",
   "metadata": {},
   "source": [
    "---"
   ]
  },
  {
   "cell_type": "markdown",
   "metadata": {},
   "source": [
    "## 13.5 Working with int32\n",
    "\n",
    "1. [Int32](https://www.mongodb.com/docs/mongodb-shell/reference/data-types/#int32)"
   ]
  },
  {
   "cell_type": "code",
   "execution_count": null,
   "metadata": {
    "vscode": {
     "languageId": "javascript"
    }
   },
   "outputs": [],
   "source": [
    "db.people.insertOne( { name: \"Max\", age: 29 })\n",
    "db.people.stats() // size: 45\n",
    "\n",
    "db.people.drop()\n",
    "db.people.insertOne( { age: 29 })\n",
    "db.people.stats() // size: 31 -> size of this 1 entry -> no curso deu 35 (?)\n",
    "\n",
    "db.people.deleteMany({})\n",
    "db.people.insertOne( { age: NumberInt(29) }) // size: 31"
   ]
  },
  {
   "cell_type": "markdown",
   "metadata": {},
   "source": [
    "---"
   ]
  },
  {
   "cell_type": "markdown",
   "metadata": {},
   "source": [
    "## 13.6 Working with int64\n",
    "\n",
    "1. [Long](https://www.mongodb.com/docs/mongodb-shell/reference/data-types/#long)"
   ]
  },
  {
   "cell_type": "code",
   "execution_count": null,
   "metadata": {
    "vscode": {
     "languageId": "javascript"
    }
   },
   "outputs": [],
   "source": [
    "db.companies.insertOne({ valuation: NumberInt(\"5000000000\") }) // 5bi\n",
    "\n",
    "db.companies.findOne()\n",
    "// results: [ { _id: ObjectId('67fd445853a0d45400b7123b'), valuation: 705032704 } ]"
   ]
  },
  {
   "cell_type": "markdown",
   "metadata": {},
   "source": [
    "---"
   ]
  },
  {
   "cell_type": "markdown",
   "metadata": {},
   "source": [
    "## 13.7 Doing Maths with floats int32 & int64"
   ]
  },
  {
   "cell_type": "code",
   "execution_count": null,
   "metadata": {
    "vscode": {
     "languageId": "javascript"
    }
   },
   "outputs": [],
   "source": [
    "db.accounts.insertOne( { name: \"Max\", amount: NumberInt(\"10\")})\n",
    "\n",
    "db.accounts.updateOne({}, { $inc: { amount: NumberInt(\"10\")}})"
   ]
  },
  {
   "cell_type": "code",
   "execution_count": null,
   "metadata": {
    "vscode": {
     "languageId": "javascript"
    }
   },
   "outputs": [],
   "source": [
    "db.companies.deleteMany({})\n",
    "\n",
    "db.companies.insertOne( { valuation: NumberLong(\"123456789123456789\")})\n",
    "\n",
    "db.companies.updateOne( {}, { $inc: { valuation: NumberLong(1)} })"
   ]
  },
  {
   "cell_type": "markdown",
   "metadata": {},
   "source": [
    "---"
   ]
  },
  {
   "cell_type": "markdown",
   "metadata": {},
   "source": [
    "## 13.8 What's wrong with normal doubles?"
   ]
  },
  {
   "cell_type": "markdown",
   "metadata": {},
   "source": [
    "- O exemplo abaixo demonstra a imprecisão por trás dos números inseridos sem a distinção do 'type'"
   ]
  },
  {
   "cell_type": "code",
   "execution_count": null,
   "metadata": {
    "vscode": {
     "languageId": "javascript"
    }
   },
   "outputs": [],
   "source": [
    "db.science.insertOne( { a: 0.3, b: 0.1 })\n",
    "\n",
    "db.science.aggregate([\n",
    "    { $project: { result: { $subtract: [ \"$a\", \"$b\" ] }}}\n",
    "])\n",
    "\n",
    "//result:\n",
    "[\n",
    "    {\n",
    "      _id: ObjectId('67fd48ad53a0d45400b7123f'),\n",
    "      result: 0.19999999999999998\n",
    "    }\n",
    "]"
   ]
  },
  {
   "cell_type": "markdown",
   "metadata": {},
   "source": [
    "---"
   ]
  },
  {
   "cell_type": "markdown",
   "metadata": {},
   "source": [
    "## 13.9 Working with decimal 128bit\n",
    "\n",
    "1. [Decimal128](https://www.mongodb.com/docs/mongodb-shell/reference/data-types/#decimal128)"
   ]
  },
  {
   "cell_type": "code",
   "execution_count": null,
   "metadata": {
    "vscode": {
     "languageId": "javascript"
    }
   },
   "outputs": [],
   "source": [
    "db.science.deleteMany({})\n",
    "\n",
    "db.science.insertOne( {a: NumberDecimal(\"0.3\"), b: NumberDecimal(\"0.1\")} )\n",
    "\n",
    "db.science.aggregate([\n",
    "    { $project: { result: { $subtract: [ \"$a\", \"$b\" ] }}}\n",
    "])\n",
    "\n",
    "//result:\n",
    "[\n",
    "    {\n",
    "      _id: ObjectId('67fd4a1753a0d45400b71240'),\n",
    "      result: Decimal128('0.2')\n",
    "    }\n",
    "]"
   ]
  },
  {
   "cell_type": "markdown",
   "metadata": {},
   "source": [
    "---"
   ]
  },
  {
   "cell_type": "markdown",
   "metadata": {},
   "source": [
    "## 13.10 Wrap up"
   ]
  },
  {
   "cell_type": "markdown",
   "metadata": {},
   "source": [
    "1. [Model Monetary Data](https://www.mongodb.com/docs/manual/tutorial/model-monetary-data/#model-monetary-data)"
   ]
  },
  {
   "cell_type": "markdown",
   "metadata": {},
   "source": [
    "---"
   ]
  },
  {
   "cell_type": "markdown",
   "metadata": {},
   "source": [
    "## 13.11 Useful resources and links"
   ]
  },
  {
   "cell_type": "markdown",
   "metadata": {},
   "source": [
    "> Useful Articles/ Docs:\n",
    ">\n",
    "> - Float vs Double vs Decimal - A Discussion on Precision: https://stackoverflow.com/questions/618535/difference-between-decimal-float-and-double-in-net\n",
    "> - Number Ranges: https://social.msdn.microsoft.com/Forums/vstudio/en-US/d2f723c7-f00a-4600-945a-72da23cbc53d/can-anyone-explain-clearly-about-float-vs-decimal-vs-double-?forum=csharpgeneral\n",
    "> - Modelling Number/ Monetary Data in MongoDB: https://docs.mongodb.com/manual/tutorial/model-monetary-data/"
   ]
  }
 ],
 "metadata": {
  "language_info": {
   "name": "python"
  }
 },
 "nbformat": 4,
 "nbformat_minor": 2
}
