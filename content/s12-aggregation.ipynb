{
 "cells": [
  {
   "cell_type": "markdown",
   "metadata": {},
   "source": [
    "# 12. UNDERSTANDING THE AGGREGATION FRAMEWORK\n",
    "(_1h32min_)"
   ]
  },
  {
   "cell_type": "markdown",
   "metadata": {},
   "source": [
    "## 12.1 Module Introduction\n",
    "\n",
    "Retrieving data efficiently & in a structured way\n",
    "1. [Aggregation Operations](https://www.mongodb.com/docs/manual/aggregation/#aggregation-operations)"
   ]
  },
  {
   "cell_type": "markdown",
   "metadata": {},
   "source": [
    "---"
   ]
  },
  {
   "cell_type": "markdown",
   "metadata": {},
   "source": [
    "## 12.2 What is the \"Aggregation Framework\"?\n",
    "\n",
    "1. [Aggregation Stages](https://www.mongodb.com/docs/manual/reference/operator/aggregation-pipeline/#aggregation-stages)"
   ]
  },
  {
   "cell_type": "markdown",
   "metadata": {},
   "source": [
    "> Aggregation operations process multiple documents and return computed results. You can use aggregation operations to:\n",
    ">\n",
    "> - Group values from multiple documents together.\n",
    "> - Perform operations on the grouped data to return a single result.\n",
    "> - Analyze data changes over time.\n",
    ">\n",
    "> To perform aggregation operations, you can use:\n",
    ">\n",
    "> - [Aggregation pipelines](https://www.mongodb.com/docs/manual/aggregation/#std-label-aggregation-pipeline-intro), which are the preferred method for performing aggregations.\n",
    "> - [Single purpose aggregation methods](https://www.mongodb.com/docs/manual/aggregation/#std-label-single-purpose-agg-methods), which are simple but lack the capabilities of an aggregation pipeline.\n",
    "\n",
    "<img src=\"imgs\\s12\\s12-1.png\" width=400 height=300 >"
   ]
  },
  {
   "cell_type": "markdown",
   "metadata": {},
   "source": [
    "---"
   ]
  },
  {
   "cell_type": "markdown",
   "metadata": {},
   "source": [
    "## 12.3 Getting started with the aggregation pipeline\n",
    "\n",
    "1. [Aggregation Pipeline](https://www.mongodb.com/docs/manual/core/aggregation-pipeline/#aggregation-pipeline)"
   ]
  },
  {
   "cell_type": "markdown",
   "metadata": {},
   "source": [
    "- Importar o arquivo persons.json disponível na pasta \"resources\" do curso"
   ]
  },
  {
   "cell_type": "code",
   "execution_count": null,
   "metadata": {
    "vscode": {
     "languageId": "shellscript"
    }
   },
   "outputs": [],
   "source": [
    "# C:\\Projetos\\mongodb-content\\resources>\n",
    "mongoimport persons.json -d analytics -c persons --jsonArray --drop"
   ]
  },
  {
   "cell_type": "markdown",
   "metadata": {},
   "source": [
    "- Resultado da query `db.persons.findOne()`:"
   ]
  },
  {
   "cell_type": "code",
   "execution_count": null,
   "metadata": {
    "vscode": {
     "languageId": "powershell"
    }
   },
   "outputs": [],
   "source": [
    "{\n",
    "  _id: ObjectId('67f9240d9da55dd301491eb8'),\n",
    "  gender: 'male',\n",
    "  name: { title: 'mr', first: 'carl', last: 'jacobs' },\n",
    "  location: {\n",
    "    street: '6948 springfield road',\n",
    "    city: 'arklow',\n",
    "    state: 'wicklow',\n",
    "    postcode: 71309,\n",
    "    coordinates: { latitude: '-29.6721', longitude: '-154.6037' },\n",
    "    timezone: { offset: '-11:00', description: 'Midway Island, Samoa' }\n",
    "  },\n",
    "  email: 'carl.jacobs@example.com',\n",
    "  login: {\n",
    "    uuid: '4f591981-b214-4430-9902-70bc0faa7e81',\n",
    "    username: 'organicladybug144',\n",
    "    password: 'hank',\n",
    "    salt: 'PC6Ig6sD',\n",
    "    md5: 'd94aac977512cb2bb005dfa360b40018',\n",
    "    sha1: 'a5ffeb65557693e443e195bdf9c066dca33dc47d',\n",
    "    sha256: 'f9aa851b943d9a8a876062e48b91b9af190a37779df009a20bc268c25ce48a7f'\n",
    "  },\n",
    "  dob: { date: '1984-09-30T01:20:26Z', age: 33 },\n",
    "  registered: { date: '2008-10-29T02:25:24Z', age: 9 },\n",
    "  phone: '031-501-5147',\n",
    "  cell: '081-090-3541',\n",
    "  id: { name: 'PPS', value: '9806982T' },\n",
    "  picture: {\n",
    "    large: 'https://randomuser.me/api/portraits/men/44.jpg',\n",
    "    medium: 'https://randomuser.me/api/portraits/med/men/44.jpg',\n",
    "    thumbnail: 'https://randomuser.me/api/portraits/thumb/men/44.jpg'\n",
    "  },\n",
    "  nat: 'IE'\n",
    "}"
   ]
  },
  {
   "cell_type": "markdown",
   "metadata": {},
   "source": [
    "---"
   ]
  },
  {
   "cell_type": "markdown",
   "metadata": {},
   "source": [
    "## 12.4 Using the aggregation framework\n",
    "\n",
    "1. [`db.collection.aggregate()`](https://www.mongodb.com/docs/manual/reference/method/db.collection.aggregate/#db.collection.aggregate--)\n",
    "2. [`$match` (aggregation)](https://www.mongodb.com/docs/manual/reference/operator/aggregation/match/#-match--aggregation-)"
   ]
  },
  {
   "cell_type": "markdown",
   "metadata": {},
   "source": [
    "> `db.collection.aggregate(pipeline, options)`\n",
    ">\n",
    "> Calculates aggregate values for the data in a collection or a view.\n",
    ">\n",
    "> - Returns:\t\n",
    ">\n",
    ">   - A **cursor** for the documents produced by the final stage of the aggregation pipeline.\n",
    ">\n",
    ">   - If the pipeline includes the explain option, the query returns a document that provides details on the processing of the aggregation operation.\n",
    ">\n",
    ">   - If the pipeline includes the `$out` or `$merge` operators, the query returns an empty cursor."
   ]
  },
  {
   "cell_type": "code",
   "execution_count": null,
   "metadata": {
    "vscode": {
     "languageId": "javascript"
    }
   },
   "outputs": [],
   "source": [
    "db.persons.aggregate([ \n",
    "    { $match: { gender: \"female\" } }\n",
    " ])"
   ]
  },
  {
   "cell_type": "markdown",
   "metadata": {},
   "source": [
    "---"
   ]
  },
  {
   "cell_type": "markdown",
   "metadata": {},
   "source": [
    "## 12.5 Understanding the Group Stage\n",
    "\n",
    "1. [`$group (aggregation)`](https://www.mongodb.com/docs/manual/reference/operator/aggregation/group/#-group--aggregation-)"
   ]
  },
  {
   "cell_type": "markdown",
   "metadata": {},
   "source": [
    "> `$group`\n",
    ">\n",
    "> The `$group` stage combines **multiple documents with the same field**, fields, or expression into a single document according to a group key. The result is **one document per unique group key**.\n",
    ">\n",
    "> A group key is often a field, or group of fields. The group key can also be the result of an expression. Use the `_id` field in the `$group` pipeline stage to set the group key.\n",
    ">\n",
    "> In the `$group` stage output, the `_id` field is set to the group key for that document.\n",
    "\n",
    "\n",
    "| **Field** | **Description**                                                                                                                                                                                                                                                                                                                                                             |\n",
    "|:---------:| --------------------------------------------------------------------------------------------------------------------------------------------------------------------------------------------------------------------------------------------------------------------------------------------------------------------------------------------------------------------------- |\n",
    "| `_id`     | *Required.* The `_id` expression specifies the group key.<br/>If you specify an `_id` value of null, or any other constant value, the `$group` stage returns a single document that aggregates values across all of the input documents.<br/>[See the Group by Null example.](https://www.mongodb.com/docs/manual/reference/operator/aggregation/group/#std-label-null-example) |\n",
    "| `field`   | *Optional.* Computed using the [accumulator operators.](https://www.mongodb.com/docs/manual/reference/operator/aggregation/group/#std-label-accumulators-group)                                                                                                                                                                                                             |"
   ]
  },
  {
   "cell_type": "markdown",
   "metadata": {},
   "source": [
    "- Conteúdo do arquivo disponível na pasta \"resources\" -> `commands-1.js`:"
   ]
  },
  {
   "cell_type": "code",
   "execution_count": null,
   "metadata": {
    "vscode": {
     "languageId": "javascript"
    }
   },
   "outputs": [],
   "source": [
    "db.persons.aggregate([\n",
    "    { $match: { gender: 'female' } },\n",
    "    { $group: { _id: { state: \"$location.state\" }, totalPersons: { $sum: 1 } } }\n",
    "])"
   ]
  },
  {
   "cell_type": "markdown",
   "metadata": {},
   "source": [
    "- Output da query acima (somente uma amostra, o retorno em quantidade é maior):\n",
    "    - para cada estado, é retornado a quantidade de gêneros \"female\" existentes\n",
    "    - por exemplo: em \"Ohio\" existe somente 1 documento com gênero \"female\" na collection"
   ]
  },
  {
   "cell_type": "code",
   "execution_count": null,
   "metadata": {
    "vscode": {
     "languageId": "javascript"
    }
   },
   "outputs": [],
   "source": [
    "[\n",
    "    { _id: { state: 'glarus' }, totalPersons: 4 },\n",
    "    { _id: { state: 'basel-stadt' }, totalPersons: 6 },\n",
    "    { _id: { state: 'ohio' }, totalPersons: 1 },\n",
    "    { _id: { state: 'aydın' }, totalPersons: 3 },\n",
    "    { _id: { state: 'haute-corse' }, totalPersons: 3 },\n",
    "    { _id: { state: 'paraná' }, totalPersons: 3 },\n",
    "    { _id: { state: 'rheinland-pfalz' }, totalPersons: 8 },\n",
    "    { _id: { state: 'kansas' }, totalPersons: 2 },\n",
    "    { _id: { state: 'thurgau' }, totalPersons: 5 },\n",
    "    { _id: { state: 'cantal' }, totalPersons: 4 },\n",
    "    { _id: { state: 'کهگیلویه و بویراحمد' }, totalPersons: 8 },\n",
    "    { _id: { state: 'acre' }, totalPersons: 2 },\n",
    "    { _id: { state: 'puy-de-dôme' }, totalPersons: 1 },\n",
    "    { _id: { state: 'midtjylland' }, totalPersons: 33 },\n",
    "    { _id: { state: 'hawaii' }, totalPersons: 3 },\n",
    "    { _id: { state: 'hérault' }, totalPersons: 2 },\n",
    "    { _id: { state: 'ontario' }, totalPersons: 12 },\n",
    "    { _id: { state: 'mardin' }, totalPersons: 3 },\n",
    "    { _id: { state: 'burdur' }, totalPersons: 2 },\n",
    "    { _id: { state: 'corrèze' }, totalPersons: 1 }\n",
    "  ]"
   ]
  },
  {
   "cell_type": "markdown",
   "metadata": {},
   "source": [
    "- Ao executar a query abaixo, 2 documentos são retornados, e somente 1 deles tem o gênero como \"female\":"
   ]
  },
  {
   "cell_type": "code",
   "execution_count": null,
   "metadata": {
    "vscode": {
     "languageId": "javascript"
    }
   },
   "outputs": [],
   "source": [
    "db.persons.find( {\"location.state\": \"ohio\"})"
   ]
  },
  {
   "cell_type": "markdown",
   "metadata": {},
   "source": [
    "---"
   ]
  },
  {
   "cell_type": "markdown",
   "metadata": {},
   "source": [
    "## 12.6 Diving deeper into the Group Stage\n",
    "\n",
    "1. [`$sort` (aggregation)](https://www.mongodb.com/docs/manual/reference/operator/aggregation/sort/#-sort--aggregation-)"
   ]
  },
  {
   "cell_type": "markdown",
   "metadata": {},
   "source": [
    "> `$sort`\n",
    ">\n",
    "> Sorts all input documents and returns them to the pipeline in sorted order."
   ]
  },
  {
   "cell_type": "markdown",
   "metadata": {},
   "source": [
    "- A query abaixo faz uma busca em ordem decrescente da quantidade de pessoas com gênero \"female\" que vivem em cada \"state\""
   ]
  },
  {
   "cell_type": "code",
   "execution_count": null,
   "metadata": {
    "vscode": {
     "languageId": "javascript"
    }
   },
   "outputs": [],
   "source": [
    "db.persons.aggregate([\n",
    "    { $match: { gender: 'female' } },\n",
    "    { $group: { _id: { state: \"$location.state\" }, totalPersons: { $sum: 1 } } },\n",
    "    { $sort: { totalPersons: -1 }}\n",
    "])"
   ]
  },
  {
   "cell_type": "markdown",
   "metadata": {},
   "source": [
    "---"
   ]
  },
  {
   "cell_type": "markdown",
   "metadata": {},
   "source": [
    "## 12.7 Assignment: Time to Practice - The Aggregation Framework\n",
    "\n",
    "1. [`$avg` (aggregation)](https://www.mongodb.com/docs/manual/reference/operator/aggregation/avg/#-avg--aggregation-)"
   ]
  },
  {
   "cell_type": "markdown",
   "metadata": {},
   "source": [
    "### 12.7.1 Activity\n",
    "\n",
    "- Build a pipeline to find only persons older than 50\n",
    "- group than by gender\n",
    "- find out how many persons we have by gender \n",
    "- the average age by gender\n"
   ]
  },
  {
   "cell_type": "code",
   "execution_count": null,
   "metadata": {
    "vscode": {
     "languageId": "javascript"
    }
   },
   "outputs": [],
   "source": [
    "db.persons.aggregate( [ \n",
    "    { $match: { \"dob.age\": { $gt: 50 } }},\n",
    "    { $group: { _id: { gender: \"$gender\" }, totalPersons: { $sum: 1 }, avgAge: { $avg: \"$dob.age\" } } },\n",
    "    { $sort: { totalPersons: -1 } }\n",
    "])"
   ]
  },
  {
   "cell_type": "markdown",
   "metadata": {},
   "source": [
    "- Output da query acima:"
   ]
  },
  {
   "cell_type": "code",
   "execution_count": null,
   "metadata": {
    "vscode": {
     "languageId": "powershell"
    }
   },
   "outputs": [],
   "source": [
    "[\n",
    "    {\n",
    "      _id: { gender: 'female' },\n",
    "      totalPersons: 1125,\n",
    "      avgAge: 61.90577777777778\n",
    "    },\n",
    "    {\n",
    "      _id: { gender: 'male' },\n",
    "      totalPersons: 1079,\n",
    "      avgAge: 62.066728452270624\n",
    "    }\n",
    "  ]"
   ]
  },
  {
   "cell_type": "markdown",
   "metadata": {},
   "source": [
    "---"
   ]
  },
  {
   "cell_type": "markdown",
   "metadata": {},
   "source": [
    "## 12.8 Working with `$project`\n",
    "\n",
    "1. [`$project` (aggregation)](https://www.mongodb.com/docs/manual/reference/operator/aggregation/project/#-project--aggregation-)\n",
    "2. [`$concat` (aggregation)](https://www.mongodb.com/docs/manual/reference/operator/aggregation/concat/#-concat--aggregation-)\n",
    "3. [Expression Operators](https://www.mongodb.com/docs/manual/reference/operator/aggregation/#expression-operators)"
   ]
  },
  {
   "cell_type": "markdown",
   "metadata": {},
   "source": [
    ">`$project`\n",
    ">\n",
    "> Passes along the documents with the requested fields to the next stage in the pipeline. The specified fields can be existing fields from the input documents or newly computed fields."
   ]
  },
  {
   "cell_type": "code",
   "execution_count": null,
   "metadata": {
    "vscode": {
     "languageId": "javascript"
    }
   },
   "outputs": [],
   "source": [
    "db.persons.aggregate( [\n",
    "    { $project: \n",
    "        { _id: 0,\n",
    "          gender: 1,\n",
    "          fullName: { $concat: [ \"$name.first\", \" \", \"$name.last\" ]}\n",
    "        }\n",
    "    }, { $sort: { fullName: 1 } }\n",
    "])"
   ]
  },
  {
   "cell_type": "markdown",
   "metadata": {},
   "source": [
    "- Output parcial da query acima:"
   ]
  },
  {
   "cell_type": "code",
   "execution_count": null,
   "metadata": {
    "vscode": {
     "languageId": "powershell"
    }
   },
   "outputs": [],
   "source": [
    "[\n",
    "    { gender: 'female', fullName: 'aada hakola' },\n",
    "    { gender: 'female', fullName: 'aada lepisto' },\n",
    "    { gender: 'female', fullName: 'aada seppala' },\n",
    "    { gender: 'female', fullName: 'aada waisanen' },\n",
    "    { gender: 'female', fullName: 'aada walli' },\n",
    "    { gender: 'female', fullName: 'aafke cameron' },\n",
    "    { gender: 'male', fullName: 'aapo tuominen' },\n",
    "    { gender: 'male', fullName: 'aaron bertrand' },\n",
    "    { gender: 'male', fullName: 'aaron cooper' },\n",
    "    { gender: 'male', fullName: 'aaron duncan' },\n",
    "    { gender: 'male', fullName: 'aaron duval' },\n",
    "    { gender: 'male', fullName: 'aaron edwards' },\n",
    "    { gender: 'male', fullName: 'aatu waara' },\n",
    "    { gender: 'female', fullName: 'aaya den os' },\n",
    "    { gender: 'female', fullName: 'abbey williams' },\n",
    "    { gender: 'female', fullName: 'abbie brown' },\n",
    "    { gender: 'female', fullName: 'abby fernandez' },\n",
    "    { gender: 'male', fullName: 'abdelhakim leemburg' },\n",
    "    { gender: 'male', fullName: 'abdullahi fjelldal' },\n",
    "    { gender: 'female', fullName: 'abigail brady' }\n",
    "  ]"
   ]
  },
  {
   "cell_type": "markdown",
   "metadata": {},
   "source": [
    "- É possível realizar outras modificações com o `$project`, como alterar as palavras para _uppercase_:\n",
    "\n",
    "> `$toUpper`: Converts a string to uppercase. Accepts a single argument expression."
   ]
  },
  {
   "cell_type": "code",
   "execution_count": null,
   "metadata": {
    "vscode": {
     "languageId": "javascript"
    }
   },
   "outputs": [],
   "source": [
    "db.persons.aggregate( [\n",
    "    { $project: \n",
    "        { _id: 0,\n",
    "          gender: 1,\n",
    "          fullName: { $concat: [ { $toUpper: \"$name.first\" }, \" \", { $toUpper: \"$name.last\" } ]}\n",
    "        }\n",
    "    }, { $sort: { fullName: 1 } }\n",
    "])"
   ]
  },
  {
   "cell_type": "markdown",
   "metadata": {},
   "source": [
    "- Output parcial da query acima:"
   ]
  },
  {
   "cell_type": "code",
   "execution_count": null,
   "metadata": {
    "vscode": {
     "languageId": "powershell"
    }
   },
   "outputs": [],
   "source": [
    "[\n",
    "    { gender: 'female', fullName: 'AADA HAKOLA' },\n",
    "    { gender: 'female', fullName: 'AADA LEPISTO' },\n",
    "    { gender: 'female', fullName: 'AADA SEPPALA' },\n",
    "    { gender: 'female', fullName: 'AADA WAISANEN' },\n",
    "    { gender: 'female', fullName: 'AADA WALLI' },\n",
    "    { gender: 'female', fullName: 'AAFKE CAMERON' },\n",
    "    { gender: 'male', fullName: 'AAPO TUOMINEN' },\n",
    "    { gender: 'male', fullName: 'AARON BERTRAND' },\n",
    "    { gender: 'male', fullName: 'AARON COOPER' },\n",
    "    { gender: 'male', fullName: 'AARON DUNCAN' },\n",
    "    { gender: 'male', fullName: 'AARON DUVAL' },\n",
    "    { gender: 'male', fullName: 'AARON EDWARDS' },\n",
    "    { gender: 'male', fullName: 'AATU WAARA' },\n",
    "    { gender: 'female', fullName: 'AAYA DEN OS' },\n",
    "    { gender: 'female', fullName: 'ABBEY WILLIAMS' },\n",
    "    { gender: 'female', fullName: 'ABBIE BROWN' },\n",
    "    { gender: 'female', fullName: 'ABBY FERNANDEZ' },\n",
    "    { gender: 'male', fullName: 'ABDELHAKIM LEEMBURG' },\n",
    "    { gender: 'male', fullName: 'ABDULLAHI FJELLDAL' },\n",
    "    { gender: 'female', fullName: 'ABIGAIL BRADY' }\n",
    "  ]"
   ]
  },
  {
   "cell_type": "markdown",
   "metadata": {},
   "source": [
    "- Também é possível trabalhar com alterações somente em alguns trechos da string\n",
    "- O exemplo da query abaixo transforma somente a primeira letra dos nomes em maiúscula\n",
    "\n",
    "> - `$substrCP`: Returns the **substring of a string**. Starts with the character at the specified UTF-8 code point (CP) index (zero-based) in the string and continues for the number of code points specified.\n",
    ">\n",
    "> - `$strLenCP`: Returns the **number of UTF-8 code points in a string**.\n",
    ">\n",
    "> - `$subtract`: Returns the result of **subtracting the second value from the first**. If the two values are numbers, return the difference. If the two values are dates, return the difference in milliseconds. If the two values are a date and a number in milliseconds, return the resulting date. Accepts two argument expressions. If the two values are a date and a number, specify the date argument first as it is not meaningful to subtract a date from a number."
   ]
  },
  {
   "cell_type": "code",
   "execution_count": null,
   "metadata": {
    "vscode": {
     "languageId": "javascript"
    }
   },
   "outputs": [],
   "source": [
    "db.persons.aggregate( [\n",
    "    { $project: {\n",
    "        _id: 0,\n",
    "        gender: 1,\n",
    "        fullName: {\n",
    "          $concat: [\n",
    "            { $toUpper: { $substrCP: [ \"$name.first\", 0, 1] } },\n",
    "            { $substrCP: [ \"$name.first\", 1, { $subtract: [ { $strLenCP: \"$name.first\"}, 1 ] } ] },\n",
    "            \" \",\n",
    "            { $toUpper: { $substrCP: [ \"$name.last\", 0, 1] } },\n",
    "            { $substrCP: [ \"$name.last\", 1, { $subtract: [ { $strLenCP: \"$name.last\"}, 1 ] } ] }\n",
    "        ] }\n",
    "    } },\n",
    "    { $sort: { fullName: 1 } }\n",
    "])"
   ]
  },
  {
   "cell_type": "markdown",
   "metadata": {},
   "source": [
    "- Output parcial da query acima:"
   ]
  },
  {
   "cell_type": "code",
   "execution_count": null,
   "metadata": {
    "vscode": {
     "languageId": "powershell"
    }
   },
   "outputs": [],
   "source": [
    "[\n",
    "    { gender: 'female', fullName: 'Aada Hakola' },\n",
    "    { gender: 'female', fullName: 'Aada Lepisto' },\n",
    "    { gender: 'female', fullName: 'Aada Seppala' },\n",
    "    { gender: 'female', fullName: 'Aada Waisanen' },\n",
    "    { gender: 'female', fullName: 'Aada Walli' },\n",
    "    { gender: 'female', fullName: 'Aafke Cameron' },\n",
    "    { gender: 'male', fullName: 'Aapo Tuominen' },\n",
    "    { gender: 'male', fullName: 'Aaron Bertrand' },\n",
    "    { gender: 'male', fullName: 'Aaron Cooper' },\n",
    "    { gender: 'male', fullName: 'Aaron Duncan' },\n",
    "    { gender: 'male', fullName: 'Aaron Duval' },\n",
    "    { gender: 'male', fullName: 'Aaron Edwards' },\n",
    "    { gender: 'male', fullName: 'Aatu Waara' },\n",
    "    { gender: 'female', fullName: 'Aaya Den os' },\n",
    "    { gender: 'female', fullName: 'Abbey Williams' },\n",
    "    { gender: 'female', fullName: 'Abbie Brown' },\n",
    "    { gender: 'female', fullName: 'Abby Fernandez' },\n",
    "    { gender: 'male', fullName: 'Abdelhakim Leemburg' },\n",
    "    { gender: 'male', fullName: 'Abdullahi Fjelldal' },\n",
    "    { gender: 'female', fullName: 'Abigail Brady' }\n",
    "  ]"
   ]
  },
  {
   "cell_type": "markdown",
   "metadata": {},
   "source": [
    "---"
   ]
  },
  {
   "cell_type": "markdown",
   "metadata": {},
   "source": [
    "## 12.9 Turning the location into a geoJSON object\n",
    "\n",
    "1. [`$convert` (aggregation)](https://www.mongodb.com/docs/manual/reference/operator/aggregation/convert/#-convert--aggregation-)"
   ]
  },
  {
   "cell_type": "code",
   "execution_count": null,
   "metadata": {
    "vscode": {
     "languageId": "javascript"
    }
   },
   "outputs": [],
   "source": [
    "db.persons.aggregate( [\n",
    "    {\n",
    "        $project: {\n",
    "            _id: 0, \n",
    "            name: 1, \n",
    "            email: 1,\n",
    "            location: { \n",
    "                type: \"Point\",\n",
    "                coordinates: [ \n",
    "                    \"$location.coordinates.longitude\", \n",
    "                    \"$location.coordinates.latitude\"\n",
    "                ]\n",
    "            }\n",
    "        }\n",
    "    },\n",
    "    { $project: {\n",
    "        gender: 1,\n",
    "        email: 1,\n",
    "        location: 1,\n",
    "        fullName: {\n",
    "          $concat: [\n",
    "            { $toUpper: { $substrCP: [ \"$name.first\", 0, 1] } },\n",
    "            { $substrCP: [ \"$name.first\", 1, { $subtract: [ { $strLenCP: \"$name.first\"}, 1 ] } ] },\n",
    "            \" \",\n",
    "            { $toUpper: { $substrCP: [ \"$name.last\", 0, 1] } },\n",
    "            { $substrCP: [ \"$name.last\", 1, { $subtract: [ { $strLenCP: \"$name.last\"}, 1 ] } ] }\n",
    "        ] }\n",
    "    } },\n",
    "    { $sort: { fullName: 1 } }\n",
    "])"
   ]
  },
  {
   "cell_type": "markdown",
   "metadata": {},
   "source": [
    "- Output da query acima:\n",
    "    - note que o campo das coordenadas é uma string\n",
    "    - precisaremos converter isto"
   ]
  },
  {
   "cell_type": "code",
   "execution_count": null,
   "metadata": {
    "vscode": {
     "languageId": "powershell"
    }
   },
   "outputs": [],
   "source": [
    "[\n",
    "  {\n",
    "    location: { type: 'Point', coordinates: [ '-179.7521', '30.6068' ] },\n",
    "    email: 'abdullahi.fjelldal@example.com',\n",
    "    fullName: 'Abdullahi Fjelldal'\n",
    "  },\n",
    "  {\n",
    "    location: { type: 'Point', coordinates: [ '-152.6688', '-28.8985' ] },\n",
    "    email: 'abigail.brady@example.com',\n",
    "    fullName: 'Abigail Brady'\n",
    "  }\n",
    "]"
   ]
  },
  {
   "cell_type": "markdown",
   "metadata": {},
   "source": [
    "- Usando a expressão `$convert`, podemos converter o campo para outro tipo de dado\n",
    "\n",
    "> `$convert`: Converts a value to a specified type."
   ]
  },
  {
   "cell_type": "code",
   "execution_count": null,
   "metadata": {
    "vscode": {
     "languageId": "javascript"
    }
   },
   "outputs": [],
   "source": [
    "db.persons.aggregate( [\n",
    "    {\n",
    "        $project: { _id: 0, name: 1, email: 1, location:\n",
    "            { \n",
    "                type: \"Point\",\n",
    "                coordinates: [ \n",
    "                    { $convert: { input: \"$location.coordinates.longitude\", to: \"double\", onError: 0.0, onNull: 0.0 } }, \n",
    "                    { $convert: { input: \"$location.coordinates.latitude\", to: \"double\", onError: 0.0, onNull: 0.0 } }\n",
    "                ]\n",
    "            }\n",
    "        }\n",
    "    },\n",
    "    { \n",
    "        $project: { gender: 1, email: 1, location: 1, fullName:\n",
    "            {\n",
    "                $concat: [\n",
    "                    { $toUpper: { $substrCP: [ \"$name.first\", 0, 1] } },\n",
    "                    { $substrCP: [ \"$name.first\", 1, { $subtract: [ { $strLenCP: \"$name.first\"}, 1 ] } ] },\n",
    "                    \" \",\n",
    "                    { $toUpper: { $substrCP: [ \"$name.last\", 0, 1] } },\n",
    "                    { $substrCP: [ \"$name.last\", 1, { $subtract: [ { $strLenCP: \"$name.last\"}, 1 ] } ] }\n",
    "                ]\n",
    "            }\n",
    "        }\n",
    "    }, { $sort: { fullName: 1 } } ] )"
   ]
  },
  {
   "cell_type": "markdown",
   "metadata": {},
   "source": [
    "- Output da query acima:\n",
    "    - note que o campo das coordenadas agora é numérico"
   ]
  },
  {
   "cell_type": "code",
   "execution_count": null,
   "metadata": {
    "vscode": {
     "languageId": "javascript"
    }
   },
   "outputs": [],
   "source": [
    "[\n",
    "  {\n",
    "    location: { type: 'Point', coordinates: [ -179.7521, 30.6068 ] },\n",
    "    email: 'abdullahi.fjelldal@example.com',\n",
    "    fullName: 'Abdullahi Fjelldal'\n",
    "  },\n",
    "  {\n",
    "    location: { type: 'Point', coordinates: [ -152.6688, -28.8985 ] },\n",
    "    email: 'abigail.brady@example.com',\n",
    "    fullName: 'Abigail Brady'\n",
    "  }\n",
    "]"
   ]
  },
  {
   "cell_type": "markdown",
   "metadata": {},
   "source": [
    "---"
   ]
  },
  {
   "cell_type": "markdown",
   "metadata": {},
   "source": [
    "## 12.10 Transforming the Birthdate"
   ]
  },
  {
   "cell_type": "markdown",
   "metadata": {},
   "source": [
    "- A ideia agora é transformar a informação do 'nested document' `dob` em campos principais:\n",
    " - birthdate: com a data de nascimento da pessoa\n",
    " - age: com a idade da pessoa\n",
    "    - o campo birthdate terá que ser convertido para o formato \"date\""
   ]
  },
  {
   "cell_type": "code",
   "execution_count": null,
   "metadata": {
    "vscode": {
     "languageId": "javascript"
    }
   },
   "outputs": [],
   "source": [
    "db.persons.aggregate( [\n",
    "    {\n",
    "        $project: { _id: 0, name: 1, email: 1,\n",
    "            birthdate:\n",
    "            {\n",
    "                $convert: { input: \"$dob.date\", to: \"date\" }\n",
    "            },\n",
    "            age: \"$dob.age\",\n",
    "            location:\n",
    "            { \n",
    "                type: \"Point\",\n",
    "                coordinates: [ \n",
    "                    { $convert: { input: \"$location.coordinates.longitude\", to: \"double\", onError: 0.0, onNull: 0.0 } }, \n",
    "                    { $convert: { input: \"$location.coordinates.latitude\", to: \"double\", onError: 0.0, onNull: 0.0 } }\n",
    "                ]\n",
    "            }\n",
    "        }\n",
    "    },\n",
    "    { \n",
    "        $project: { gender: 1, email: 1, location: 1, birthdate: 1, age: 1, fullName:\n",
    "            {\n",
    "                $concat: [\n",
    "                    { $toUpper: { $substrCP: [ \"$name.first\", 0, 1] } },\n",
    "                    { $substrCP: [ \"$name.first\", 1, { $subtract: [ { $strLenCP: \"$name.first\"}, 1 ] } ] },\n",
    "                    \" \",\n",
    "                    { $toUpper: { $substrCP: [ \"$name.last\", 0, 1] } },\n",
    "                    { $substrCP: [ \"$name.last\", 1, { $subtract: [ { $strLenCP: \"$name.last\"}, 1 ] } ] }\n",
    "                ]\n",
    "            }\n",
    "        }\n",
    "    }, { $sort: { fullName: 1 } } ] )"
   ]
  },
  {
   "cell_type": "markdown",
   "metadata": {},
   "source": [
    "- Output da query acima:"
   ]
  },
  {
   "cell_type": "code",
   "execution_count": null,
   "metadata": {
    "vscode": {
     "languageId": "powershell"
    }
   },
   "outputs": [],
   "source": [
    "[\n",
    "  {\n",
    "    location: { type: 'Point', coordinates: [ -179.7521, 30.6068 ] },\n",
    "    email: 'abdullahi.fjelldal@example.com',\n",
    "    birthdate: ISODate('1966-11-29T22:28:10.000Z'),\n",
    "    age: 51,\n",
    "    fullName: 'Abdullahi Fjelldal'\n",
    "  },\n",
    "  {\n",
    "    location: { type: 'Point', coordinates: [ -152.6688, -28.8985 ] },\n",
    "    email: 'abigail.brady@example.com',\n",
    "    birthdate: ISODate('1968-09-20T05:32:57.000Z'),\n",
    "    age: 49,\n",
    "    fullName: 'Abigail Brady'\n",
    "  }\n",
    "]"
   ]
  },
  {
   "cell_type": "markdown",
   "metadata": {},
   "source": [
    "---"
   ]
  },
  {
   "cell_type": "markdown",
   "metadata": {},
   "source": [
    "## 12.11 Using shortcuts for transformations\n",
    "\n",
    "1. [`$toDate` (aggregation)](https://www.mongodb.com/docs/manual/reference/operator/aggregation/toDate/#-todate--aggregation-)"
   ]
  },
  {
   "cell_type": "markdown",
   "metadata": {},
   "source": [
    "> In addition to `$convert`, MongoDB provides the following aggregation operators as shorthand when the default \"**onError**\" and \"**onNull**\" behavior is acceptable:\n",
    ">\n",
    "> `$toBool`\n",
    ">\n",
    "> `$toDate`\n",
    ">\n",
    "> `$toDecimal`\n",
    ">\n",
    "> `$toDouble`\n",
    ">\n",
    "> `$toInt`\n",
    ">\n",
    "> `$toLong`\n",
    ">\n",
    "> `$toObjectId`\n",
    ">\n",
    "> `$toString`\n",
    ">\n",
    "> `$toUUID`"
   ]
  },
  {
   "cell_type": "markdown",
   "metadata": {},
   "source": [
    "- Como não usamos \"onError\" ou \"onNull\" no campo `birthdate`, vamos reescrever a query usando um _shortcut_:"
   ]
  },
  {
   "cell_type": "code",
   "execution_count": null,
   "metadata": {
    "vscode": {
     "languageId": "javascript"
    }
   },
   "outputs": [],
   "source": [
    "db.persons.aggregate( [\n",
    "    {\n",
    "        $project: { _id: 0, name: 1, email: 1,\n",
    "            birthdate:\n",
    "            {\n",
    "                $toDate: \"$dob.date\"\n",
    "            },\n",
    "            age: \"$dob.age\",\n",
    "            location:\n",
    "            { \n",
    "                type: \"Point\",\n",
    "                coordinates: [ \n",
    "                    { $convert: { input: \"$location.coordinates.longitude\", to: \"double\", onError: 0.0, onNull: 0.0 } }, \n",
    "                    { $convert: { input: \"$location.coordinates.latitude\", to: \"double\", onError: 0.0, onNull: 0.0 } }\n",
    "                ]\n",
    "            }\n",
    "        }\n",
    "    }\n",
    "])"
   ]
  },
  {
   "cell_type": "markdown",
   "metadata": {},
   "source": [
    "- Output da query acima:"
   ]
  },
  {
   "cell_type": "code",
   "execution_count": null,
   "metadata": {
    "vscode": {
     "languageId": "powershell"
    }
   },
   "outputs": [],
   "source": [
    "[\n",
    "  {\n",
    "    name: { title: 'mr', first: 'gideon', last: 'van drongelen' },\n",
    "    location: { type: 'Point', coordinates: [ -54.1364, -86.1268 ] },\n",
    "    email: 'gideon.vandrongelen@example.com',\n",
    "    birthdate: ISODate('1971-03-28T04:47:21.000Z'),\n",
    "    age: 47\n",
    "  },\n",
    "  {\n",
    "    name: { title: 'mademoiselle', first: 'delia', last: 'durand' },\n",
    "    location: { type: 'Point', coordinates: [ -90.4049, -65.0877 ] },\n",
    "    email: 'delia.durand@example.com',\n",
    "    birthdate: ISODate('1966-08-03T09:22:41.000Z'),\n",
    "    age: 52\n",
    "  }\n",
    "]"
   ]
  },
  {
   "cell_type": "markdown",
   "metadata": {},
   "source": [
    "---"
   ]
  },
  {
   "cell_type": "markdown",
   "metadata": {},
   "source": [
    "## 12.12 Understanding the `$isoWeekYear` operator\n",
    "\n",
    "1. [`$isoWeekYear` (aggregation)](https://www.mongodb.com/docs/manual/reference/operator/aggregation/isoWeekYear/#-isoweekyear--aggregation-)"
   ]
  },
  {
   "cell_type": "markdown",
   "metadata": {},
   "source": [
    "> `$isoWeekYear`: Returns the year number in ISO 8601 format. The year starts with the Monday of week 1 and ends with the Sunday of the last week.\n",
    "\n",
    "| **Field**  | **Description**                                                                                                                                                                                                                                                                                                                                                                                                                                                                                                                                                |\n",
    "|:----------:| -------------------------------------------------------------------------------------------------------------------------------------------------------------------------------------------------------------------------------------------------------------------------------------------------------------------------------------------------------------------------------------------------------------------------------------------------------------------------------------------------------------------------------------------------------------- |\n",
    "| `date`     | The date to which the operator is applied. `<dateExpression>` must be a valid [expression](https://www.mongodb.com/docs/manual/reference/operator/aggregation/#std-label-aggregation-expressions) that resolves to a [Date](https://www.mongodb.com/docs/manual/reference/bson-types/#std-label-document-bson-type-date), a [Timestamp](https://www.mongodb.com/docs/manual/reference/bson-types/#std-label-document-bson-type-timestamp), or an [ObjectID.](https://www.mongodb.com/docs/manual/reference/bson-types/#std-label-document-bson-type-object-id) |\n",
    "| `timezone` | Optional. The timezone of the operation result. `<tzExpression>` must be a valid [expression](https://www.mongodb.com/docs/manual/reference/operator/aggregation/#std-label-aggregation-expressions) that resolves to a string formatted as either an [Olson Timezone Identifier](https://en.wikipedia.org/wiki/List_of_tz_database_time_zones) or a [UTC Offset](https://en.wikipedia.org/wiki/List_of_UTC_time_offsets).<br>If no `timezone` is provided, the result is in UTC.                                                                                 |\n"
   ]
  },
  {
   "cell_type": "markdown",
   "metadata": {},
   "source": [
    "- Vamos agrupar as pessoas pelo ano de nascimento e ordenar pelos anos com mais pessoas nascidas"
   ]
  },
  {
   "cell_type": "code",
   "execution_count": null,
   "metadata": {
    "vscode": {
     "languageId": "javascript"
    }
   },
   "outputs": [],
   "source": [
    "db.persons.aggregate( [\n",
    "    {\n",
    "        $project: { _id: 0, name: 1, email: 1,\n",
    "            birthdate: { $toDate: \"$dob.date\" },\n",
    "            age: \"$dob.age\",\n",
    "            location:\n",
    "            { \n",
    "                type: \"Point\",\n",
    "                coordinates: [ \n",
    "                    { $convert: { input: \"$location.coordinates.longitude\", to: \"double\", onError: 0.0, onNull: 0.0 } }, \n",
    "                    { $convert: { input: \"$location.coordinates.latitude\", to: \"double\", onError: 0.0, onNull: 0.0 } }\n",
    "                ]\n",
    "            }\n",
    "        }\n",
    "    },\n",
    "    { \n",
    "        $project: { gender: 1, email: 1, location: 1, birthdate: 1, age: 1, fullName:\n",
    "            {\n",
    "                $concat: [\n",
    "                    { $toUpper: { $substrCP: [ \"$name.first\", 0, 1] } },\n",
    "                    { $substrCP: [ \"$name.first\", 1, { $subtract: [ { $strLenCP: \"$name.first\"}, 1 ] } ] },\n",
    "                    \" \",\n",
    "                    { $toUpper: { $substrCP: [ \"$name.last\", 0, 1] } },\n",
    "                    { $substrCP: [ \"$name.last\", 1, { $subtract: [ { $strLenCP: \"$name.last\"}, 1 ] } ] }\n",
    "                ]\n",
    "            }\n",
    "        }\n",
    "    },\n",
    "    { $group: { _id: { birthYear: { $isoWeekYear: \"$birthdate\" }}, numPersons: { $sum: 1} } },\n",
    "    { $sort: { numPersons: -1 } }\n",
    "] )"
   ]
  },
  {
   "cell_type": "markdown",
   "metadata": {},
   "source": [
    "- Output parcial da query acima:"
   ]
  },
  {
   "cell_type": "code",
   "execution_count": null,
   "metadata": {
    "vscode": {
     "languageId": "powershell"
    }
   },
   "outputs": [],
   "source": [
    "[\n",
    "  { _id: { birthYear: Long('1955') }, numPersons: 113 },\n",
    "  { _id: { birthYear: Long('1961') }, numPersons: 111 },\n",
    "  { _id: { birthYear: Long('1960') }, numPersons: 110 },\n",
    "  { _id: { birthYear: Long('1993') }, numPersons: 110 },\n",
    "  { _id: { birthYear: Long('1975') }, numPersons: 107 },\n",
    "  { _id: { birthYear: Long('1945') }, numPersons: 106 },\n",
    "  { _id: { birthYear: Long('1976') }, numPersons: 105 },\n",
    "  { _id: { birthYear: Long('1967') }, numPersons: 104 },\n",
    "  { _id: { birthYear: Long('1990') }, numPersons: 103 },\n",
    "  { _id: { birthYear: Long('1981') }, numPersons: 102 },\n",
    "  { _id: { birthYear: Long('1994') }, numPersons: 102 },\n",
    "  { _id: { birthYear: Long('1958') }, numPersons: 101 },\n",
    "  { _id: { birthYear: Long('1995') }, numPersons: 101 },\n",
    "  { _id: { birthYear: Long('1948') }, numPersons: 100 },\n",
    "  { _id: { birthYear: Long('1946') }, numPersons: 100 },\n",
    "  { _id: { birthYear: Long('1983') }, numPersons: 99 },\n",
    "  { _id: { birthYear: Long('1970') }, numPersons: 99 },\n",
    "  { _id: { birthYear: Long('1950') }, numPersons: 99 },\n",
    "  { _id: { birthYear: Long('1963') }, numPersons: 98 },\n",
    "  { _id: { birthYear: Long('1965') }, numPersons: 98 }\n",
    "]"
   ]
  },
  {
   "cell_type": "markdown",
   "metadata": {},
   "source": [
    "---"
   ]
  },
  {
   "cell_type": "markdown",
   "metadata": {},
   "source": [
    "## 12.13 $group vs. $project"
   ]
  },
  {
   "cell_type": "markdown",
   "metadata": {},
   "source": [
    "- `$group`: is for grouping multiple documents into 1 document\n",
    "- `$project`: is 1:1 relation -> 1 give 1 document and get 1 document back, but changed\n",
    "\n",
    "<img src=\"imgs\\s12\\s12-2.png\" width=700 height=350 >"
   ]
  },
  {
   "cell_type": "markdown",
   "metadata": {},
   "source": [
    "---"
   ]
  },
  {
   "cell_type": "markdown",
   "metadata": {},
   "source": [
    "## 12.14 Pushing elements to a newly created arrays\n",
    "\n",
    "1. [`$push` (aggregation)](https://www.mongodb.com/docs/manual/reference/operator/aggregation/push/#-push--aggregation-)"
   ]
  },
  {
   "cell_type": "markdown",
   "metadata": {},
   "source": [
    "- o arquivo para criação da *collection* está em \"resources\" -> `array-data.json`"
   ]
  },
  {
   "cell_type": "code",
   "execution_count": null,
   "metadata": {
    "vscode": {
     "languageId": "javascript"
    }
   },
   "outputs": [],
   "source": [
    "db.friends.insertMany(\n",
    "    [\n",
    "        {\n",
    "          \"name\": \"Max\",\n",
    "          \"hobbies\": [\"Sports\", \"Cooking\"],\n",
    "          \"age\": 29,\n",
    "          \"examScores\": [\n",
    "            { \"difficulty\": 4, \"score\": 57.9 },\n",
    "            { \"difficulty\": 6, \"score\": 62.1 },\n",
    "            { \"difficulty\": 3, \"score\": 88.5 }\n",
    "          ]\n",
    "        },\n",
    "        {\n",
    "          \"name\": \"Manu\",\n",
    "          \"hobbies\": [\"Eating\", \"Data Analytics\"],\n",
    "          \"age\": 30,\n",
    "          \"examScores\": [\n",
    "            { \"difficulty\": 7, \"score\": 52.1 },\n",
    "            { \"difficulty\": 2, \"score\": 74.3 },\n",
    "            { \"difficulty\": 5, \"score\": 53.1 }\n",
    "          ]\n",
    "        },\n",
    "        {\n",
    "          \"name\": \"Maria\",\n",
    "          \"hobbies\": [\"Cooking\", \"Skiing\"],\n",
    "          \"age\": 29,\n",
    "          \"examScores\": [\n",
    "            { \"difficulty\": 3, \"score\": 75.1 },\n",
    "            { \"difficulty\": 8, \"score\": 44.2 },\n",
    "            { \"difficulty\": 6, \"score\": 61.5 }\n",
    "          ]\n",
    "        }\n",
    "    ]\n",
    ")"
   ]
  },
  {
   "cell_type": "markdown",
   "metadata": {},
   "source": [
    "- merge or combine arrays in a group stage:"
   ]
  },
  {
   "cell_type": "code",
   "execution_count": null,
   "metadata": {
    "vscode": {
     "languageId": "javascript"
    }
   },
   "outputs": [],
   "source": [
    "db.friends.aggregate( [\n",
    "    { $group: { _id: { age: \"$age\"}, allHobbies: { $push: \"$hobbies\" } } }\n",
    "])"
   ]
  },
  {
   "cell_type": "markdown",
   "metadata": {},
   "source": [
    "- Output da query acima:"
   ]
  },
  {
   "cell_type": "code",
   "execution_count": null,
   "metadata": {
    "vscode": {
     "languageId": "powershell"
    }
   },
   "outputs": [],
   "source": [
    "[\n",
    "    {\n",
    "      _id: { age: 29 },\n",
    "      allHobbies: [ [ 'Sports', 'Cooking' ], [ 'Cooking', 'Skiing' ] ]\n",
    "    },\n",
    "    { _id: { age: 30 }, allHobbies: [ [ 'Eating', 'Data Analytics' ] ] }\n",
    "  ]"
   ]
  },
  {
   "cell_type": "markdown",
   "metadata": {},
   "source": [
    "---"
   ]
  },
  {
   "cell_type": "markdown",
   "metadata": {},
   "source": [
    "## 12.15 Understanding the `$unwind` stage\n",
    "\n",
    "1. [`$unwind` (aggregation)](https://www.mongodb.com/docs/manual/reference/operator/aggregation/unwind/#-unwind--aggregation-)"
   ]
  },
  {
   "cell_type": "markdown",
   "metadata": {},
   "source": [
    "> `$unwind`:\n",
    ">\n",
    "> Deconstructs an array field from the input documents to output a document for each element.\n",
    ">\n",
    "> Each output document is the input document with the value of the array field replaced by the element."
   ]
  },
  {
   "cell_type": "markdown",
   "metadata": {},
   "source": [
    "### Exemplo 1:"
   ]
  },
  {
   "cell_type": "code",
   "execution_count": null,
   "metadata": {
    "vscode": {
     "languageId": "javascript"
    }
   },
   "outputs": [],
   "source": [
    "db.friends.aggregate( [\n",
    "    { $unwind: \"$hobbies\" }\n",
    "])"
   ]
  },
  {
   "cell_type": "markdown",
   "metadata": {},
   "source": [
    "- Output da query acima:"
   ]
  },
  {
   "cell_type": "code",
   "execution_count": null,
   "metadata": {
    "vscode": {
     "languageId": "powershell"
    }
   },
   "outputs": [],
   "source": [
    "[\n",
    "    {\n",
    "      _id: ObjectId('67f96c55614df4be84b71236'),\n",
    "      name: 'Max',\n",
    "      hobbies: 'Sports',\n",
    "      age: 29,\n",
    "      examScores: [\n",
    "        { difficulty: 4, score: 57.9 },\n",
    "        { difficulty: 6, score: 62.1 },\n",
    "        { difficulty: 3, score: 88.5 }\n",
    "      ]\n",
    "    },\n",
    "    {\n",
    "      _id: ObjectId('67f96c55614df4be84b71236'),\n",
    "      name: 'Max',\n",
    "      hobbies: 'Cooking',\n",
    "      age: 29,\n",
    "      examScores: [\n",
    "        { difficulty: 4, score: 57.9 },\n",
    "        { difficulty: 6, score: 62.1 },\n",
    "        { difficulty: 3, score: 88.5 }\n",
    "      ]\n",
    "    },\n",
    "    {\n",
    "      _id: ObjectId('67f96c55614df4be84b71237'),\n",
    "      name: 'Manu',\n",
    "      hobbies: 'Eating',\n",
    "      age: 30,\n",
    "      examScores: [\n",
    "        { difficulty: 7, score: 52.1 },\n",
    "        { difficulty: 2, score: 74.3 },\n",
    "        { difficulty: 5, score: 53.1 }\n",
    "      ]\n",
    "    },\n",
    "    {\n",
    "      _id: ObjectId('67f96c55614df4be84b71237'),\n",
    "      name: 'Manu',\n",
    "      hobbies: 'Data Analytics',\n",
    "      age: 30,\n",
    "      examScores: [\n",
    "        { difficulty: 7, score: 52.1 },\n",
    "        { difficulty: 2, score: 74.3 },\n",
    "        { difficulty: 5, score: 53.1 }\n",
    "      ]\n",
    "    },\n",
    "    {\n",
    "      _id: ObjectId('67f96c55614df4be84b71238'),\n",
    "      name: 'Maria',\n",
    "      hobbies: 'Cooking',\n",
    "      age: 29,\n",
    "      examScores: [\n",
    "        { difficulty: 3, score: 75.1 },\n",
    "        { difficulty: 8, score: 44.2 },\n",
    "        { difficulty: 6, score: 61.5 }\n",
    "      ]\n",
    "    },\n",
    "    {\n",
    "      _id: ObjectId('67f96c55614df4be84b71238'),\n",
    "      name: 'Maria',\n",
    "      hobbies: 'Skiing',\n",
    "      age: 29,\n",
    "      examScores: [\n",
    "        { difficulty: 3, score: 75.1 },\n",
    "        { difficulty: 8, score: 44.2 },\n",
    "        { difficulty: 6, score: 61.5 }\n",
    "      ]\n",
    "    }\n",
    "  ]"
   ]
  },
  {
   "cell_type": "markdown",
   "metadata": {},
   "source": [
    "### Exemplo 2:"
   ]
  },
  {
   "cell_type": "code",
   "execution_count": null,
   "metadata": {
    "vscode": {
     "languageId": "javascript"
    }
   },
   "outputs": [],
   "source": [
    "db.friends.aggregate( [\n",
    "    { $unwind: \"$hobbies\" },\n",
    "    { $group: { _id: { age: \"$age\"}, allHobbies: { $push: \"$hobbies\" } } }\n",
    "])"
   ]
  },
  {
   "cell_type": "markdown",
   "metadata": {},
   "source": [
    "- Output da query acima:"
   ]
  },
  {
   "cell_type": "code",
   "execution_count": null,
   "metadata": {
    "vscode": {
     "languageId": "powershell"
    }
   },
   "outputs": [],
   "source": [
    "[\n",
    "  {\n",
    "    _id: { age: 29 },\n",
    "    allHobbies: [ 'Sports', 'Cooking', 'Cooking', 'Skiing' ]\n",
    "  },\n",
    "  { _id: { age: 30 }, allHobbies: [ 'Eating', 'Data Analytics' ] }\n",
    "]"
   ]
  },
  {
   "cell_type": "markdown",
   "metadata": {},
   "source": [
    "---"
   ]
  },
  {
   "cell_type": "markdown",
   "metadata": {},
   "source": [
    "## 12.16 Eliminating duplicated values\n",
    "\n",
    "1. [`$addToSet`](https://www.mongodb.com/docs/manual/reference/operator/update/addToSet/#-addtoset)\n",
    "2. [`$addToSet` (aggregation)](https://www.mongodb.com/docs/manual/reference/operator/aggregation/addToSet/#-addtoset--aggregation-)"
   ]
  },
  {
   "cell_type": "markdown",
   "metadata": {},
   "source": [
    "> `$addToSet` returns an array of all unique values that results from applying an expression to each document in a group.\n",
    ">\n",
    "> The order of the elements in the returned array is unspecified."
   ]
  },
  {
   "cell_type": "code",
   "execution_count": null,
   "metadata": {
    "vscode": {
     "languageId": "javascript"
    }
   },
   "outputs": [],
   "source": [
    "db.friends.aggregate( [\n",
    "    { $unwind: \"$hobbies\" },\n",
    "    { $group: { _id: { age: \"$age\"}, allHobbies: { $addToSet: \"$hobbies\" } } }\n",
    "])"
   ]
  },
  {
   "cell_type": "markdown",
   "metadata": {},
   "source": [
    "- Output da query acima, evitando resultados duplicados:"
   ]
  },
  {
   "cell_type": "code",
   "execution_count": null,
   "metadata": {
    "vscode": {
     "languageId": "powershell"
    }
   },
   "outputs": [],
   "source": [
    "[\n",
    "    { _id: { age: 29 }, allHobbies: [ 'Cooking', 'Skiing', 'Sports' ] },\n",
    "    { _id: { age: 30 }, allHobbies: [ 'Eating', 'Data Analytics' ] }\n",
    "  ]"
   ]
  },
  {
   "cell_type": "markdown",
   "metadata": {},
   "source": [
    "---"
   ]
  },
  {
   "cell_type": "markdown",
   "metadata": {},
   "source": [
    "## 12.16 Using Projection with Arrays\n",
    "\n",
    "1. [`$slice` (aggregation)](https://www.mongodb.com/docs/manual/reference/operator/aggregation/slice/#-slice--aggregation-)"
   ]
  },
  {
   "cell_type": "markdown",
   "metadata": {},
   "source": [
    "- Digamos que queremos que seja exibido **somente o primeiro resultado** de um array:"
   ]
  },
  {
   "cell_type": "code",
   "execution_count": null,
   "metadata": {
    "vscode": {
     "languageId": "javascript"
    }
   },
   "outputs": [],
   "source": [
    "db.friends.aggregate([ { $project: { _id: 0, examScore: { $slice: [\"$examScores\", 1] }}} ])"
   ]
  },
  {
   "cell_type": "markdown",
   "metadata": {},
   "source": [
    "- Output da query acima:"
   ]
  },
  {
   "cell_type": "code",
   "execution_count": null,
   "metadata": {
    "vscode": {
     "languageId": "powershell"
    }
   },
   "outputs": [],
   "source": [
    "[\n",
    "    { examScore: [ { difficulty: 4, score: 57.9 } ] },\n",
    "    { examScore: [ { difficulty: 7, score: 52.1 } ] },\n",
    "    { examScore: [ { difficulty: 3, score: 75.1 } ] }\n",
    "  ]"
   ]
  },
  {
   "cell_type": "markdown",
   "metadata": {},
   "source": [
    "- Digamos que queremos que seja exibido **somente os últimos 2 resultados** de um array:"
   ]
  },
  {
   "cell_type": "code",
   "execution_count": null,
   "metadata": {
    "vscode": {
     "languageId": "javascript"
    }
   },
   "outputs": [],
   "source": [
    "db.friends.aggregate([ { $project: { _id: 0, examScore: { $slice: [\"$examScores\", -2] }}} ])"
   ]
  },
  {
   "cell_type": "markdown",
   "metadata": {},
   "source": [
    "- Output da query acima:"
   ]
  },
  {
   "cell_type": "code",
   "execution_count": null,
   "metadata": {
    "vscode": {
     "languageId": "powershell"
    }
   },
   "outputs": [],
   "source": [
    "[\n",
    "  {\n",
    "    examScore: [ { difficulty: 6, score: 62.1 }, { difficulty: 3, score: 88.5 } ]\n",
    "  },\n",
    "  {\n",
    "    examScore: [ { difficulty: 2, score: 74.3 }, { difficulty: 5, score: 53.1 } ]\n",
    "  },\n",
    "  {\n",
    "    examScore: [ { difficulty: 8, score: 44.2 }, { difficulty: 6, score: 61.5 } ]\n",
    "  }\n",
    "]"
   ]
  },
  {
   "cell_type": "markdown",
   "metadata": {},
   "source": [
    "- Digamos que queremos que seja exibido **somente 1 resultado** iniciando o array **à partir do 2º elemento**:"
   ]
  },
  {
   "cell_type": "code",
   "execution_count": null,
   "metadata": {
    "vscode": {
     "languageId": "javascript"
    }
   },
   "outputs": [],
   "source": [
    "db.friends.aggregate([ { $project: { _id: 0, examScore: { $slice: [\"$examScores\", 2, 1] }}} ])"
   ]
  },
  {
   "cell_type": "markdown",
   "metadata": {},
   "source": [
    "---"
   ]
  },
  {
   "cell_type": "markdown",
   "metadata": {},
   "source": [
    "## 2.17 Getting the length of an array\n",
    "\n",
    "1. [`$size` (aggregation)](https://www.mongodb.com/docs/manual/reference/operator/aggregation/size/#-size--aggregation-)"
   ]
  },
  {
   "cell_type": "markdown",
   "metadata": {},
   "source": [
    "> `$size`: Counts and returns the total number of items in an array.\n",
    "\n",
    "- Digamos que queremos saber a quantidade de valores dentro de um array:"
   ]
  },
  {
   "cell_type": "code",
   "execution_count": null,
   "metadata": {
    "vscode": {
     "languageId": "javascript"
    }
   },
   "outputs": [],
   "source": [
    "db.friends.aggregate([ { $project: { _id: 0, numScores: { $size: [ \"$examScores\" ] }}} ])"
   ]
  },
  {
   "cell_type": "markdown",
   "metadata": {},
   "source": [
    "- Output da query acima:"
   ]
  },
  {
   "cell_type": "code",
   "execution_count": null,
   "metadata": {
    "vscode": {
     "languageId": "powershell"
    }
   },
   "outputs": [],
   "source": [
    "[ { numScores: 3 }, { numScores: 3 }, { numScores: 3 } ]"
   ]
  },
  {
   "cell_type": "markdown",
   "metadata": {},
   "source": [
    "---"
   ]
  },
  {
   "cell_type": "markdown",
   "metadata": {},
   "source": [
    "## 2.18 Using the \"$filter\" operator\n",
    "\n",
    "1. [`$filter` (aggregation)](https://www.mongodb.com/docs/manual/reference/operator/aggregation/filter/#-filter--aggregation-)"
   ]
  },
  {
   "cell_type": "markdown",
   "metadata": {},
   "source": [
    ">`$filter`\n",
    ">\n",
    "> Selects a **subset of an array to return based on the specified condition**. Returns an array with **only those elements** that match the condition. The returned elements are in the original order."
   ]
  },
  {
   "cell_type": "markdown",
   "metadata": {},
   "source": [
    "- Vamos criar uma query onde só queremos resultados de **\"examScores\" com valor maior que 60**:\n",
    "\n",
    "    - `\"$sc\"`: geraria uma comparação de strings\n",
    "    - `\"$$sc\"`: gera uma comparação numérica"
   ]
  },
  {
   "cell_type": "code",
   "execution_count": null,
   "metadata": {
    "vscode": {
     "languageId": "javascript"
    }
   },
   "outputs": [],
   "source": [
    "db.friends.aggregate( [\n",
    "    { $project: { \n",
    "        _id: 0, \n",
    "        scores: { \n",
    "            $filter: { \n",
    "                input: \"$examScores\", \n",
    "                as: \"sc\", \n",
    "                cond: { $gt: [\"$$sc.score\", 60] } \n",
    "            }\n",
    "        }\n",
    "    } }\n",
    "] )"
   ]
  },
  {
   "cell_type": "markdown",
   "metadata": {},
   "source": [
    "- Output da query acima:"
   ]
  },
  {
   "cell_type": "code",
   "execution_count": null,
   "metadata": {
    "vscode": {
     "languageId": "powershell"
    }
   },
   "outputs": [],
   "source": [
    "[\n",
    "    {\n",
    "      scores: [ { difficulty: 6, score: 62.1 }, { difficulty: 3, score: 88.5 } ]\n",
    "    },\n",
    "    { scores: [ { difficulty: 2, score: 74.3 } ] },\n",
    "    {\n",
    "      scores: [ { difficulty: 3, score: 75.1 }, { difficulty: 6, score: 61.5 } ]\n",
    "    }\n",
    "  ]"
   ]
  },
  {
   "cell_type": "markdown",
   "metadata": {},
   "source": [
    "---"
   ]
  },
  {
   "cell_type": "markdown",
   "metadata": {},
   "source": [
    "## 2.19 Applying multiple operations to our Array\n",
    "\n",
    "1. [`$first` (aggregation)](https://www.mongodb.com/docs/manual/reference/operator/aggregation/first/#-first--aggregation-)"
   ]
  },
  {
   "cell_type": "markdown",
   "metadata": {},
   "source": [
    "- Exibir o maior \"examScore\" de cada pessoa da coleção:\n",
    "    - unwind, sort and then group together by person and take the first score\n",
    "\n",
    "> `$first`: Returns the result of an expression **for the first document in a group of documents**. Only meaningful when documents are in a defined order."
   ]
  },
  {
   "cell_type": "code",
   "execution_count": null,
   "metadata": {
    "vscode": {
     "languageId": "javascript"
    }
   },
   "outputs": [],
   "source": [
    "db.friends.aggregate([\n",
    "    { $unwind: \"$examScores\" },\n",
    "    { $project: { _id: 1, name: 1, age: 1, score: \"$examScores.score\"} },\n",
    "    { $sort: { score: -1} },\n",
    "    { $group: { _id: \"$_id\", name: { $first: \"$name\" }, maxScore: { $max: \"$score\"} } },\n",
    "    { $sort: { maxScore: -1}}\n",
    "])"
   ]
  },
  {
   "cell_type": "markdown",
   "metadata": {},
   "source": [
    "- Output da query acima:"
   ]
  },
  {
   "cell_type": "code",
   "execution_count": null,
   "metadata": {
    "vscode": {
     "languageId": "powershell"
    }
   },
   "outputs": [],
   "source": [
    "[\n",
    "    {\n",
    "      _id: ObjectId('67f96c55614df4be84b71236'),\n",
    "      name: 'Max',\n",
    "      maxScore: 88.5\n",
    "    },\n",
    "    {\n",
    "      _id: ObjectId('67f96c55614df4be84b71238'),\n",
    "      name: 'Maria',\n",
    "      maxScore: 75.1\n",
    "    },\n",
    "    {\n",
    "      _id: ObjectId('67f96c55614df4be84b71237'),\n",
    "      name: 'Manu',\n",
    "      maxScore: 74.3\n",
    "    }\n",
    "  ]"
   ]
  },
  {
   "cell_type": "markdown",
   "metadata": {},
   "source": [
    "---"
   ]
  },
  {
   "cell_type": "markdown",
   "metadata": {},
   "source": [
    "## 2.20 Understanding \"$bucket\"\n",
    "\n",
    "1. [`$bucket` (aggregation)](https://www.mongodb.com/docs/manual/reference/operator/aggregation/bucket/#-bucket--aggregation-)"
   ]
  },
  {
   "cell_type": "markdown",
   "metadata": {},
   "source": [
    "> `$bucket`:\n",
    "> categorizes incoming documents into groups, called buckets, based on a specified expression and bucket boundaries and outputs a document per each bucket. Each output document contains an _id field whose value specifies the inclusive lower bound of the bucket. The output option specifies the fields included in each output document.\n",
    ">\n",
    "> $bucket only produces output documents for buckets that contain at least one input document.\n",
    "\n",
    "| Field                                                                                                                | Type       | Description                                                                                                                                                                                                                                                                                                                                                                                                                                                                                                                                                                                                                                                                                                                                                                                                                                                                               |\n",
    "| -------------------------------------------------------------------------------------------------------------------- | ---------- | ----------------------------------------------------------------------------------------------------------------------------------------------------------------------------------------------------------------------------------------------------------------------------------------------------------------------------------------------------------------------------------------------------------------------------------------------------------------------------------------------------------------------------------------------------------------------------------------------------------------------------------------------------------------------------------------------------------------------------------------------------------------------------------------------------------------------------------------------------------------------------------------- |\n",
    "| [groupBy](https://www.mongodb.com/docs/manual/reference/operator/aggregation/bucket/#std-label-bucket-group-by)      | expression | An [expression](https://www.mongodb.com/docs/manual/reference/operator/aggregation/#std-label-aggregation-expressions) to group documents by.<br>To specify a [field path](https://www.mongodb.com/docs/manual/core/aggregation-pipeline/#std-label-agg-quick-ref-field-paths), prefix the field name with a dollar sign `$` and enclose it in quotes.<br>Unless [`$bucket`](https://www.mongodb.com/docs/manual/reference/operator/aggregation/bucket/#mongodb-pipeline-pipe.-bucket) includes a [default](https://www.mongodb.com/docs/manual/reference/operator/aggregation/bucket/#std-label-bucket-default) specification, each input document must resolve the `groupBy` field path or expression to a value that falls within one of the ranges specified by the [boundaries.](https://www.mongodb.com/docs/manual/reference/operator/aggregation/bucket/#std-label-bucket-boundaries)    |\n",
    "| [boundaries](https://www.mongodb.com/docs/manual/reference/operator/aggregation/bucket/#std-label-bucket-boundaries) | array      | An array of values based on the [groupBy](https://www.mongodb.com/docs/manual/reference/operator/aggregation/bucket/#std-label-bucket-group-by) expression that specify the boundaries for each bucket.<br>Each adjacent pair of values acts as the inclusive lower boundary and the exclusive upper boundary for the bucket.<br>You must specify at least two boundaries.<br>The specified values must be in ascending order and all of the same [type](https://www.mongodb.com/docs/manual/reference/bson-types/#std-label-bson-types).<br>The exception is if the values are of mixed numeric types, such as: `[10, NumberLong(20), NumberInt(30)]`<br>For example, an array of `[ 0, 5, 10 ]` creates two buckets:<br><br>- `[0, 5]` with inclusive lower bound `0` and exclusive upper bound `5`.<br>- `[5, 10]` with inclusive lower bound `5` and exclusive upper bound `10`.                          |\n",
    "| [default](https://www.mongodb.com/docs/manual/reference/operator/aggregation/bucket/#std-label-bucket-default)       | literal    | _Optional_.<br>A literal that specifies the `_id` of an additional bucket that contains all documents whose [groupBy](https://www.mongodb.com/docs/manual/reference/operator/aggregation/bucket/#std-label-bucket-group-by) expression result does not fall into a bucket specified by [boundaries.](https://www.mongodb.com/docs/manual/reference/operator/aggregation/bucket/#std-label-bucket-boundaries)<br>If unspecified, each input document must resolve the `groupBy` expression to a value within one of the bucket ranges specified by `boundaries` or the operation throws an error.<br>The `default` value must be less than the lowest `boundaries` value, or greater than or equal to the highest `boundaries` value.<br>The `default` value can be of a different [type](https://www.mongodb.com/docs/manual/reference/bson-types/#std-label-bson-types) than the entries in `boundaries`. |\n",
    "| [output](https://www.mongodb.com/docs/manual/reference/operator/aggregation/bucket/#std-label-bucket-output)         | document   | _Optional_.<br>A document that specifies the fields to include in the output documents in addition to the `_id` field.<br>To specify the field to include, you must use [accumulator expressions.](https://www.mongodb.com/docs/manual/reference/operator/aggregation/#std-label-agg-quick-reference-accumulators)                                                                                                                                                                                                                                                                                                                                                                                                                                                                                                                                                                                |\n"
   ]
  },
  {
   "cell_type": "code",
   "execution_count": null,
   "metadata": {
    "vscode": {
     "languageId": "javascript"
    }
   },
   "outputs": [],
   "source": [
    "db.persons.aggregate([\n",
    "    { $bucket: { \n",
    "        groupBy: \"$dob.age\", \n",
    "        boundaries: [18, 30, 40, 50, 60, 80, 120], // categorias\n",
    "        output: {\n",
    "            numPersons: { $sum: 1 },\n",
    "            averageAge: { $avg: \"$dob.age\" },\n",
    "            // names: { \n",
    "            //     $push: \"$name.first\" }\n",
    "        }\n",
    "    }}\n",
    "])"
   ]
  },
  {
   "cell_type": "markdown",
   "metadata": {},
   "source": [
    "- Output da query acima:"
   ]
  },
  {
   "cell_type": "code",
   "execution_count": null,
   "metadata": {
    "vscode": {
     "languageId": "powershell"
    }
   },
   "outputs": [],
   "source": [
    "[\n",
    "  { _id: 18, numPersons: 868, averageAge: 25.101382488479263 },\n",
    "  { _id: 30, numPersons: 910, averageAge: 34.51758241758242 },\n",
    "  { _id: 40, numPersons: 918, averageAge: 44.42265795206972 },\n",
    "  { _id: 50, numPersons: 976, averageAge: 54.533811475409834 },\n",
    "  { _id: 60, numPersons: 1328, averageAge: 66.55798192771084 }\n",
    "]"
   ]
  },
  {
   "cell_type": "markdown",
   "metadata": {},
   "source": [
    "- Outra possibilidade utilizando `$bucketAuto`:\n",
    "\n",
    "1. [`$bucketAuto` (aggregation)](https://www.mongodb.com/docs/manual/reference/operator/aggregation/bucketAuto/#-bucketauto--aggregation-)"
   ]
  },
  {
   "cell_type": "code",
   "execution_count": null,
   "metadata": {
    "vscode": {
     "languageId": "javascript"
    }
   },
   "outputs": [],
   "source": [
    "db.persons.aggregate([\n",
    "    { $bucketAuto: {\n",
    "        groupBy: \"$dob.age\",\n",
    "        buckets: 5,\n",
    "        output: {\n",
    "            numPersons: { $sum: 1 },\n",
    "            averageAge: { $avg: \"$dob.age\" },\n",
    "            // names: { \n",
    "            //     $push: \"$name.first\" }\n",
    "        }\n",
    "    }}\n",
    "])"
   ]
  },
  {
   "cell_type": "markdown",
   "metadata": {},
   "source": [
    "- Output da query acima:"
   ]
  },
  {
   "cell_type": "code",
   "execution_count": null,
   "metadata": {
    "vscode": {
     "languageId": "powershell"
    }
   },
   "outputs": [],
   "source": [
    "[\n",
    "  {\n",
    "    _id: { min: 21, max: 32 },\n",
    "    numPersons: 1042,\n",
    "    averageAge: 25.99616122840691\n",
    "  },\n",
    "  {\n",
    "    _id: { min: 32, max: 43 },\n",
    "    numPersons: 1010,\n",
    "    averageAge: 36.97722772277228\n",
    "  },\n",
    "  {\n",
    "    _id: { min: 43, max: 54 },\n",
    "    numPersons: 1033,\n",
    "    averageAge: 47.98838334946757\n",
    "  },\n",
    "  {\n",
    "    _id: { min: 54, max: 65 },\n",
    "    numPersons: 1064,\n",
    "    averageAge: 58.99342105263158\n",
    "  },\n",
    "  {\n",
    "    _id: { min: 65, max: 74 },\n",
    "    numPersons: 851,\n",
    "    averageAge: 69.11515863689776\n",
    "  }\n",
    "]"
   ]
  },
  {
   "cell_type": "markdown",
   "metadata": {},
   "source": [
    "---"
   ]
  },
  {
   "cell_type": "markdown",
   "metadata": {},
   "source": [
    "## 2.21 Diving into additional stages\n",
    "\n",
    "1. [`$skip` (aggregation)](https://www.mongodb.com/docs/manual/reference/operator/aggregation/skip/#-skip--aggregation-)\n",
    "2. [`$limit` (aggregation)](https://www.mongodb.com/docs/manual/reference/operator/aggregation/limit/#-limit--aggregation-)"
   ]
  },
  {
   "cell_type": "markdown",
   "metadata": {},
   "source": [
    "- We wanna find 10 users with the oldest/lowest birthDay\n",
    "- Then we wanna find the next 10 (like we have a pagination)"
   ]
  },
  {
   "cell_type": "code",
   "execution_count": null,
   "metadata": {
    "vscode": {
     "languageId": "javascript"
    }
   },
   "outputs": [],
   "source": [
    "db.persons.aggregate([\n",
    "    { $project: { \n",
    "        _id: 0,\n",
    "        name: { $concat: [\"$name.first\", \" \", \"$name.last\"] },\n",
    "        birthdate: { $toDate: \"$dob.date\" }\n",
    "    } },\n",
    "    { $sort: { birthdate: 1 } },\n",
    "    { $skip: 10 },\n",
    "    { $limit: 10 }\n",
    "])"
   ]
  },
  {
   "cell_type": "code",
   "execution_count": null,
   "metadata": {
    "vscode": {
     "languageId": "javascript"
    }
   },
   "outputs": [],
   "source": [
    "db.persons.aggregate([\n",
    "    { $match: { gender: \"male\"} },\n",
    "    { $project: { \n",
    "        _id: 0,\n",
    "        name: { $concat: [\"$name.first\", \" \", \"$name.last\"] },\n",
    "        birthdate: { $toDate: \"$dob.date\" }\n",
    "    } },\n",
    "    { $sort: { birthdate: 1 } },\n",
    "    { $skip: 10 },\n",
    "    { $limit: 10 }\n",
    "])"
   ]
  },
  {
   "cell_type": "markdown",
   "metadata": {},
   "source": [
    "---"
   ]
  },
  {
   "cell_type": "markdown",
   "metadata": {},
   "source": [
    "## 2.22 How MongoDB optimizes your aggregation pipelines"
   ]
  },
  {
   "cell_type": "markdown",
   "metadata": {},
   "source": [
    "> MongoDB actually tries its best to optimize your Aggregation Pipelines without interfering with your logic.\n",
    ">\n",
    "> Learn more about the default optimizations MongoDB performs in this article: https://docs.mongodb.com/manual/core/aggregation-pipeline-optimization/"
   ]
  },
  {
   "cell_type": "markdown",
   "metadata": {},
   "source": [
    "---"
   ]
  },
  {
   "cell_type": "markdown",
   "metadata": {},
   "source": [
    "## 2.23 Writing pipeline results into a new collection\n",
    "\n",
    "1. [`$out` (aggregation)](https://www.mongodb.com/docs/manual/reference/operator/aggregation/out/#-out--aggregation-)"
   ]
  },
  {
   "cell_type": "markdown",
   "metadata": {},
   "source": [
    "> `$out`:\n",
    "> takes the documents returned by the aggregation pipeline and writes them to a specified collection. You can specify the output database.\n",
    ">\n",
    "> The $out stage must be the last stage in the pipeline. The $out operator lets the aggregation framework return result sets of any size."
   ]
  },
  {
   "cell_type": "code",
   "execution_count": null,
   "metadata": {
    "vscode": {
     "languageId": "javascript"
    }
   },
   "outputs": [],
   "source": [
    "db.persons.aggregate([\n",
    "    {\n",
    "      $project: {\n",
    "        _id: 0,\n",
    "        name: 1,\n",
    "        email: 1,\n",
    "        birthdate: { $toDate: '$dob.date' },\n",
    "        age: \"$dob.age\",\n",
    "        location: {\n",
    "          type: 'Point',\n",
    "          coordinates: [\n",
    "            {\n",
    "              $convert: {\n",
    "                input: '$location.coordinates.longitude',\n",
    "                to: 'double',\n",
    "                onError: 0.0,\n",
    "                onNull: 0.0\n",
    "              }\n",
    "            },\n",
    "            {\n",
    "              $convert: {\n",
    "                input: '$location.coordinates.latitude',\n",
    "                to: 'double',\n",
    "                onError: 0.0,\n",
    "                onNull: 0.0\n",
    "              }\n",
    "            }\n",
    "          ]\n",
    "        }\n",
    "      }\n",
    "    },\n",
    "    {\n",
    "      $project: {\n",
    "        gender: 1,\n",
    "        email: 1,\n",
    "        location: 1,\n",
    "        birthdate: 1,\n",
    "        age: 1,\n",
    "        fullName: {\n",
    "          $concat: [\n",
    "            { $toUpper: { $substrCP: ['$name.first', 0, 1] } },\n",
    "            {\n",
    "              $substrCP: [\n",
    "                '$name.first',\n",
    "                1,\n",
    "                { $subtract: [{ $strLenCP: '$name.first' }, 1] }\n",
    "              ]\n",
    "            },\n",
    "            ' ',\n",
    "            { $toUpper: { $substrCP: ['$name.last', 0, 1] } },\n",
    "            {\n",
    "              $substrCP: [\n",
    "                '$name.last',\n",
    "                1,\n",
    "                { $subtract: [{ $strLenCP: '$name.last' }, 1] }\n",
    "              ]\n",
    "            }\n",
    "          ]\n",
    "        }\n",
    "      }\n",
    "    },\n",
    "    { $out: \"transformedPersons\" }\n",
    "  ])"
   ]
  },
  {
   "cell_type": "code",
   "execution_count": null,
   "metadata": {
    "vscode": {
     "languageId": "javascript"
    }
   },
   "outputs": [],
   "source": [
    "db.transformedPersons.findOne()"
   ]
  },
  {
   "cell_type": "markdown",
   "metadata": {},
   "source": [
    "- Output da nova collection criada através da consulta:"
   ]
  },
  {
   "cell_type": "code",
   "execution_count": null,
   "metadata": {
    "vscode": {
     "languageId": "powershell"
    }
   },
   "outputs": [],
   "source": [
    "{\n",
    "    _id: ObjectId('67fd24179c61fed4b9ff1e5d'),\n",
    "    location: { type: 'Point', coordinates: [ -154.6037, -29.6721 ] },\n",
    "    email: 'carl.jacobs@example.com',\n",
    "    birthdate: ISODate('1984-09-30T01:20:26.000Z'),\n",
    "    age: 33,\n",
    "    fullName: 'Carl Jacobs'\n",
    "  }"
   ]
  },
  {
   "cell_type": "markdown",
   "metadata": {},
   "source": [
    "---"
   ]
  },
  {
   "cell_type": "markdown",
   "metadata": {},
   "source": [
    "## 2.24 Working with the $geoNear stage\n",
    "\n",
    "1. [`$geoNear` (aggregation)](https://www.mongodb.com/docs/manual/reference/operator/aggregation/geoNear/#-geonear--aggregation-)"
   ]
  },
  {
   "cell_type": "markdown",
   "metadata": {},
   "source": [
    "> `$geoNear`: outputs documents in order of nearest to farthest from a specified point."
   ]
  },
  {
   "cell_type": "code",
   "execution_count": null,
   "metadata": {
    "vscode": {
     "languageId": "javascript"
    }
   },
   "outputs": [],
   "source": [
    "db.transformedPersons.createIndex( {location: \"2dsphere\" }) // location_2dsphere"
   ]
  },
  {
   "cell_type": "code",
   "execution_count": null,
   "metadata": {
    "vscode": {
     "languageId": "javascript"
    }
   },
   "outputs": [],
   "source": [
    "db.transformedPersons.aggregate([\n",
    "    {\n",
    "        $geoNear: {\n",
    "            near: { \n",
    "                type: \"Point\", \n",
    "                coordinates: [ -18.4, -42.8 ]\n",
    "            },\n",
    "            maxDistance: 100000,\n",
    "            query: { age: { $gt: 30 } },\n",
    "            distanceField: \"distance\"\n",
    "        }\n",
    "    },\n",
    "    { $limit: 10 }\n",
    "])"
   ]
  },
  {
   "cell_type": "markdown",
   "metadata": {},
   "source": [
    "- Output da query acima:"
   ]
  },
  {
   "cell_type": "code",
   "execution_count": null,
   "metadata": {
    "vscode": {
     "languageId": "powershell"
    }
   },
   "outputs": [],
   "source": [
    "[\n",
    "  {\n",
    "    _id: ObjectId('67fd24179c61fed4b9ff1e65'),\n",
    "    location: { type: 'Point', coordinates: [ -18.5996, -42.6128 ] },\n",
    "    email: 'elijah.lewis@example.com',\n",
    "    birthdate: ISODate('1986-03-29T06:40:18.000Z'),\n",
    "    age: 32,\n",
    "    fullName: 'Elijah Lewis',\n",
    "    distance: 26473.52536319881\n",
    "  }\n",
    "]"
   ]
  },
  {
   "cell_type": "markdown",
   "metadata": {},
   "source": [
    "---"
   ]
  },
  {
   "cell_type": "markdown",
   "metadata": {},
   "source": [
    "## 2.25 Wrap Up\n",
    "\n",
    "<img src=\"imgs\\s12\\s12-3.png\" width=700 height=250 >"
   ]
  },
  {
   "cell_type": "markdown",
   "metadata": {},
   "source": [
    "---"
   ]
  },
  {
   "cell_type": "markdown",
   "metadata": {},
   "source": [
    "## 2.26 Useful resources and links"
   ]
  },
  {
   "cell_type": "markdown",
   "metadata": {},
   "source": [
    "> Helpful Articles/ Docs:\n",
    ">\n",
    "> - Official Aggregation Framework Docs: https://docs.mongodb.com/manual/core/aggregation-pipeline/\n",
    "> - Learn more about $cond: https://docs.mongodb.com/manual/reference/operator/aggregation/cond/"
   ]
  }
 ],
 "metadata": {
  "language_info": {
   "name": "python"
  }
 },
 "nbformat": 4,
 "nbformat_minor": 2
}
