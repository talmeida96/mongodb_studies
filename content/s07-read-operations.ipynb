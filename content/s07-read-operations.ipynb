{
 "cells": [
  {
   "cell_type": "markdown",
   "id": "a9a3017c",
   "metadata": {},
   "source": [
    "# 7. READ OPERATIONS - A CLOSER LOOK\n",
    "\n",
    "(_1h41min_)"
   ]
  },
  {
   "cell_type": "markdown",
   "id": "adef000c",
   "metadata": {},
   "source": [
    "---"
   ]
  },
  {
   "cell_type": "markdown",
   "id": "62cc8c4b",
   "metadata": {},
   "source": [
    "## 7.1 Module introduction"
   ]
  },
  {
   "cell_type": "markdown",
   "id": "ca10de1b",
   "metadata": {},
   "source": [
    "- Methods, filters & operators\n",
    "- Query selectors (READ)\n",
    "- Projection operators (READ)"
   ]
  },
  {
   "cell_type": "markdown",
   "id": "dd0294b6",
   "metadata": {},
   "source": [
    "---"
   ]
  },
  {
   "cell_type": "markdown",
   "id": "c4311860",
   "metadata": {},
   "source": [
    "## 7.2 Methods, filters and operators"
   ]
  },
  {
   "cell_type": "markdown",
   "id": "9b9df8ce",
   "metadata": {},
   "source": [
    "<img src=\"..\\imgs\\s7\\s7-1.png\" width=700 height=500 >"
   ]
  },
  {
   "cell_type": "markdown",
   "id": "903a98d6",
   "metadata": {},
   "source": [
    "---"
   ]
  },
  {
   "cell_type": "markdown",
   "id": "314852cf",
   "metadata": {},
   "source": [
    "## 7.3 Operators - An Overview"
   ]
  },
  {
   "cell_type": "markdown",
   "id": "9a1b9465",
   "metadata": {},
   "source": [
    "<img src=\"..\\imgs\\s7\\s7-2.png\" width=700 height=200 >\n",
    "<br>\n",
    "<img src=\"..\\imgs\\s7\\s7-3.png\" width=700 height=200 >"
   ]
  },
  {
   "cell_type": "markdown",
   "id": "e6b3d2d5",
   "metadata": {},
   "source": [
    "---"
   ]
  },
  {
   "cell_type": "markdown",
   "id": "b4ff48d4",
   "metadata": {},
   "source": [
    "## 7.4 Query selectors and projection operators"
   ]
  },
  {
   "cell_type": "markdown",
   "id": "19830b79",
   "metadata": {},
   "source": [
    "<img src=\"..\\imgs\\s7\\s7-4.png\" width=700 height=400 >"
   ]
  },
  {
   "cell_type": "markdown",
   "id": "95017fba",
   "metadata": {},
   "source": [
    "---"
   ]
  },
  {
   "cell_type": "markdown",
   "id": "a6e10d66",
   "metadata": {},
   "source": [
    "## 7.5 Understanding \"findOne()\" and \"find()\""
   ]
  },
  {
   "cell_type": "code",
   "execution_count": null,
   "id": "068ca9c1",
   "metadata": {
    "vscode": {
     "languageId": "javascript"
    }
   },
   "outputs": [],
   "source": [
    "// use movies\n",
    "\n",
    "db.movies.findOne() // sempre retorna o PRIMEIRO documento correspondente\n",
    "\n",
    "db.movies.find( { name: \"The Last Ship\" } )"
   ]
  },
  {
   "cell_type": "markdown",
   "id": "52e08602",
   "metadata": {},
   "source": [
    "---"
   ]
  },
  {
   "cell_type": "markdown",
   "id": "e6bfac5e",
   "metadata": {},
   "source": [
    "## 7.6 Working with comparison operators"
   ]
  },
  {
   "cell_type": "markdown",
   "id": "dd7730dd",
   "metadata": {},
   "source": [
    "- [Query](https://www.mongodb.com/docs/manual/reference/operator/query/)\n",
    "- [Query comparison](https://www.mongodb.com/docs/manual/reference/operator/query-comparison/)\n",
    "\n",
    "<br>\n",
    "\n",
    "| **Name** | **Description** |\n",
    "| --- | --- |\n",
    "| [`$eq`](https://www.mongodb.com/docs/manual/reference/operator/query/eq/#mongodb-query-op.-eq) | Matches values that are equal to a specified value. |\n",
    "| [`$gt`](https://www.mongodb.com/docs/manual/reference/operator/query/gt/#mongodb-query-op.-gt) | Matches values that are greater than a specified value. |\n",
    "| [`$gte`](https://www.mongodb.com/docs/manual/reference/operator/query/gte/#mongodb-query-op.-gte) | Matches values that are greater than or equal to a specified value. |\n",
    "| [`$in`](https://www.mongodb.com/docs/manual/reference/operator/query/in/#mongodb-query-op.-in) | Matches any of the values specified in an array. |\n",
    "| [`$lt`](https://www.mongodb.com/docs/manual/reference/operator/query/lt/#mongodb-query-op.-lt) | Matches values that are less than a specified value. |\n",
    "| [`$lte`](https://www.mongodb.com/docs/manual/reference/operator/query/lte/#mongodb-query-op.-lte) | Matches values that are less than or equal to a specified value. |\n",
    "| [`$ne`](https://www.mongodb.com/docs/manual/reference/operator/query/ne/#mongodb-query-op.-ne) | Matches all values that are not equal to a specified value. |\n",
    "| [`$nin`](https://www.mongodb.com/docs/manual/reference/operator/query/nin/#mongodb-query-op.-nin) | Matches none of the values specified in an array. |"
   ]
  },
  {
   "cell_type": "code",
   "execution_count": null,
   "id": "15dc1d21",
   "metadata": {
    "vscode": {
     "languageId": "javascript"
    }
   },
   "outputs": [],
   "source": [
    "db.movies.find( { runtime: { $ne: 60 } } ) // not equal\n",
    "\n",
    "db.movies.find( { runtime: { $lt: 30 } } ) // lower then\n",
    "\n",
    "db.movies.find( { runtime: { $lte: 32 } } ) // lower then or equal"
   ]
  },
  {
   "cell_type": "markdown",
   "id": "4a360b83",
   "metadata": {},
   "source": [
    "--- "
   ]
  },
  {
   "cell_type": "markdown",
   "id": "a08fcb7a",
   "metadata": {},
   "source": [
    "## 7.7 Querying embedded fields and arrays"
   ]
  },
  {
   "cell_type": "code",
   "execution_count": null,
   "id": "f7ee2f5d",
   "metadata": {
    "vscode": {
     "languageId": "javascript"
    }
   },
   "outputs": [],
   "source": [
    "db.movies.find( { \"rating.average\": { $gt: 7 } } )\n",
    "\n",
    "db.movies.find( { genres: \"Drama\" } ) // vai procurar arrays que contem \"Drama\", mas podem conter também outros gêneros\n",
    "\n",
    "db.movies.find( { genres: [ \"Drama\" ] } ) // vai procurar arrays que contenham exatamente o que está entre os colchetes"
   ]
  },
  {
   "cell_type": "markdown",
   "id": "0fdf8317",
   "metadata": {},
   "source": [
    "---"
   ]
  },
  {
   "cell_type": "markdown",
   "id": "08d1b4ce",
   "metadata": {},
   "source": [
    "## 7.8 Understanding \"`$in`\" and \"`$nin`\""
   ]
  },
  {
   "cell_type": "code",
   "execution_count": null,
   "id": "e7fdd6cd",
   "metadata": {
    "vscode": {
     "languageId": "javascript"
    }
   },
   "outputs": [],
   "source": [
    "db.movies.find( { runtime: { $lte: 42 } } )\n",
    "\n",
    "db.movies.find( { runtime: { $in: [30, 42] } } ) // Matches any of the values specified in an array.\n",
    "\n",
    "db.movies.find( { runtime: { $nin: [30, 42] } } ) // Matches none of the values specified in an array."
   ]
  },
  {
   "cell_type": "markdown",
   "id": "a838d885",
   "metadata": {},
   "source": [
    "---"
   ]
  },
  {
   "cell_type": "markdown",
   "id": "7f291c74",
   "metadata": {},
   "source": [
    "## 7.9 \"`$or`\" and \"`$nor`\""
   ]
  },
  {
   "cell_type": "markdown",
   "id": "b3445524",
   "metadata": {},
   "source": [
    "- [Query Logical](https://www.mongodb.com/docs/manual/reference/operator/query-logical/)\n",
    "\n",
    "<br>\n",
    "\n",
    "| **Name** | **Description** |\n",
    "| --- | --- |\n",
    "| [`$and`](https://www.mongodb.com/docs/manual/reference/operator/query/and/#mongodb-query-op.-and) | Joins query clauses with a logical `AND` returns all documents that match the conditions of both clauses. |\n",
    "| [`$not`](https://www.mongodb.com/docs/manual/reference/operator/query/not/#mongodb-query-op.-not) | Inverts the effect of a query predicate and returns documents that do *not* match the query predicate. |\n",
    "| [`$nor`](https://www.mongodb.com/docs/manual/reference/operator/query/nor/#mongodb-query-op.-nor) | Joins query clauses with a logical `NOR` returns all documents that fail to match both clauses. |\n",
    "| [`$or`](https://www.mongodb.com/docs/manual/reference/operator/query/or/#mongodb-query-op.-or) | Joins query clauses with a logical `OR` returns all documents that match the conditions of either clause. |"
   ]
  },
  {
   "cell_type": "code",
   "execution_count": null,
   "id": "60d1cfd1",
   "metadata": {
    "vscode": {
     "languageId": "javascript"
    }
   },
   "outputs": [],
   "source": [
    "db.movies.find( { \"rating.average\": { $lt: 5 } } )\n",
    "\n",
    "// Joins query clauses with a logical OR returns all documents that match the conditions of either clause\n",
    "db.movies.find( \n",
    "\t{ $or: \n",
    "\t\t[ \n",
    "\t\t\t{ \"rating.average\": { $lt: 5 } }, \n",
    "\t\t\t{ \"rating.average\": { $gt: 9.3 } } \n",
    "\t\t]\n",
    "\t}\n",
    ")\n",
    "\n",
    "// Joins query clauses with a logical NOR returns all documents that fail to match both clauses.\n",
    "db.movies.find( \n",
    "\t{ $nor: \n",
    "\t\t[ \n",
    "\t\t\t{ \"rating.average\": { $lt: 5 } }, \n",
    "\t\t\t{ \"rating.average\": { $gt: 9.3 } } \n",
    "\t\t]\n",
    "\t}\n",
    ")"
   ]
  },
  {
   "cell_type": "markdown",
   "id": "8ab31f3f",
   "metadata": {},
   "source": [
    "---"
   ]
  },
  {
   "cell_type": "markdown",
   "id": "a935b3f8",
   "metadata": {},
   "source": [
    "## 7.10 Understanding the \"`$and`\" operator"
   ]
  },
  {
   "cell_type": "code",
   "execution_count": null,
   "id": "3ef6c7b1",
   "metadata": {
    "vscode": {
     "languageId": "javascript"
    }
   },
   "outputs": [],
   "source": [
    "db.movies.find( { $and: [ { \"rating.average\": { $gt: 9 }}, { genres: \"Drama\" } ] } ) // Joins query clauses with a logical AND returns all documents that match the conditions of both clauses.\n",
    "\n",
    "// a consulta abaixo retorna os mesmos resultados da consulta de acima\n",
    "// o $and é crucial quando se há múltiplas condições para o mesmo campo\n",
    "db.movies.find( { \"rating.average\": { $gt: 9 }, genres: \"Drama\"} )"
   ]
  },
  {
   "cell_type": "markdown",
   "id": "1533280e",
   "metadata": {},
   "source": [
    "---"
   ]
  },
  {
   "cell_type": "markdown",
   "id": "a424e177",
   "metadata": {},
   "source": [
    "## 7.11 Using \"`$not`\""
   ]
  },
  {
   "cell_type": "code",
   "execution_count": null,
   "id": "01e90582",
   "metadata": {
    "vscode": {
     "languageId": "javascript"
    }
   },
   "outputs": [],
   "source": [
    "// $eq -> Matches values that are equal to a specified value\n",
    "db.movies.find( { runtime: { $not: { $eq: 60 } } } )\n",
    "\n",
    "// $ne -> Matches all values that are not equal to a specified value\n",
    "db.movies.find( { runtime: { $ne: 60 } } )"
   ]
  },
  {
   "cell_type": "markdown",
   "id": "75463f55",
   "metadata": {},
   "source": [
    "---"
   ]
  },
  {
   "cell_type": "markdown",
   "id": "139e17e5",
   "metadata": {},
   "source": [
    "## 7.12 Diving into element operators\n"
   ]
  },
  {
   "cell_type": "markdown",
   "id": "4e931a6a",
   "metadata": {},
   "source": [
    "- [Query element](https://www.mongodb.com/docs/manual/reference/operator/query-element/)\n",
    "\n",
    "> Element operators return data based on field existence or data types.\n",
    "\n",
    "| **Name** | **Description** |\n",
    "| --- | --- |\n",
    "| [`$exists`](https://www.mongodb.com/docs/manual/reference/operator/query/exists/#mongodb-query-op.-exists) | Matches documents that have the specified field. |\n",
    "| [`$type`](https://www.mongodb.com/docs/manual/reference/operator/query/type/#mongodb-query-op.-type) | Selects documents if a field is of the specified type. |"
   ]
  },
  {
   "cell_type": "code",
   "execution_count": null,
   "id": "c9810e65",
   "metadata": {
    "vscode": {
     "languageId": "javascript"
    }
   },
   "outputs": [],
   "source": [
    "// use users\n",
    "\n",
    "db.users.insertMany( [\n",
    "\t{ name: \"Max\", \n",
    "\t\thobbies: [ \n",
    "\t\t\t{ title: \"Sports\", frequency: 3 },\n",
    "\t\t\t{ title: \"Cooking\", frequency: 6 }\n",
    "\t\t],\n",
    "\t\tphone: 0123456789\n",
    "\t},\n",
    "\t{ name: \"Manuel\",\n",
    "\t\thobbies: [ \n",
    "\t\t\t{ title: \"Cars\", frequency: 2 },\n",
    "\t\t\t{ title: \"Cooking\", frequency: 5 }\n",
    "\t\t],\n",
    "\t\tphone: \"0123456789\",\n",
    "\t\tage: 30\n",
    "\t}\n",
    "] )\n",
    "\n",
    "// find all persons who had age field:\n",
    "db.users.find( { age: { $exists: true } } )\n",
    "\n",
    "// find all persons who had age field and its greater than 30:\n",
    "db.users.find( { age: { $exists: true, $gt: 30 } } )\n",
    "\n",
    "db.users.insertOne(\n",
    "\t{ name: \"Anna\", \n",
    "\t\thobbies: [ \n",
    "\t\t\t{ title: \"Sports\", frequency: 2 },\n",
    "\t\t\t{ title: \"Yoga\", frequency: 3 }\n",
    "\t\t],\n",
    "\t\tphone: \"09090808077\",\n",
    "\t\tage: null\n",
    "\t}\n",
    ")\n",
    "\n",
    "// apesar de o campo age ser null para o user Anna, ele é retornado na consulta abaixo\n",
    "// pois o campo existe, independente de estar preenchido ou vazio/nulo\n",
    "db.users.find( { age: { $exists: true } } )\n",
    "\n",
    "db.users.find( { age: { $exists: true, $ne: null } } ) // solution"
   ]
  },
  {
   "cell_type": "markdown",
   "id": "4b511774",
   "metadata": {},
   "source": [
    "---"
   ]
  },
  {
   "cell_type": "markdown",
   "id": "aa1cbce7",
   "metadata": {},
   "source": [
    "## 7.13 Working with \"`$type`\"\n",
    "\n",
    "- [Types available](https://www.mongodb.com/docs/manual/reference/operator/query/type/#mongodb-query-op.-type)"
   ]
  },
  {
   "cell_type": "code",
   "execution_count": null,
   "id": "4574094a",
   "metadata": {
    "vscode": {
     "languageId": "javascript"
    }
   },
   "outputs": [],
   "source": [
    "db.users.find( { phone: { $type: \"number\" } } )\n",
    "db.users.find( { phone: { $type: \"double\" } } )\n",
    "\n",
    "db.users.find( { phone: { $type: [ \"double\", \"string\" ] } } ) // more than 1 type"
   ]
  },
  {
   "cell_type": "markdown",
   "id": "87bddd4c",
   "metadata": {},
   "source": [
    "---"
   ]
  },
  {
   "cell_type": "markdown",
   "id": "060b6199",
   "metadata": {},
   "source": [
    "## 7.14 Understanding evaluation operators - \"`$regex`\"\n",
    "\n",
    "- [Regex](https://www.mongodb.com/docs/manual/reference/operator/query/regex/)"
   ]
  },
  {
   "cell_type": "markdown",
   "id": "f628ed55",
   "metadata": {},
   "source": [
    "> Provides regular expression capabilities for pattern matching *strings* in queries.\n",
    "> \n",
    "\n",
    "- Bom para encontrar padrões em textos, mas não é a forma mais prática e eficiente de fazer isto ⚠️"
   ]
  },
  {
   "cell_type": "code",
   "execution_count": null,
   "id": "39331f2d",
   "metadata": {
    "vscode": {
     "languageId": "javascript"
    }
   },
   "outputs": [],
   "source": [
    "// use movieData\n",
    "\n",
    "db.movies.find( { summary: { $regex: /musical/ } } )"
   ]
  },
  {
   "cell_type": "markdown",
   "id": "adb7e2b4",
   "metadata": {},
   "source": [
    "--- "
   ]
  },
  {
   "cell_type": "markdown",
   "id": "b691d9fb",
   "metadata": {},
   "source": [
    "## 7.15 Understanding evaluation operators - \"`$expr`\"\n",
    "\n",
    "- [Expr](https://www.mongodb.com/docs/manual/reference/operator/query/expr/)"
   ]
  },
  {
   "cell_type": "markdown",
   "id": "a34a0293",
   "metadata": {},
   "source": [
    "> Allows the use of [expressions](https://www.mongodb.com/docs/manual/reference/operator/aggregation/#std-label-aggregation-expressions) within a [query predicate.](https://www.mongodb.com/docs/manual/reference/glossary/#std-term-query-predicate)\n",
    "> \n",
    "- útil quando se quer comparar 2 campos dentro de 1 documento e então encontrar todos os documentos onde essa comparação retorna um resultado"
   ]
  },
  {
   "cell_type": "code",
   "execution_count": null,
   "id": "be150a2a",
   "metadata": {
    "vscode": {
     "languageId": "javascript"
    }
   },
   "outputs": [],
   "source": [
    "// use financialData\n",
    "\n",
    "db.sales.insertMany( [\n",
    "\t{ volume: 100, target: 120 },\n",
    "\t{ volume: 89, target: 80 },\n",
    "\t{ volume: 200, target: 177 }\n",
    "] )\n",
    "\n",
    "// a consulta abaixo retorna os documentos onde o valor do volume é maior que o valor do target\n",
    "// o $ em frente ao nome do campo especifica que se deve pegar o valor do campo\n",
    "db.sales.find( { $expr: { $gt: [ \"$volume\", \"$target\" ] } } )"
   ]
  },
  {
   "cell_type": "markdown",
   "id": "b5288af6",
   "metadata": {},
   "source": [
    "- `$cond` (aggregation): https://www.mongodb.com/docs/manual/reference/operator/aggregation/cond/#-cond--aggregation- "
   ]
  },
  {
   "cell_type": "code",
   "execution_count": null,
   "id": "1e8209ee",
   "metadata": {
    "vscode": {
     "languageId": "javascript"
    }
   },
   "outputs": [],
   "source": [
    "// busca todos os resultados de acordo com a condição:\n",
    "// o volume precisa ser maior que 190 e caso verdadeiro, o volume tem o valor 20 subtraído do valor atual\n",
    "// do contrário, o volume permanece com o mesmo valor\n",
    "// e isso só é verificado em casos onde o resultado da condição seja maior que o valor do target\n",
    "db.sales.find(\n",
    "\t{ $expr: { $gt:\n",
    "\t[\n",
    "\t\t{ $cond:\n",
    "\t\t\t{ if:\n",
    "\t\t\t\t{ $gte: [ \"$volume\", 190 ] }, \n",
    "\t\t\t\tthen:\n",
    "\t\t\t\t\t{ $subtract: [ \"$volume\", 20 ] },\n",
    "\t\t\t\telse: \"$volume\"\n",
    "\t\t\t}\n",
    "\t\t},\n",
    "\t\t\"$target\" \n",
    "\t]\n",
    "\t}}\n",
    ")"
   ]
  },
  {
   "cell_type": "markdown",
   "id": "8bd7f831",
   "metadata": {},
   "source": [
    "---"
   ]
  },
  {
   "cell_type": "markdown",
   "id": "5612b629",
   "metadata": {},
   "source": [
    "## 7.16 Assignment 3: Time to Practice - READ OPERATORS"
   ]
  },
  {
   "cell_type": "markdown",
   "id": "65d3fbd6",
   "metadata": {},
   "source": [
    "### 7.16.1 Import the attached data into a new database (e.g. boxOffice) and collection (e.g. movieStarts)"
   ]
  },
  {
   "cell_type": "code",
   "execution_count": null,
   "id": "94392c62",
   "metadata": {
    "vscode": {
     "languageId": "powershell"
    }
   },
   "outputs": [],
   "source": [
    "mongoimport boxoffice.json -d boxOffice -c movieStarts --jsonArray --drop"
   ]
  },
  {
   "cell_type": "markdown",
   "id": "4061a6e8",
   "metadata": {},
   "source": [
    "### 7.16.2 Search all movies that have a rating higher than 9.2 and a runtime lower than 100 minutes"
   ]
  },
  {
   "cell_type": "code",
   "execution_count": null,
   "id": "db3125e3",
   "metadata": {
    "vscode": {
     "languageId": "javascript"
    }
   },
   "outputs": [],
   "source": [
    "db.movieStarts.find(\n",
    "\t{ $and: \n",
    "\t\t[ \n",
    "\t\t\t{ \"meta.rating\": { $gt: 9.2 } }, \n",
    "\t\t\t{ \"meta.runtime\": { $lt: 100 } } \n",
    "\t\t]\n",
    "\t}\n",
    ") // resultado do .count() = 1\n",
    "\n",
    "// correção do professor:\n",
    "db.movieStarts.find( { \"meta.rating\": { $gt: 9.2 }, \"meta.runtime\": { $lt: 100 } } )"
   ]
  },
  {
   "cell_type": "markdown",
   "id": "624f476c",
   "metadata": {},
   "source": [
    "### 7.16.3 Search all movies that have a genre of \"drama\" or \"action\""
   ]
  },
  {
   "cell_type": "code",
   "execution_count": null,
   "id": "5204e19f",
   "metadata": {
    "vscode": {
     "languageId": "javascript"
    }
   },
   "outputs": [],
   "source": [
    "db.movieStarts.find( { genre: { $in: [ \"drama\", \"action\" ] } } )\n",
    "// resultado do .count() = 3\n",
    "\n",
    "// correção do professor:\n",
    "db.movieStarts.find( $or: { [ { genre: \"drama\" }, { genre: \"action\" } ] } )"
   ]
  },
  {
   "cell_type": "markdown",
   "id": "303a94c1",
   "metadata": {},
   "source": [
    "### 7.16.4 Search all movies where visitors exceeded expectedVisitors"
   ]
  },
  {
   "cell_type": "code",
   "execution_count": null,
   "id": "0186e631",
   "metadata": {
    "vscode": {
     "languageId": "javascript"
    }
   },
   "outputs": [],
   "source": [
    "// exemplo da documentação:\n",
    "// The following operation uses $expr to find documents where the spent amount exceeds the budget:\n",
    "db.monthlyBudget.find( { $expr: { $gt: [ \"$spent\" , \"$budget\" ] } } )\n",
    "\n",
    "db.movieStarts.find( { $expr: { $gt: [ \"$visitors\", \"$expectedVisitors\" ] } } )\n",
    "// resultado do .count() = 1"
   ]
  },
  {
   "cell_type": "markdown",
   "id": "455d7385",
   "metadata": {},
   "source": [
    "---"
   ]
  },
  {
   "cell_type": "markdown",
   "id": "96fa9bce",
   "metadata": {},
   "source": [
    "## 7.17 Diving deeper into query arrays"
   ]
  },
  {
   "cell_type": "code",
   "execution_count": null,
   "id": "a7d18188",
   "metadata": {
    "vscode": {
     "languageId": "javascript"
    }
   },
   "outputs": [],
   "source": [
    "//find all users that have 'sports' as a hobbie:\n",
    "db.users.find( { \"hobbies.title\": \"Sports\" } )"
   ]
  },
  {
   "cell_type": "markdown",
   "id": "24f829a0",
   "metadata": {},
   "source": [
    "---"
   ]
  },
  {
   "cell_type": "markdown",
   "id": "39a5760b",
   "metadata": {},
   "source": [
    "## 7.18 Using array query selectors - \"`$size`\"\n",
    "\n",
    "- [Size](https://www.mongodb.com/docs/manual/reference/operator/query/size/)"
   ]
  },
  {
   "cell_type": "markdown",
   "id": "82ed6366",
   "metadata": {},
   "source": [
    "> The `$size` operator matches any array with the number of elements specified by the argument."
   ]
  },
  {
   "cell_type": "code",
   "execution_count": null,
   "id": "65b5805f",
   "metadata": {
    "vscode": {
     "languageId": "javascript"
    }
   },
   "outputs": [],
   "source": [
    "db.users.insertOne( { name: \"John\", hobbies: [ \"Sports\", \"Cooking\", \"Hiking\" ] } )\n",
    "\n",
    "// find users with exactly 3 hobbies:\n",
    "db.users.find( { hobbies: { $size: 3 } } )"
   ]
  },
  {
   "cell_type": "markdown",
   "id": "0847ae46",
   "metadata": {},
   "source": [
    "---"
   ]
  },
  {
   "cell_type": "markdown",
   "id": "365dea21",
   "metadata": {},
   "source": [
    "## 7.19 Using array query selectors - \"`$all`\"\n",
    "\n",
    "- [All](https://www.mongodb.com/docs/manual/reference/operator/query/all/)"
   ]
  },
  {
   "cell_type": "markdown",
   "id": "84c5c0ec",
   "metadata": {},
   "source": [
    "> The $all operator selects the documents where the value of a field matches all specified values.<br>The matched documents can either contain a field with a value that is an array containing all the specified elements, or a field with a single value matching the specified element."
   ]
  },
  {
   "cell_type": "code",
   "execution_count": null,
   "id": "adc10928",
   "metadata": {
    "vscode": {
     "languageId": "javascript"
    }
   },
   "outputs": [],
   "source": [
    "// use boxOffice\n",
    "\n",
    "// irá procurar pelos elementos do array independente da ordem de localização deles no array\n",
    "db.movieStarts.find( { genre: { $all: [ \"action\", \"thriller\" ] } } )"
   ]
  },
  {
   "cell_type": "markdown",
   "id": "db8d04f2",
   "metadata": {},
   "source": [
    "---"
   ]
  }
 ],
 "metadata": {
  "language_info": {
   "name": "python"
  }
 },
 "nbformat": 4,
 "nbformat_minor": 5
}
