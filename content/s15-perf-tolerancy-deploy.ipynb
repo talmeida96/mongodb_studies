{
 "cells": [
  {
   "cell_type": "markdown",
   "metadata": {},
   "source": [
    "# 15. PERFORMANCE, FAULT TOLERANCY AND DEPLOYMENT\n",
    "\n",
    "(_40min_)"
   ]
  },
  {
   "cell_type": "markdown",
   "metadata": {},
   "source": [
    "## 15.1 Module introduction"
   ]
  },
  {
   "cell_type": "markdown",
   "metadata": {},
   "source": [
    "- What influences Performance?\n",
    "- Capped Collections\n",
    "- Replica Sets\n",
    "- Sharding\n",
    "- MongoDB Server Deployment"
   ]
  },
  {
   "cell_type": "markdown",
   "metadata": {},
   "source": [
    "---"
   ]
  },
  {
   "cell_type": "markdown",
   "metadata": {},
   "source": [
    "## 15.2 What influences performance?"
   ]
  },
  {
   "cell_type": "markdown",
   "metadata": {},
   "source": [
    "<img src=\"imgs\\s15\\s15-1.png\" width=700 height=350 >"
   ]
  },
  {
   "cell_type": "markdown",
   "metadata": {},
   "source": [
    "---"
   ]
  },
  {
   "cell_type": "markdown",
   "metadata": {},
   "source": [
    "## 15.3 Understanding capped collections\n",
    "\n",
    "1. [Capped Collections](https://www.mongodb.com/docs/manual/core/capped-collections/#capped-collections)\n",
    "2. [`db.createCollection()`](https://www.mongodb.com/docs/manual/reference/method/db.createCollection/#db.createcollection--)\n",
    "\n",
    "3. [`$natural`](https://www.mongodb.com/docs/manual/reference/operator/query/natural/#-natural)"
   ]
  },
  {
   "cell_type": "markdown",
   "metadata": {},
   "source": [
    "> Capped collections are fixed-size collections that insert and retrieve documents based on insertion order.<br> Capped collections work similarly to circular buffers: **once a collection fills its allocated space, it makes room for new documents by overwriting the oldest documents** in the collection.\n",
    "\n",
    "- can be useful for: logs databases, cache applications"
   ]
  },
  {
   "cell_type": "code",
   "execution_count": null,
   "metadata": {
    "vscode": {
     "languageId": "javascript"
    }
   },
   "outputs": [],
   "source": [
    "// use performance\n",
    "\n",
    "db.createCollection( \"capped\", { capped: true, size: 10000, max: 3 })\n",
    "\n",
    "db.capped.insertOne( { name: \"Max\"})\n",
    "db.capped.insertOne( { name: \"Manu\"})\n",
    "db.capped.insertOne( { name: \"Anna\"})\n",
    "\n",
    "db.capped.find() // 3 documents, that is my maximum"
   ]
  },
  {
   "cell_type": "markdown",
   "metadata": {},
   "source": [
    "- Output da query acima:"
   ]
  },
  {
   "cell_type": "code",
   "execution_count": null,
   "metadata": {
    "vscode": {
     "languageId": "powershell"
    }
   },
   "outputs": [],
   "source": [
    "[\n",
    "    { _id: ObjectId('67fe6ac1c9b887e057b71236'), name: 'Max ' },\n",
    "    { _id: ObjectId('67fe6ac6c9b887e057b71237'), name: 'Manu' },\n",
    "    { _id: ObjectId('67fe6acac9b887e057b71238'), name: 'Anna' }\n",
    "]"
   ]
  },
  {
   "cell_type": "markdown",
   "metadata": {},
   "source": [
    "- Inserir um \"quarto\" documento:"
   ]
  },
  {
   "cell_type": "code",
   "execution_count": null,
   "metadata": {
    "vscode": {
     "languageId": "javascript"
    }
   },
   "outputs": [],
   "source": [
    "db.capped.find().sort({ $natural: -1} ) // busca na ordem reversa à natural\n",
    "\n",
    "db.capped.insertOne( { name: \"Maria\"})\n",
    "db.capped.find() // 3 documents, that is my maximum"
   ]
  },
  {
   "cell_type": "markdown",
   "metadata": {},
   "source": [
    "- Output da query acima:\n",
    "    - o primeiro documento adicionado (Max) foi removido, para dar espaço ao novo documento\n",
    "    - funciona como um FIFO"
   ]
  },
  {
   "cell_type": "code",
   "execution_count": null,
   "metadata": {
    "vscode": {
     "languageId": "powershell"
    }
   },
   "outputs": [],
   "source": [
    "[\n",
    "    { _id: ObjectId('67fe6ac6c9b887e057b71237'), name: 'Manu' },\n",
    "    { _id: ObjectId('67fe6acac9b887e057b71238'), name: 'Anna' },\n",
    "    { _id: ObjectId('67fe6bb7c9b887e057b71239'), name: 'Maria' }\n",
    "  ]"
   ]
  },
  {
   "cell_type": "markdown",
   "metadata": {},
   "source": [
    "---"
   ]
  },
  {
   "cell_type": "markdown",
   "metadata": {},
   "source": [
    "## 15.4 What are Replica sets?"
   ]
  },
  {
   "cell_type": "markdown",
   "metadata": {},
   "source": [
    "> `replica set`: a cluster of MongoDB servers that **implements replication and automated failover**. MongoDB's recommended replication strategy. See [Replication](https://www.mongodb.com/docs/manual/replication/#replication)."
   ]
  },
  {
   "cell_type": "markdown",
   "metadata": {},
   "source": [
    "<img src=\"imgs\\s15\\s15-2.png\" width=600 height=350 >\n",
    "<img src=\"imgs\\s15\\s15-3.png\" width=600 height=350 >"
   ]
  },
  {
   "cell_type": "markdown",
   "metadata": {},
   "source": [
    "- Why use Replica Sets?\n",
    "    - Backup / Fault tolerancy\n",
    "    - Improve Read Performance\n",
    "\n",
    "- É possível configurar o servidor para que as escritas interajam somente com o \"primary node\", mas as leituras possam ser distribuídas para qualquer \"secondary node\" existente\n",
    "- Dessa forma garantirmos que conseguimos ler os dados da forma mais rápida possível\n"
   ]
  },
  {
   "cell_type": "markdown",
   "metadata": {},
   "source": [
    "---"
   ]
  },
  {
   "cell_type": "markdown",
   "metadata": {},
   "source": [
    "## 15.5 Understanding Sharding\n",
    "\n",
    "1. [Sharding](https://www.mongodb.com/docs/manual/sharding/#sharding)"
   ]
  },
  {
   "cell_type": "markdown",
   "metadata": {},
   "source": [
    "> Sharding is a method for distributing data across multiple machines. <br>MongoDB uses sharding to support deployments with very large data sets and high throughput operations.\n",
    "\n",
    "> Sharding is database architecture that partitions data by key ranges and distributes the data among two or more database instances. Sharding enables horizontal scaling"
   ]
  },
  {
   "cell_type": "markdown",
   "metadata": {},
   "source": [
    "- Sharding = Horizontal Scaling\n",
    "- Serves DON'T duplicate the data, instead they are SPLITING the data\n",
    "\n",
    "    <img src=\"imgs\\s15\\s15-4.png\" width=600 height=350 >\n",
    "    <br>\n",
    "    <img src=\"imgs\\s15\\s15-5.png\" width=600 height=350 >"
   ]
  },
  {
   "cell_type": "markdown",
   "metadata": {},
   "source": [
    "- How Queries work:\n",
    "\n",
    "    <img src=\"imgs\\s15\\s15-6.png\" width=600 height=300 >"
   ]
  },
  {
   "cell_type": "markdown",
   "metadata": {},
   "source": [
    "---"
   ]
  },
  {
   "cell_type": "markdown",
   "metadata": {},
   "source": [
    "## 15.6 Deploying a MongoDB Server"
   ]
  },
  {
   "cell_type": "markdown",
   "metadata": {},
   "source": [
    "<img src=\"imgs\\s15\\s15-7.png\" width=600 height=350 >\n",
    "\n",
    "- MongoDB Atlas is a Managed Solution:\n",
    "\n",
    "    <img src=\"imgs\\s15\\s15-8.png\" width=600 height=350 >"
   ]
  },
  {
   "cell_type": "markdown",
   "metadata": {},
   "source": [
    "---"
   ]
  },
  {
   "cell_type": "markdown",
   "metadata": {},
   "source": [
    "## 15.7 Using MongoDB Atlas\n",
    "\n",
    "1. [Atlas](https://www.mongodb.com/atlas)\n",
    "2. [Get Started with Atlas](https://www.mongodb.com/docs/atlas/getting-started/#get-started-with-atlas)\n",
    "\n",
    "(_not created for cost reasons_)"
   ]
  },
  {
   "cell_type": "markdown",
   "metadata": {},
   "source": [
    "- Screenshot do instrutor do curso:\n",
    "\n",
    "    <img src=\"imgs\\s15\\s15-8.png\" width=600 height=350 >"
   ]
  },
  {
   "cell_type": "markdown",
   "metadata": {},
   "source": [
    "- Add New User:\n",
    "\n",
    "    <img src=\"imgs\\s15\\s15-10.png\" width=600 height=500 >"
   ]
  },
  {
   "cell_type": "markdown",
   "metadata": {},
   "source": [
    "- IP whitelist:\n",
    "    - Add current IP address = IP da máquina local\n",
    "    - Allow access from anywhere = ainda requer credenciais de usuário, mas mantém a conexão aberta para qualquer lugar\n",
    "\n",
    "    <img src=\"imgs\\s15\\s15-11.png\" width=600 height=350 >"
   ]
  },
  {
   "cell_type": "markdown",
   "metadata": {},
   "source": [
    "---"
   ]
  },
  {
   "cell_type": "markdown",
   "metadata": {},
   "source": [
    "## 15.8 Backups & Setting alerts in MongoDB Atlas\n",
    "\n",
    "1. [Dedicated Cluster Backups](https://www.mongodb.com/docs/atlas/backup/cloud-backup/dedicated-cluster-backup/#dedicated-cluster-backups)\n",
    "2. [Back Up Your Cluster](https://www.mongodb.com/docs/atlas/backup/cloud-backup/overview/#back-up-your-cluster)\n",
    "3. [Configure and Resolve Alerts](https://www.mongodb.com/docs/atlas/alerts/#configure-and-resolve-alerts)"
   ]
  },
  {
   "cell_type": "markdown",
   "metadata": {},
   "source": [
    "- Alerts page in Atlas:\n",
    "\n",
    "    <img src=\"imgs\\s15\\s15-12.png\" width=800 height=500 >"
   ]
  },
  {
   "cell_type": "markdown",
   "metadata": {},
   "source": [
    "---"
   ]
  },
  {
   "cell_type": "markdown",
   "metadata": {},
   "source": [
    "## 15.9 Connecting to our cluster\n",
    "\n",
    "1. [Connect to a Cluster](https://www.mongodb.com/docs/atlas/connect-to-database-deployment/#connect-to-a-cluster)"
   ]
  },
  {
   "cell_type": "markdown",
   "metadata": {},
   "source": [
    "1. Click \"connect\"\n",
    "2. Click \"connect with the Mongo Shell\"\n",
    "\n",
    "    <img src=\"imgs\\s15\\s15-13.png\" width=800 height=400 >"
   ]
  },
  {
   "cell_type": "markdown",
   "metadata": {},
   "source": [
    "3. Copy the command for Shell:\n",
    "\n",
    "    <img src=\"imgs\\s15\\s15-14.png\" width=500 height=500 >"
   ]
  },
  {
   "cell_type": "markdown",
   "metadata": {
    "vscode": {
     "languageId": "powershell"
    }
   },
   "source": [
    "4. Insert the command copied into a cmd shell (not connected to mongosh)"
   ]
  },
  {
   "cell_type": "markdown",
   "metadata": {},
   "source": [
    "---"
   ]
  },
  {
   "cell_type": "markdown",
   "metadata": {},
   "source": [
    "## 15.10 Wrap up"
   ]
  },
  {
   "cell_type": "markdown",
   "metadata": {},
   "source": [
    "<img src=\"imgs\\s15\\s15-15.png\" width=700 height=400 >"
   ]
  },
  {
   "cell_type": "markdown",
   "metadata": {},
   "source": [
    "---"
   ]
  },
  {
   "cell_type": "markdown",
   "metadata": {},
   "source": [
    "## 15.11 Useful resources and links"
   ]
  },
  {
   "cell_type": "markdown",
   "metadata": {},
   "source": [
    "> Useful Articles/ Docs:\n",
    ">\n",
    "> - Official Docs on Replica Sets: https://docs.mongodb.com/manual/replication/\n",
    "> - Official Docs on Sharding: https://docs.mongodb.com/manual/sharding/"
   ]
  }
 ],
 "metadata": {
  "language_info": {
   "name": "python"
  }
 },
 "nbformat": 4,
 "nbformat_minor": 2
}
