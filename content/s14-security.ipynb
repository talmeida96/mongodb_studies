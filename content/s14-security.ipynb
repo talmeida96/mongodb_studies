{
 "cells": [
  {
   "cell_type": "markdown",
   "metadata": {},
   "source": [
    "# 14. MongoDB & SECURITY\n",
    "\n",
    "_(50min)_\n",
    "\n",
    "1. [Security](https://www.mongodb.com/docs/ops-manager/current/tutorial/nav/security/#security)"
   ]
  },
  {
   "cell_type": "markdown",
   "metadata": {},
   "source": [
    "## 14.1 Module introduction"
   ]
  },
  {
   "cell_type": "markdown",
   "metadata": {},
   "source": [
    "- O módulo trata dos 3 primeiros blocos:\n",
    "\n",
    "    <img src=\"..\\imgs\\s14\\s14-1.png\" width=600 height=300 >"
   ]
  },
  {
   "cell_type": "markdown",
   "metadata": {},
   "source": [
    "---"
   ]
  },
  {
   "cell_type": "markdown",
   "metadata": {},
   "source": [
    "## 14.2 Understanding role based access control\n",
    "\n",
    "1. [Configure MongoDB Authentication and Authorization](https://www.mongodb.com/docs/ops-manager/current/tutorial/edit-host-authentication-credentials/#configure-mongodb-authentication-and-authorization)"
   ]
  },
  {
   "cell_type": "markdown",
   "metadata": {},
   "source": [
    "<img src=\"..\\imgs\\s14\\s14-2.png\" width=700 height=400 >\n",
    "\n",
    "- Role based access control:\n",
    "\n",
    "    <img src=\"..\\imgs\\s14\\s14-3.png\" width=700 height=400 >"
   ]
  },
  {
   "cell_type": "markdown",
   "metadata": {},
   "source": [
    "---"
   ]
  },
  {
   "cell_type": "markdown",
   "metadata": {},
   "source": [
    "## 14.3 Roles - Examples\n",
    "\n",
    "1. [Manage Custom Roles](https://www.mongodb.com/docs/ops-manager/current/tutorial/manage-mongodb-roles/#manage-custom-roles)"
   ]
  },
  {
   "cell_type": "markdown",
   "metadata": {},
   "source": [
    "<img src=\"..\\imgs\\s14\\s14-4.png\" width=700 height=400 >"
   ]
  },
  {
   "cell_type": "markdown",
   "metadata": {},
   "source": [
    "---"
   ]
  },
  {
   "cell_type": "markdown",
   "metadata": {},
   "source": [
    "## 14.4 Creating a User\n",
    "\n",
    "1. [Manage MongoDB Users](https://www.mongodb.com/docs/ops-manager/current/tutorial/manage-mongodb-users/#manage-mongodb-users)\n",
    "2. [createUser](https://www.mongodb.com/docs/manual/reference/command/createUser/#createuser)\n",
    "3. [db.createUser()](https://www.mongodb.com/docs/manual/reference/method/db.createUser/#db.createuser--)\n",
    "4. [`db.auth()`](https://www.mongodb.com/docs/manual/reference/method/db.auth/#db.auth--)"
   ]
  },
  {
   "cell_type": "markdown",
   "metadata": {},
   "source": [
    "> `createUser`: creates a new user on the database where you run the command. The `createUser` command returns a duplicate user error if the user exists.\n",
    "\n",
    ">`db.createUser(user, writeConcern)`:\n",
    ">\n",
    "> Creates a new user for the database on which the method is run. `db.createUser()` returns a duplicate user error if the user already exists on the database.\n",
    "\n",
    "| Field          | Type     | Description                                                                                                                                                                                                                                                         |\n",
    "| -------------- | -------- | ------------------------------------------------------------------------------------------------------------------------------------------------------------------------------------------------------------------------------------------------------------------- |\n",
    "| `user`         | document | The document with authentication and access information about the user to create.                                                                                                                                                                                   |\n",
    "| `writeConcern` | document | Optional. The level of [write concern](https://www.mongodb.com/docs/manual/reference/write-concern/#std-label-write-concern) for the operation. See [Write Concern Specification.](https://www.mongodb.com/docs/manual/reference/write-concern/#std-label-wc-specs) |\n"
   ]
  },
  {
   "cell_type": "markdown",
   "metadata": {},
   "source": [
    "<img src=\"..\\imgs\\s14\\s14-5.png\" width=700 height=400 >"
   ]
  },
  {
   "cell_type": "markdown",
   "metadata": {},
   "source": [
    "- [`db.auth()`](https://www.mongodb.com/docs/manual/reference/method/db.auth/#db.auth--)"
   ]
  },
  {
   "cell_type": "code",
   "execution_count": null,
   "metadata": {
    "vscode": {
     "languageId": "javascript"
    }
   },
   "outputs": [],
   "source": [
    "// use admin\n",
    "\n",
    "db.createUser( { user: \"Max\", pwd: \"max\", roles: [ \"userAdminAnyDatabase\" ] })\n",
    "\n",
    "db.auth(\"Max\", \"max\")"
   ]
  },
  {
   "cell_type": "markdown",
   "metadata": {},
   "source": [
    "----"
   ]
  },
  {
   "cell_type": "markdown",
   "metadata": {},
   "source": [
    "## 14.5 Built-in roles - An overview\n",
    "\n",
    "1.[Built-In Roles](https://www.mongodb.com/docs/manual/reference/built-in-roles/#built-in-roles)"
   ]
  },
  {
   "cell_type": "markdown",
   "metadata": {},
   "source": [
    "> A role grants privileges to perform sets of [actions](https://www.mongodb.com/docs/manual/reference/privilege-actions/#privilege-actions) on defined [resources](https://www.mongodb.com/docs/manual/reference/resource-document/#resource-document-on-self-managed-deployments).<br>A given role applies to the database on which it is defined and can grant access down to a collection level of granularity."
   ]
  },
  {
   "cell_type": "markdown",
   "metadata": {},
   "source": [
    "<img src=\"..\\imgs\\s14\\s14-6.png\" width=600 height=300 >"
   ]
  },
  {
   "cell_type": "markdown",
   "metadata": {},
   "source": [
    "---"
   ]
  },
  {
   "cell_type": "markdown",
   "metadata": {},
   "source": [
    "## 14.6 Assigning roles to Users and Databases"
   ]
  },
  {
   "cell_type": "markdown",
   "metadata": {},
   "source": [
    "- Logar no servidor já conectado a um usuário criado:"
   ]
  },
  {
   "cell_type": "code",
   "execution_count": null,
   "metadata": {
    "vscode": {
     "languageId": "shellscript"
    }
   },
   "outputs": [],
   "source": [
    "mongosh -u Max -p max --authenticationDatabase admin"
   ]
  },
  {
   "cell_type": "markdown",
   "metadata": {},
   "source": [
    "- Criar um novo usuário e autenticar-se no banco com ele:"
   ]
  },
  {
   "cell_type": "code",
   "execution_count": null,
   "metadata": {
    "vscode": {
     "languageId": "javascript"
    }
   },
   "outputs": [],
   "source": [
    "// use shop\n",
    "\n",
    "db.createUser( { user: 'appdev', pwd: 'dev', roles: [ \"readWrite\" ]}) // { ok: 1 }\n",
    "\n",
    "db.auth('appdev', 'dev') // { ok: 1 }"
   ]
  },
  {
   "cell_type": "code",
   "execution_count": null,
   "metadata": {
    "vscode": {
     "languageId": "powershell"
    }
   },
   "outputs": [],
   "source": [
    "show users\n",
    "\n",
    "[\n",
    "    {\n",
    "      _id: 'shop.appdev',\n",
    "      userId: UUID('76c884e3-3cbe-49ba-a0d2-525a7bb3f2a2'),\n",
    "      user: 'appdev',\n",
    "      db: 'shop',\n",
    "      roles: [ { role: 'readWrite', db: 'shop' } ],\n",
    "      mechanisms: [ 'SCRAM-SHA-1', 'SCRAM-SHA-256' ]\n",
    "    }\n",
    "  ]"
   ]
  },
  {
   "cell_type": "markdown",
   "metadata": {},
   "source": [
    "- Inserir dados na coleção:"
   ]
  },
  {
   "cell_type": "code",
   "execution_count": null,
   "metadata": {
    "vscode": {
     "languageId": "javascript"
    }
   },
   "outputs": [],
   "source": [
    "db.products.insertOne( { name: \"Book\" }) // era para retornar um erro, pois mais de 1 usuário está autenticado (mas não aconteceu)"
   ]
  },
  {
   "cell_type": "markdown",
   "metadata": {},
   "source": [
    "---"
   ]
  },
  {
   "cell_type": "markdown",
   "metadata": {},
   "source": [
    "## 14.7 Updating and extending roles to Other databases\n",
    "\n",
    "1. [updateUser](https://www.mongodb.com/docs/manual/reference/command/updateUser/#updateuser)\n",
    "2. [`db.updateUser()`](https://www.mongodb.com/docs/manual/reference/method/db.updateUser/#db.updateuser--)"
   ]
  },
  {
   "cell_type": "markdown",
   "metadata": {},
   "source": [
    "> `db.updateUser( username, update, writeConcern )`\n",
    ">\n",
    "> Updates the user's profile on the database on which you run the method.<br>\n",
    "An update to a field completely replaces the previous field's values.<br>\n",
    "This includes updates to the user's roles array.\n"
   ]
  },
  {
   "cell_type": "markdown",
   "metadata": {},
   "source": [
    "- Atualizar a criação de um usuário:\n",
    "    - as atualização não \"incrementam\" as `roles` do usuário, mas as substituem completamente\n",
    "    - é possível dar acesso ao usuário a novas collections, incluindo uma nova `role` dentro das `roles` atuais, conforme exemplo"
   ]
  },
  {
   "cell_type": "code",
   "execution_count": null,
   "metadata": {
    "vscode": {
     "languageId": "javascript"
    }
   },
   "outputs": [],
   "source": [
    "db.updateUser(\"appdev\", { roles: [ \"readWrite\", { role: \"readWrite\", db: \"blog\" } ]} )"
   ]
  },
  {
   "cell_type": "markdown",
   "metadata": {},
   "source": [
    "- ocorre um erro pois foi tentado executar o comando logado com o usuário \"appdev\", que somente tem acesso \"readWrite\" à collection \"shop\"\n",
    "- é necessário realizar o logout deste usuário e logar com o usuário admin \"Max\" para execução do comando"
   ]
  },
  {
   "cell_type": "code",
   "execution_count": null,
   "metadata": {
    "vscode": {
     "languageId": "powershell"
    }
   },
   "outputs": [],
   "source": [
    "db.logout()\n",
    "\n",
    "use admin\n",
    "\n",
    "db.auth(\"Max\", \"max\")"
   ]
  },
  {
   "cell_type": "code",
   "execution_count": null,
   "metadata": {
    "vscode": {
     "languageId": "javascript"
    }
   },
   "outputs": [],
   "source": [
    "db.updateUser(\"appdev\", { roles: [ \"readWrite\", { role: \"readWrite\", db: \"blog\" } ]} ) // { ok: 1 }\n",
    "\n",
    "db.getUser()"
   ]
  },
  {
   "cell_type": "markdown",
   "metadata": {},
   "source": [
    "- Resultado da busca `db.getUser()`:"
   ]
  },
  {
   "cell_type": "code",
   "execution_count": null,
   "metadata": {
    "vscode": {
     "languageId": "powershell"
    }
   },
   "outputs": [],
   "source": [
    "{\n",
    "    _id: 'shop.appdev',\n",
    "    userId: UUID('76c884e3-3cbe-49ba-a0d2-525a7bb3f2a2'),\n",
    "    user: 'appdev',\n",
    "    db: 'shop',\n",
    "    roles: [\n",
    "      { role: 'readWrite', db: 'shop' },\n",
    "      { role: 'readWrite', db: 'blog' }\n",
    "    ],\n",
    "    mechanisms: [ 'SCRAM-SHA-1', 'SCRAM-SHA-256' ]\n",
    "  }"
   ]
  },
  {
   "cell_type": "markdown",
   "metadata": {},
   "source": [
    "---"
   ]
  },
  {
   "cell_type": "markdown",
   "metadata": {},
   "source": [
    "## 14.8 Assignment 8: Time to Practice - Security"
   ]
  },
  {
   "cell_type": "markdown",
   "metadata": {},
   "source": [
    "<img src=\"..\\imgs\\s14\\s14-7.png\" width=600 height=150 >"
   ]
  },
  {
   "cell_type": "markdown",
   "metadata": {},
   "source": [
    "### 14.8.1 Database Admin\n",
    "\n",
    "1. [userAdminAnyDatabase](https://www.mongodb.com/docs/manual/reference/built-in-roles/#mongodb-authrole-userAdminAnyDatabase)"
   ]
  },
  {
   "cell_type": "code",
   "execution_count": null,
   "metadata": {
    "vscode": {
     "languageId": "powershell"
    }
   },
   "outputs": [],
   "source": [
    "use admin # indo para o ambiente do admin\n",
    "\n",
    "db.createUser({ \n",
    "    user: \"Max\", \n",
    "    pwd: \"max\", \n",
    "    roles: [ \n",
    "        \"userAdminAnyDatabase\" \n",
    "    ]\n",
    "}) # criação do \"super usuário\"\n",
    "\n",
    "db.auth(\"Max\", \"max\") # autenticação com o usuário \n",
    "\n",
    "# mongo -u Max -p max --authenticationDatabase admin"
   ]
  },
  {
   "cell_type": "markdown",
   "metadata": {},
   "source": [
    "### 14.8.2 User Admin\n",
    "\n",
    "1. [dbAdminAnyDatabase](https://www.mongodb.com/docs/manual/reference/built-in-roles/#mongodb-authrole-dbAdminAnyDatabase)"
   ]
  },
  {
   "cell_type": "code",
   "execution_count": null,
   "metadata": {
    "vscode": {
     "languageId": "powershell"
    }
   },
   "outputs": [],
   "source": [
    "db.createUser({ \n",
    "    user: \"globalAdmin\", \n",
    "    pwd: \"admin\", \n",
    "    roles: [ \n",
    "        \"dbAdminAnyDatabase\" \n",
    "    ]\n",
    "}) # criação do usuário admin\n",
    "\n",
    "# mongo -u globalAdmin -p admin --authenticationDatabase admin"
   ]
  },
  {
   "cell_type": "markdown",
   "metadata": {},
   "source": [
    "### 14.8.3 Developer"
   ]
  },
  {
   "cell_type": "code",
   "execution_count": null,
   "metadata": {
    "vscode": {
     "languageId": "powershell"
    }
   },
   "outputs": [],
   "source": [
    "db.createUser({ \n",
    "    user: \"dev\", \n",
    "    pwd: \"dev\", \n",
    "    roles: [ \n",
    "        { role: \"readWrite\", db: \"customers\"},\n",
    "        { role: \"readWrite\", db: \"sales\"} \n",
    "    ]\n",
    "}) # criação do usuário developer com acesso à 2 collections\n",
    "\n",
    "# mongo -u dev -p dev --authenticationDatabase admin"
   ]
  },
  {
   "cell_type": "markdown",
   "metadata": {},
   "source": [
    "---"
   ]
  },
  {
   "cell_type": "markdown",
   "metadata": {},
   "source": [
    "## 14.9 Adding SSL Transport Encryption (_deprecated_)\n",
    "\n",
    "1. [Configure mongod and mongos for TLS/SSL](https://www.mongodb.com/docs/manual/tutorial/configure-ssl/#configure-mongod-and-mongos-for-tls-ssl)\n",
    "2. [Upgrade a Cluster to Use TLS/SSL](https://www.mongodb.com/docs/manual/tutorial/upgrade-cluster-to-ssl/#upgrade-a-cluster-to-use-tls-ssl)\n",
    "3. [TLS/SSL (Transport Encryption)](https://www.mongodb.com/docs/manual/core/security-transport-encryption/#tls-ssl--transport-encryption-)\n"
   ]
  },
  {
   "cell_type": "markdown",
   "metadata": {},
   "source": [
    "<img src=\"..\\imgs\\s14\\s14-8.png\" width=500 height=150 >"
   ]
  },
  {
   "cell_type": "markdown",
   "metadata": {},
   "source": [
    "- [openssl/binaries](https://github.com/openssl/openssl/wiki/Binaries) -> OpenSSL for Windows\n",
    "- [Download Win32/Win64 OpenSSL today using the links below!](https://slproweb.com/products/Win32OpenSSL.html) -> Win64 OpenSSL v3.5.0 Light\n",
    "\n",
    "- [How can I generate a self-signed SSL certificate using OpenSSL? [closed]](https://stackoverflow.com/questions/10175812/how-can-i-generate-a-self-signed-ssl-certificate-using-openssl)\n"
   ]
  },
  {
   "cell_type": "markdown",
   "metadata": {},
   "source": [
    "1. Em um cmd, navegar até a pasta \"OpenSSL-Win64\\bin\" e inserior o comando abaixo:\n",
    "\n",
    "    `openssl req -newkey rsa:2048 -new -x509 -days 365 -nodes -out mongodb-cert.crt -keyout mongodb-cert.key`"
   ]
  },
  {
   "cell_type": "code",
   "execution_count": null,
   "metadata": {
    "vscode": {
     "languageId": "shellscript"
    }
   },
   "outputs": [],
   "source": [
    "C:\\Program Files\\OpenSSL-Win64\\bin>openssl req -newkey rsa:2048 -new -x509 -days 365 -nodes -out mongodb-cert.crt -keyout mongodb-cert.key\n",
    ".....+....+..+....+++++++++++++++++++++++++++++++++++++++*.........+.+..+...+......+++++++++++++++++++++++++++++++++++++++*...+....+...........+...+............+.........+.+.........+.....+.........++++++\n",
    "...+....+...+.....+.......+..+.+++++++++++++++++++++++++++++++++++++++*.....+......+............+..+...+......+.+.........+.........+..+......+...+.......+.....+.......+......+......+...+++++++++++++++++++++++++++++++++++++++*......+......+.+........+.+........+.+......+......+..+......+......+....+.....+....+...+...+..+............+...+...+.+........+.......+...+..+...+.+...............+..+.......+.....+......+......+.+...............+.....+....+...........+....+......+..+...+...+....+..+...+.......++++++\n",
    "-----\n",
    "You are about to be asked to enter information that will be incorporated\n",
    "into your certificate request.\n",
    "What you are about to enter is what is called a Distinguished Name or a DN.\n",
    "There are quite a few fields but you can leave some blank\n",
    "For some fields there will be a default value,\n",
    "If you enter '.', the field will be left blank.\n",
    "-----\n",
    "Country Name (2 letter code) [AU]:\n",
    "State or Province Name (full name) [Some-State]:\n",
    "Locality Name (eg, city) []:\n",
    "Organization Name (eg, company) [Internet Widgits Pty Ltd]:\n",
    "Organizational Unit Name (eg, section) []:\n",
    "Common Name (e.g. server FQDN or YOUR name) []:localhost # no caso de uma aplicação real, aqui deve-se colocar o endereço do servidor de conexão\n",
    "Email Address []:max@test.com"
   ]
  },
  {
   "cell_type": "markdown",
   "metadata": {},
   "source": [
    "2. Utilizar o comando abaixo para gerar as chaves e certificados:\n",
    "\n",
    "    `type mongodb-cert.key mongodb-cert.crt > mongodb.pem`"
   ]
  },
  {
   "cell_type": "code",
   "execution_count": null,
   "metadata": {
    "vscode": {
     "languageId": "shellscript"
    }
   },
   "outputs": [],
   "source": [
    "mongodb-cert.key\n",
    "mongodb-cert.crt"
   ]
  },
  {
   "cell_type": "markdown",
   "metadata": {},
   "source": [
    "3. Copiar o conteúdo do certificado:\n",
    "\n",
    "    `copy mongodb-cert.crt mongodb-ca.crt`"
   ]
  },
  {
   "cell_type": "markdown",
   "metadata": {},
   "source": [
    "4. Conectar à instância com um dos comandos abaixo:\n",
    "\n",
    "    `mongod --tlsMode requireTLS --tlsCertificateKeyFile mongodb.pem --tlsCAFile mongodb-ca.crt`\n",
    "\n",
    "    `mongod --tlsMode requireTLS --tlsCertificateKeyFile mongodb.pem --tlsCAFile mongodb-ca.crt --tlsAllowInvalidCertificates`"
   ]
  },
  {
   "cell_type": "markdown",
   "metadata": {},
   "source": [
    "> NENHUM DOS COMANDOS OBTEVE ÊXITO NO WINDOWS, REVISAR O CONTEÚDO DESTE CAPÍTULO NOVAMENTE, SEM SEGUIR O CURSO."
   ]
  },
  {
   "cell_type": "markdown",
   "metadata": {},
   "source": [
    "---"
   ]
  },
  {
   "cell_type": "markdown",
   "metadata": {},
   "source": [
    "## 14.10 Encryption at REST\n",
    "\n",
    "1. [Encryption at Rest](https://www.mongodb.com/docs/manual/core/security-encryption-at-rest/#encryption-at-rest)"
   ]
  },
  {
   "cell_type": "markdown",
   "metadata": {},
   "source": [
    "<img src=\"..\\imgs\\s14\\s14-9.png\" width=550 height=300 >"
   ]
  },
  {
   "cell_type": "markdown",
   "metadata": {},
   "source": [
    "---"
   ]
  },
  {
   "cell_type": "markdown",
   "metadata": {},
   "source": [
    "## 14.11 Wrap up"
   ]
  },
  {
   "cell_type": "markdown",
   "metadata": {},
   "source": [
    "<img src=\"..\\imgs\\s14\\s14-10.png\" width=700 height=350 >"
   ]
  },
  {
   "cell_type": "markdown",
   "metadata": {},
   "source": [
    "---"
   ]
  },
  {
   "cell_type": "markdown",
   "metadata": {},
   "source": [
    "# 15.12 Useful resources and links"
   ]
  },
  {
   "cell_type": "markdown",
   "metadata": {},
   "source": [
    "> Helpful Articles/ Docs:\n",
    ">\n",
    "> - Official \"Encryption at Rest\" Docs: https://docs.mongodb.com/manual/core/security-encryption-at-rest/\n",
    "> - Official Security Checklist: https://docs.mongodb.com/manual/administration/security-checklist/\n",
    "> - What is SSL/ TLS? => https://www.acunetix.com/blog/articles/tls-security-what-is-tls-ssl-part-1/\n",
    "> - Official MongoDB SSL Setup Docs: https://docs.mongodb.com/manual/tutorial/configure-ssl/\n",
    "> - Official MongoDB Users & Auth Docs: https://docs.mongodb.com/manual/core/authentication/\n",
    "> - Official Built-in Roles Docs: https://docs.mongodb.com/manual/core/security-built-in-roles/\n",
    "> - Official Custom Roles Docs: https://docs.mongodb.com/manual/core/security-user-defined-roles/"
   ]
  }
 ],
 "metadata": {
  "language_info": {
   "name": "python"
  }
 },
 "nbformat": 4,
 "nbformat_minor": 2
}
