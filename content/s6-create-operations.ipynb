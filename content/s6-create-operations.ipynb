{
 "cells": [
  {
   "cell_type": "markdown",
   "id": "502b9de6",
   "metadata": {},
   "source": [
    "# 6. DIVING INTO CREATING OPERATIONS\n",
    "\n",
    "(_36min_)"
   ]
  },
  {
   "cell_type": "markdown",
   "id": "728c41e4",
   "metadata": {},
   "source": [
    "---"
   ]
  },
  {
   "cell_type": "markdown",
   "id": "39b7580d",
   "metadata": {},
   "source": [
    "## 6.1 Module introduction\n",
    "\n",
    "- Document Creating Methods (**CREATE**)\n",
    "- Importing Documents"
   ]
  },
  {
   "cell_type": "markdown",
   "id": "cfdd54e4",
   "metadata": {},
   "source": [
    "---"
   ]
  },
  {
   "cell_type": "markdown",
   "id": "328c6c23",
   "metadata": {},
   "source": [
    "## 6.2 Creating Documents - An Overview"
   ]
  },
  {
   "cell_type": "markdown",
   "id": "4a2c1bf7",
   "metadata": {},
   "source": [
    "<img src=\"..\\imgs\\s6\\s6-1.png\" width=700 height=400 >"
   ]
  },
  {
   "cell_type": "markdown",
   "id": "396857f9",
   "metadata": {},
   "source": [
    "---"
   ]
  },
  {
   "cell_type": "markdown",
   "id": "384fb1d3",
   "metadata": {},
   "source": [
    "## 6.3 Understanding \"insert()\" methods"
   ]
  },
  {
   "cell_type": "code",
   "execution_count": null,
   "id": "ae3751db",
   "metadata": {
    "vscode": {
     "languageId": "javascript"
    }
   },
   "outputs": [],
   "source": [
    "// use contactData\n",
    "\n",
    "db.persons.insertOne( { name: \"Max\", age: 30, hobbies: [ \"sports\", \"cooking\" ] } )\n",
    "db.persons.insertOne( { name: \"Manuel\", age: 31, hobbies: [ \"cars\", \"cooking\" ] } )\n",
    "\n",
    "db.persons.insertMany( [\n",
    "\t{ name: \"Anna\", age: 29, hobbies: [ \"sports\", \"yoga\" ] }\n",
    "] )\n",
    "\n",
    "db.persons.insertMany( [\n",
    "\t{ name: \"Maria\", age: 33, hobbies: [ \"sports\", \"yoga\" ] },\n",
    "\t{ name: \"Chris\", age: 32, hobbies: [ \"sports\", \"yoga\" ] }\n",
    "] )\n",
    "\n",
    "//insert() can still be used but it is not recommended\n",
    "db.persons.insert( { name: \"Phill\", age: 50 } )\n",
    "\n",
    "db.persons.insert( { name: \"Sand\", age: 22}, { name: \"Hans\", age: 34 } )"
   ]
  },
  {
   "cell_type": "markdown",
   "id": "f9a87e52",
   "metadata": {},
   "source": [
    "---"
   ]
  },
  {
   "cell_type": "markdown",
   "id": "f5190d55",
   "metadata": {},
   "source": [
    "## 6.4 Working with ordered inserts"
   ]
  },
  {
   "cell_type": "code",
   "execution_count": null,
   "id": "0572c41d",
   "metadata": {
    "vscode": {
     "languageId": "javascript"
    }
   },
   "outputs": [],
   "source": [
    "db.hobbies.insertMany( [\n",
    "\t{ _id: \"sports\" , name: \"sports\" },\n",
    "\t{ _id: \"cooking\" , name: \"cooking\" },\n",
    "\t{ _id: \"cars\" , name: \"cars\" }\n",
    "] )\n",
    "\n",
    "// o hobbie \"cooking\" tem um id que já existe\n",
    "// gera um erro de id duplicado (vide print)\n",
    "// cria somente os novos ids que estavam ordenados ANTES do id duplicado e ignora os que estavam depois\n",
    "db.hobbies.insertMany( [\n",
    "\t{ _id: \"yoga\" , name: \"yoga\" },\n",
    "\t{ _id: \"cooking\" , name: \"cooking\" },\n",
    "\t{ _id: \"hiking\" , name: \"hiking\" }\n",
    "] )\n",
    "\n",
    "// abaixo está incluido a opção \"ordered\" que por padrão é true (onde o mongo fará a inserção ordenada)\n",
    "// se o ordered estiver como \"falso\" e alguma inserção falhar, ele ignora esta linha e continua nas próximas\n",
    "db.hobbies.insertMany( [\n",
    "\t{ _id: \"yoga\" , name: \"yoga\" },\n",
    "\t{ _id: \"cooking\" , name: \"cooking\" },\n",
    "\t{ _id: \"hiking\" , name: \"hiking\" }\n",
    "], { ordered: false } )"
   ]
  },
  {
   "cell_type": "markdown",
   "id": "a7985971",
   "metadata": {},
   "source": [
    "<img src=\"..\\imgs\\s6\\s6-2.png\" width=700 height=400 >\n",
    "<br>\n",
    "<img src=\"..\\imgs\\s6\\s6-3.png\" width=700 height=400 >"
   ]
  },
  {
   "cell_type": "markdown",
   "id": "c18d7510",
   "metadata": {},
   "source": [
    "---"
   ]
  },
  {
   "cell_type": "markdown",
   "id": "865d7724",
   "metadata": {},
   "source": [
    "## 6.5 Understanding the \"writeConcern\""
   ]
  },
  {
   "cell_type": "markdown",
   "id": "d2691441",
   "metadata": {},
   "source": [
    "> To provide durability in the event of a failure, MongoDB uses write ahead logging to on-disk [journal](https://www.mongodb.com/docs/manual/core/journaling/) files.\n",
    "\n",
    "<img src=\"..\\imgs\\s6\\s6-4.png\" width=700 height=400 >"
   ]
  },
  {
   "cell_type": "markdown",
   "id": "c79dfe4e",
   "metadata": {},
   "source": [
    "---"
   ]
  },
  {
   "cell_type": "markdown",
   "id": "79aea43a",
   "metadata": {},
   "source": [
    "## 6.6 The \"writeConcern\" in practice"
   ]
  },
  {
   "cell_type": "code",
   "execution_count": null,
   "id": "82538157",
   "metadata": {
    "vscode": {
     "languageId": "javascript"
    }
   },
   "outputs": [],
   "source": [
    "db.persons.insertOne( { name: \"John\", age: 43 }, { writeConcern: { w: 1, j: true } } ) //o j padrão é \"false\", o w é true\n",
    "\n",
    "db.persons.insertOne( { name: \"Alex\", age: 12 }, { writeConcern: { w: 1, j: true, wtimeout: 1 } } )"
   ]
  },
  {
   "cell_type": "markdown",
   "id": "ce060b68",
   "metadata": {},
   "source": [
    "---"
   ]
  },
  {
   "cell_type": "markdown",
   "id": "96063f88",
   "metadata": {},
   "source": [
    "## 6.7 What is atomicity?"
   ]
  },
  {
   "cell_type": "markdown",
   "id": "9b8f4c83",
   "metadata": {},
   "source": [
    ">An atomic operation is a write operation that either completes entirely or doesn't complete at all.<br>For distributed transactions, which involve writes to multiple documents, all writes to each document must succeed for the transaction to succeed.<br>Atomic operations cannot partially complete. See [Atomicity and Transactions](https://www.mongodb.com/docs/manual/core/write-operations-atomicity/ ).\n",
    "\n",
    "<img src=\"..\\imgs\\s6\\s6-5.png\" width=700 height=400 >"
   ]
  },
  {
   "cell_type": "markdown",
   "id": "e4aa08e0",
   "metadata": {},
   "source": [
    "---"
   ]
  },
  {
   "cell_type": "markdown",
   "id": "387a173a",
   "metadata": {},
   "source": [
    "## 6.8 Assignment 2: Time to Practice - CREATE OPERATIONS"
   ]
  },
  {
   "cell_type": "markdown",
   "id": "dd5923ab",
   "metadata": {},
   "source": [
    "### 6.8.1 Insert multiple companies (company data of your choice) into a collection - both with insertOne() and insertMany()"
   ]
  },
  {
   "cell_type": "code",
   "execution_count": null,
   "id": "990afa09",
   "metadata": {
    "vscode": {
     "languageId": "javascript"
    }
   },
   "outputs": [],
   "source": [
    "db.companies.insertOne( { name: \"Flex\", address: \"Av. Liberdade\", market: [\"tech\", \"health\", \"automotive\"] } )\n",
    "\n",
    "db.companies.insertMany( [ \n",
    "\t{ name: \"ABB\", address: \"Av. Liberdade\", market: [\"industrial\", \"energy\"] },\n",
    "\t{ name: \"Nextracker\", address: \"Av. Liberdade\", market: [\"solar\"] }\n",
    "] )"
   ]
  },
  {
   "cell_type": "markdown",
   "id": "7a214be6",
   "metadata": {},
   "source": [
    "### 6.8.2 Deliberately insert duplicate ID data and \"fix\" failling additions with unordered inserts"
   ]
  },
  {
   "cell_type": "code",
   "execution_count": null,
   "id": "7770fff1",
   "metadata": {
    "vscode": {
     "languageId": "javascript"
    }
   },
   "outputs": [],
   "source": [
    "db.companies.insertMany( [ \n",
    "\t{ _id: ObjectId('67ebe6120039c3d63eb71240'), name: \"ABB\", address: \"Av. Liberdade\", market: [\"industrial\", \"energy\"] },\n",
    "\t{ name: \"ZF\", address: \"Éden\", market: [\"mechanic\", \"automotive\"] }\n",
    "] )\n",
    "\n",
    "// fix:\n",
    "db.companies.insertMany( [ \n",
    "\t{ _id: ObjectId('67ebe6120039c3d63eb71240'), name: \"ABB\", address: \"Av. Liberdade\", market: [\"industrial\", \"energy\"] },\n",
    "\t{ name: \"ZF\", address: \"Éden\", market: [\"mechanic\", \"automotive\"] }\n",
    "], { ordered: false } )"
   ]
  },
  {
   "cell_type": "markdown",
   "id": "fc4b045e",
   "metadata": {},
   "source": [
    "### 6.8.3 Write data for a new company with both journaling being guaranteed and not being guaranteed"
   ]
  },
  {
   "cell_type": "code",
   "execution_count": null,
   "id": "88327b65",
   "metadata": {
    "vscode": {
     "languageId": "javascript"
    }
   },
   "outputs": [],
   "source": [
    "db.companies.insertOne( { name: \"Flex2\", address: \"Av. Liberdade\", market: [\"tech\", \"health\", \"automotive\"] }, { writeConcern: { w: 1, j: true } } )\n",
    "\n",
    "db.companies.insertOne( { name: \"Flex3\", address: \"Av. Liberdade\", market: [\"tech\", \"health\", \"automotive\"] }, { writeConcern: { w: 1, j: false} } )"
   ]
  },
  {
   "cell_type": "markdown",
   "id": "45722958",
   "metadata": {},
   "source": [
    "---"
   ]
  },
  {
   "cell_type": "markdown",
   "id": "925ba954",
   "metadata": {},
   "source": [
    "## 6.9 Importing data"
   ]
  },
  {
   "cell_type": "code",
   "execution_count": null,
   "id": "9a221af0",
   "metadata": {
    "vscode": {
     "languageId": "powershell"
    }
   },
   "outputs": [],
   "source": [
    "mongoimport tv-shows.json -d movieData -c movies --jsonArray --drop\n",
    "\n",
    "mongoimport <file-name>\n",
    "-d <database-name>\n",
    "-c <collection-name>\n",
    "--jsonArray # informa o mongo que há +1 documento a ser adicionado\n",
    "--drop # se já existir um database com este nome, ele será excluído e recriado. sem o drop simplesmente é feito o append"
   ]
  },
  {
   "cell_type": "markdown",
   "id": "e2871173",
   "metadata": {},
   "source": [
    "<img src=\"..\\imgs\\s6\\s6-6.png\" width=800 height=100 >\n",
    "\n",
    "- precisa ter o MongoDB database tools instalado\n",
    "- precisa ter o \"bin folder\" no PATH das variáveis de ambiente\n",
    "- https://stackoverflow.com/questions/15053893/mongo-command-not-recognized-when-trying-to-connect-to-a-mongodb-server/41507803#41507803\n",
    "\n",
    "<img src=\"..\\imgs\\s6\\s6-7.png\" width=550 height=500 >"
   ]
  },
  {
   "cell_type": "markdown",
   "id": "17e9b00b",
   "metadata": {},
   "source": [
    "---"
   ]
  },
  {
   "cell_type": "markdown",
   "id": "bc407558",
   "metadata": {},
   "source": [
    "## 6.10 Wrap up"
   ]
  },
  {
   "cell_type": "markdown",
   "id": "089e2952",
   "metadata": {},
   "source": [
    "<img src=\"..\\imgs\\s6\\s6-8.png\" width=700 height=500 >"
   ]
  },
  {
   "cell_type": "markdown",
   "id": "b2d6808e",
   "metadata": {},
   "source": [
    "---"
   ]
  },
  {
   "cell_type": "markdown",
   "id": "d24bbe3a",
   "metadata": {},
   "source": [
    "## 6.11 Useful resources and links"
   ]
  },
  {
   "cell_type": "markdown",
   "id": "d7ae22b7",
   "metadata": {},
   "source": [
    "> Helpful Articles/ Docs:\n",
    "> \n",
    "> - insertOne(): https://docs.mongodb.com/manual/reference/method/db.collection.insertOne/\n",
    "> - insertMany(): https://docs.mongodb.com/manual/reference/method/db.collection.insertMany/\n",
    "> - Atomicity: https://docs.mongodb.com/manual/core/write-operations-atomicity/#atomicity\n",
    "> - Write Concern: https://docs.mongodb.com/manual/reference/write-concern/\n",
    "> - Using mongoimport: https://docs.mongodb.com/manual/reference/program/mongoimport/index.html"
   ]
  }
 ],
 "metadata": {
  "language_info": {
   "name": "python"
  }
 },
 "nbformat": 4,
 "nbformat_minor": 5
}
