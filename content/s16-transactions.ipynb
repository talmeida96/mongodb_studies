{
 "cells": [
  {
   "cell_type": "markdown",
   "metadata": {},
   "source": [
    "# 16. TRANSACTIONS\n",
    "\n",
    "(_13min_)"
   ]
  },
  {
   "cell_type": "markdown",
   "metadata": {},
   "source": [
    "## 16.1 Module introduction\n",
    "\n",
    "1. [Transactions](https://www.mongodb.com/docs/manual/core/transactions/#transactions)"
   ]
  },
  {
   "cell_type": "markdown",
   "metadata": {},
   "source": [
    "---"
   ]
  },
  {
   "cell_type": "markdown",
   "metadata": {},
   "source": [
    "## 16.2 What are transactions?"
   ]
  },
  {
   "cell_type": "markdown",
   "metadata": {},
   "source": [
    "Operations either succed together or they fail together and rollback!"
   ]
  },
  {
   "cell_type": "markdown",
   "metadata": {},
   "source": [
    "<img src=\"imgs\\s16\\s16-1.png\" width=700 height=300 >"
   ]
  },
  {
   "cell_type": "markdown",
   "metadata": {},
   "source": [
    "---"
   ]
  },
  {
   "cell_type": "markdown",
   "metadata": {},
   "source": [
    "## 16.3 A typical usecase"
   ]
  },
  {
   "cell_type": "code",
   "execution_count": null,
   "metadata": {
    "vscode": {
     "languageId": "javascript"
    }
   },
   "outputs": [],
   "source": [
    "// use blog\n",
    "\n",
    "db.users.insertOne( { name: \"Max\" })\n",
    "\n",
    "db.posts.insertMany( [\n",
    "    { title: \"First post\", userId: ObjectId('67fe907cc9b887e057b7123a') },\n",
    "    { title: \"Second post\", userId: ObjectId('67fe907cc9b887e057b7123a') }\n",
    "])\n",
    "\n",
    "// exemplo de uma das possibilidades de exclusão do usuário e seus respectivos posts:\n",
    "db.users.deleteOne({ _id: ObjectId('67fe907cc9b887e057b7123a') })\n",
    "db.posts.deleteMany({ _id: ObjectId('67fe907cc9b887e057b7123a') })"
   ]
  },
  {
   "cell_type": "markdown",
   "metadata": {},
   "source": [
    "---"
   ]
  },
  {
   "cell_type": "markdown",
   "metadata": {},
   "source": [
    "## 16.4 How does a transaction work?\n",
    "\n",
    "1. [startSession](https://www.mongodb.com/docs/manual/reference/command/startSession/#startsession)\n",
    "2. [`Mongo.startSession()`](https://www.mongodb.com/docs/manual/reference/method/Mongo.startSession/#mongo.startsession--)\n",
    "3. [`Session.startTransaction()`](https://www.mongodb.com/docs/manual/reference/method/Session.startTransaction/#session.starttransaction--)\n",
    "4. [`Session.commitTransaction()`](https://www.mongodb.com/docs/manual/reference/method/Session.commitTransaction/#session.committransaction--)"
   ]
  },
  {
   "cell_type": "code",
   "execution_count": null,
   "metadata": {
    "vscode": {
     "languageId": "javascript"
    }
   },
   "outputs": [],
   "source": [
    "const session = db.getMongo().startSession()\n",
    "\n",
    "session.startTransaction()\n",
    "\n",
    "const usersCol = session.getDatabase(\"blog\").users\n",
    "const postsCol = session.getDatabase(\"blog\").posts\n",
    "\n",
    "db.users.find()\n",
    "\n",
    "usersCol.deleteOne( { _id: ObjectId('67fe907cc9b887e057b7123a') }) // not work\n",
    "postsCol.deleteMany( { _id: ObjectId('67fe907cc9b887e057b7123a') }) // nor work\n",
    "\n",
    "session.commitTransaction() // MongoServerError[IllegalOperation]: Transaction numbers are only allowed on a replica set member or mongos"
   ]
  },
  {
   "cell_type": "markdown",
   "metadata": {},
   "source": [
    "---"
   ]
  },
  {
   "cell_type": "markdown",
   "metadata": {},
   "source": [
    "## 16.5 Useful resources and links"
   ]
  },
  {
   "cell_type": "markdown",
   "metadata": {},
   "source": [
    ">Useful Articles/ Docs:\n",
    ">\n",
    "> - Official Docs on Transactions: https://docs.mongodb.com/manual/core/transactions/"
   ]
  }
 ],
 "metadata": {
  "language_info": {
   "name": "python"
  }
 },
 "nbformat": 4,
 "nbformat_minor": 2
}
